{
 "cells": [
  {
   "cell_type": "markdown",
   "metadata": {},
   "source": [
    "# Before you start :\n",
    "   - These exercises are related to the Subsetting and Descriptive Stats lessons.\n",
    "   - Keep in mind that you need to use some of the functions you learned in the previous lessons.\n",
    "   - All datasets are provided in the `your-code` folder of this lab.\n",
    "   - Elaborate your codes and outputs as much as you can.\n",
    "   - Try your best to answer the questions and complete the tasks and most importantly enjoy the process!!!"
   ]
  },
  {
   "cell_type": "markdown",
   "metadata": {},
   "source": [
    "#### Import all the libraries that are necessary"
   ]
  },
  {
   "cell_type": "code",
   "execution_count": 1,
   "metadata": {
    "collapsed": true
   },
   "outputs": [],
   "source": [
    "# import libraries here\n",
    "import pandas as pd\n",
    "import numpy as np\n",
    "import matplotlib.pyplot as plt"
   ]
  },
  {
   "cell_type": "markdown",
   "metadata": {},
   "source": [
    "# Challenge 1"
   ]
  },
  {
   "cell_type": "markdown",
   "metadata": {},
   "source": [
    "#### In this challenge we will use the `Temp_States.csv` file. \n",
    "\n",
    "#### First import it into a data frame called `temp`."
   ]
  },
  {
   "cell_type": "code",
   "execution_count": 2,
   "metadata": {
    "collapsed": true
   },
   "outputs": [
    {
     "output_type": "execute_result",
     "data": {
      "text/plain": "         City        State  Temperature\n0         NYC     New York    19.444444\n1      Albany     New York     9.444444\n2     Buffalo     New York     3.333333\n3    Hartford  Connecticut    17.222222\n4  Bridgeport  Connecticut    14.444444",
      "text/html": "<div>\n<style scoped>\n    .dataframe tbody tr th:only-of-type {\n        vertical-align: middle;\n    }\n\n    .dataframe tbody tr th {\n        vertical-align: top;\n    }\n\n    .dataframe thead th {\n        text-align: right;\n    }\n</style>\n<table border=\"1\" class=\"dataframe\">\n  <thead>\n    <tr style=\"text-align: right;\">\n      <th></th>\n      <th>City</th>\n      <th>State</th>\n      <th>Temperature</th>\n    </tr>\n  </thead>\n  <tbody>\n    <tr>\n      <th>0</th>\n      <td>NYC</td>\n      <td>New York</td>\n      <td>19.444444</td>\n    </tr>\n    <tr>\n      <th>1</th>\n      <td>Albany</td>\n      <td>New York</td>\n      <td>9.444444</td>\n    </tr>\n    <tr>\n      <th>2</th>\n      <td>Buffalo</td>\n      <td>New York</td>\n      <td>3.333333</td>\n    </tr>\n    <tr>\n      <th>3</th>\n      <td>Hartford</td>\n      <td>Connecticut</td>\n      <td>17.222222</td>\n    </tr>\n    <tr>\n      <th>4</th>\n      <td>Bridgeport</td>\n      <td>Connecticut</td>\n      <td>14.444444</td>\n    </tr>\n  </tbody>\n</table>\n</div>"
     },
     "metadata": {},
     "execution_count": 2
    }
   ],
   "source": [
    "# your answer here\n",
    "temp = pd.read_csv('/Users/alejandropalacios/Desktop/Ironhack/Data Analytics Bootcamp/Data Transformation/Labs/lab-subsetting-and-descriptive-stats/your-code/Temp_States.csv')\n",
    "\n",
    "temp.head()"
   ]
  },
  {
   "cell_type": "markdown",
   "metadata": {},
   "source": [
    "#### Print `temp`"
   ]
  },
  {
   "cell_type": "code",
   "execution_count": 3,
   "metadata": {},
   "outputs": [
    {
     "output_type": "stream",
     "name": "stdout",
     "text": "City        State  Temperature\n0         NYC     New York    19.444444\n1      Albany     New York     9.444444\n2     Buffalo     New York     3.333333\n3    Hartford  Connecticut    17.222222\n4  Bridgeport  Connecticut    14.444444\n5      Treton   New Jersey    22.222222\n6      Newark   New Jersey    20.000000\n"
    }
   ],
   "source": [
    "print(temp)"
   ]
  },
  {
   "cell_type": "markdown",
   "metadata": {},
   "source": [
    "#### Explore the data types of the Temp dataframe. What type of data do we have? Comment your result."
   ]
  },
  {
   "cell_type": "code",
   "execution_count": 12,
   "metadata": {},
   "outputs": [
    {
     "output_type": "stream",
     "name": "stdout",
     "text": "<class 'pandas.core.frame.DataFrame'>\nRangeIndex: 7 entries, 0 to 6\nData columns (total 3 columns):\n #   Column       Non-Null Count  Dtype  \n---  ------       --------------  -----  \n 0   City         7 non-null      object \n 1   State        7 non-null      object \n 2   Temperature  7 non-null      float64\ndtypes: float64(1), object(2)\nmemory usage: 296.0+ bytes\nNone \n\nWe have 2 Object columns and 1 Float items column.\n\n The complete description of this dataset can be found bellow\n\n        Temperature\ncount     7.000000\nmean     15.158730\nstd       6.695265\nmin       3.333333\n25%      11.944444\n50%      17.222222\n75%      19.722222\nmax      22.222222\n"
    }
   ],
   "source": [
    "# your answer here\n",
    "print(temp.info(), '\\n')\n",
    "print('We have 2 Object columns and 1 Float items column.\\n\\n','The complete description of this dataset can be found bellow\\n\\n',temp.describe())"
   ]
  },
  {
   "cell_type": "markdown",
   "metadata": {},
   "source": [
    "#### Select the rows where state is New York"
   ]
  },
  {
   "cell_type": "code",
   "execution_count": 17,
   "metadata": {},
   "outputs": [
    {
     "output_type": "execute_result",
     "data": {
      "text/plain": "      City     State  Temperature\n0      NYC  New York    19.444444\n1   Albany  New York     9.444444\n2  Buffalo  New York     3.333333",
      "text/html": "<div>\n<style scoped>\n    .dataframe tbody tr th:only-of-type {\n        vertical-align: middle;\n    }\n\n    .dataframe tbody tr th {\n        vertical-align: top;\n    }\n\n    .dataframe thead th {\n        text-align: right;\n    }\n</style>\n<table border=\"1\" class=\"dataframe\">\n  <thead>\n    <tr style=\"text-align: right;\">\n      <th></th>\n      <th>City</th>\n      <th>State</th>\n      <th>Temperature</th>\n    </tr>\n  </thead>\n  <tbody>\n    <tr>\n      <th>0</th>\n      <td>NYC</td>\n      <td>New York</td>\n      <td>19.444444</td>\n    </tr>\n    <tr>\n      <th>1</th>\n      <td>Albany</td>\n      <td>New York</td>\n      <td>9.444444</td>\n    </tr>\n    <tr>\n      <th>2</th>\n      <td>Buffalo</td>\n      <td>New York</td>\n      <td>3.333333</td>\n    </tr>\n  </tbody>\n</table>\n</div>"
     },
     "metadata": {},
     "execution_count": 17
    }
   ],
   "source": [
    "# your answer here\n",
    "temp[temp.State == 'New York']"
   ]
  },
  {
   "cell_type": "markdown",
   "metadata": {},
   "source": [
    "#### What is the average of the temperature of cities in New York?"
   ]
  },
  {
   "cell_type": "code",
   "execution_count": 41,
   "metadata": {},
   "outputs": [
    {
     "output_type": "stream",
     "name": "stdout",
     "text": "The average temperature of cities in New York is 10.7 degrees Celsius.\n"
    }
   ],
   "source": [
    "# your answer here\n",
    "print('The average temperature of cities in New York is {:.1f} degrees Celsius.'.format(float(temp[temp.State == 'New York'].mean())))"
   ]
  },
  {
   "cell_type": "markdown",
   "metadata": {},
   "source": [
    "#### We want to know cities and states with Temperature above 15 degress Celcius"
   ]
  },
  {
   "cell_type": "code",
   "execution_count": 60,
   "metadata": {},
   "outputs": [
    {
     "output_type": "stream",
     "name": "stdout",
     "text": "The cities and states with temperatures above 15 degrees celsius are \n\n        City        State  Temperature\n0       NYC     New York    19.444444\n3  Hartford  Connecticut    17.222222\n5    Treton   New Jersey    22.222222\n6    Newark   New Jersey    20.000000\n"
    }
   ],
   "source": [
    "# your answer here\n",
    "print('The cities and states with temperatures above 15 degrees celsius are \\n\\n {}'.format(temp[(temp.Temperature > 15)]))"
   ]
  },
  {
   "cell_type": "markdown",
   "metadata": {},
   "source": [
    "#### Now, return only the cities that have a temperature above 15 degress Celcius"
   ]
  },
  {
   "cell_type": "code",
   "execution_count": 59,
   "metadata": {},
   "outputs": [
    {
     "output_type": "stream",
     "name": "stdout",
     "text": "The cities with temperatures above 15 degrees celsius are \n\n        City  Temperature\n0       NYC    19.444444\n3  Hartford    17.222222\n5    Treton    22.222222\n6    Newark    20.000000\n"
    }
   ],
   "source": [
    "# your answer here\n",
    "print('The cities with temperatures above 15 degrees celsius are \\n\\n {}'.format(temp[(temp.Temperature > 15)].iloc[:, [0,2]]))"
   ]
  },
  {
   "cell_type": "markdown",
   "metadata": {},
   "source": [
    "#### We want to know which cities have a temperature above 15 degrees Celcius and below 20 degrees Celcius\n",
    "\n",
    "*Hint: First write the condition then select the rows.*"
   ]
  },
  {
   "cell_type": "code",
   "execution_count": 72,
   "metadata": {},
   "outputs": [
    {
     "output_type": "stream",
     "name": "stdout",
     "text": "The cities with temperatures above 15 degrees celsius are \n\n        City  Temperature\n0       NYC    19.444444\n3  Hartford    17.222222\n"
    }
   ],
   "source": [
    "# your answer here\n",
    "print('The cities with temperatures above 15 degrees celsius are \\n\\n {}'.format(temp[(temp.Temperature > 15) & (temp.Temperature < 20)].iloc[:, [0,2]]))"
   ]
  },
  {
   "cell_type": "markdown",
   "metadata": {},
   "source": [
    "#### Find the mean and the standard deviation of the temperature of each state.\n",
    "\n",
    "*Hint: Use functions from Data Manipulation lesson*"
   ]
  },
  {
   "cell_type": "code",
   "execution_count": 105,
   "metadata": {},
   "outputs": [
    {
     "output_type": "stream",
     "name": "stdout",
     "text": "The mean and the standard deviation of the temperature of each state are \n\n"
    },
    {
     "output_type": "execute_result",
     "data": {
      "text/plain": "            Temperature          \n                   mean       std\nState                            \nConnecticut   15.833333  1.964186\nNew Jersey    21.111111  1.571348\nNew York      10.740741  8.133404",
      "text/html": "<div>\n<style scoped>\n    .dataframe tbody tr th:only-of-type {\n        vertical-align: middle;\n    }\n\n    .dataframe tbody tr th {\n        vertical-align: top;\n    }\n\n    .dataframe thead tr th {\n        text-align: left;\n    }\n\n    .dataframe thead tr:last-of-type th {\n        text-align: right;\n    }\n</style>\n<table border=\"1\" class=\"dataframe\">\n  <thead>\n    <tr>\n      <th></th>\n      <th colspan=\"2\" halign=\"left\">Temperature</th>\n    </tr>\n    <tr>\n      <th></th>\n      <th>mean</th>\n      <th>std</th>\n    </tr>\n    <tr>\n      <th>State</th>\n      <th></th>\n      <th></th>\n    </tr>\n  </thead>\n  <tbody>\n    <tr>\n      <th>Connecticut</th>\n      <td>15.833333</td>\n      <td>1.964186</td>\n    </tr>\n    <tr>\n      <th>New Jersey</th>\n      <td>21.111111</td>\n      <td>1.571348</td>\n    </tr>\n    <tr>\n      <th>New York</th>\n      <td>10.740741</td>\n      <td>8.133404</td>\n    </tr>\n  </tbody>\n</table>\n</div>"
     },
     "metadata": {},
     "execution_count": 105
    }
   ],
   "source": [
    "# your answer here\n",
    "print('The mean and the standard deviation of the temperature of each state are \\n')\n",
    "temp.groupby('State').aggregate([np.mean, np.std])"
   ]
  },
  {
   "cell_type": "markdown",
   "metadata": {
    "collapsed": true
   },
   "source": [
    "# Challenge 2"
   ]
  },
  {
   "cell_type": "markdown",
   "metadata": {},
   "source": [
    "#### Load the `employee.csv` file into a DataFrame. Call the dataframe `employee`"
   ]
  },
  {
   "cell_type": "code",
   "execution_count": 107,
   "metadata": {
    "collapsed": true
   },
   "outputs": [],
   "source": [
    "# your answer here\n",
    "employee = pd.read_csv('/Users/alejandropalacios/Desktop/Ironhack/Data Analytics Bootcamp/Data Transformation/Labs/lab-subsetting-and-descriptive-stats/your-code/Employee.csv')"
   ]
  },
  {
   "cell_type": "markdown",
   "metadata": {},
   "source": [
    "#### Explore the data types of the Temp dataframe. Comment your results"
   ]
  },
  {
   "cell_type": "code",
   "execution_count": 109,
   "metadata": {},
   "outputs": [
    {
     "output_type": "stream",
     "name": "stdout",
     "text": "<class 'pandas.core.frame.DataFrame'>\nRangeIndex: 9 entries, 0 to 8\nData columns (total 7 columns):\n #   Column      Non-Null Count  Dtype \n---  ------      --------------  ----- \n 0   Name        9 non-null      object\n 1   Department  9 non-null      object\n 2   Education   9 non-null      object\n 3   Gender      9 non-null      object\n 4   Title       9 non-null      object\n 5   Years       9 non-null      int64 \n 6   Salary      9 non-null      int64 \ndtypes: int64(2), object(5)\nmemory usage: 632.0+ bytes\n"
    }
   ],
   "source": [
    "# your answer here\n",
    "employee.info()\n",
    "#We have 5 objects and 2 integers. "
   ]
  },
  {
   "cell_type": "markdown",
   "metadata": {},
   "source": [
    "#### Show visually the frequency distribution (histogram) of the employee dataset. In few words describe these histograms?"
   ]
  },
  {
   "cell_type": "code",
   "execution_count": 110,
   "metadata": {},
   "outputs": [
    {
     "output_type": "display_data",
     "data": {
      "text/plain": "<Figure size 432x288 with 2 Axes>",
      "image/svg+xml": "<?xml version=\"1.0\" encoding=\"utf-8\" standalone=\"no\"?>\n<!DOCTYPE svg PUBLIC \"-//W3C//DTD SVG 1.1//EN\"\n  \"http://www.w3.org/Graphics/SVG/1.1/DTD/svg11.dtd\">\n<!-- Created with matplotlib (https://matplotlib.org/) -->\n<svg height=\"263.63625pt\" version=\"1.1\" viewBox=\"0 0 378.465625 263.63625\" width=\"378.465625pt\" xmlns=\"http://www.w3.org/2000/svg\" xmlns:xlink=\"http://www.w3.org/1999/xlink\">\n <defs>\n  <style type=\"text/css\">\n*{stroke-linecap:butt;stroke-linejoin:round;}\n  </style>\n </defs>\n <g id=\"figure_1\">\n  <g id=\"patch_1\">\n   <path d=\"M 0 263.63625 \nL 378.465625 263.63625 \nL 378.465625 0 \nL 0 0 \nz\n\" style=\"fill:none;\"/>\n  </g>\n  <g id=\"axes_1\">\n   <g id=\"patch_2\">\n    <path d=\"M 36.465625 239.758125 \nL 182.030842 239.758125 \nL 182.030842 22.318125 \nL 36.465625 22.318125 \nz\n\" style=\"fill:#ffffff;\"/>\n   </g>\n   <g id=\"patch_3\">\n    <path clip-path=\"url(#pb368f96270)\" d=\"M 43.082226 239.758125 \nL 56.315427 239.758125 \nL 56.315427 32.672411 \nL 43.082226 32.672411 \nz\n\" style=\"fill:#1f77b4;\"/>\n   </g>\n   <g id=\"patch_4\">\n    <path clip-path=\"url(#pb368f96270)\" d=\"M 56.315427 239.758125 \nL 69.548629 239.758125 \nL 69.548629 32.672411 \nL 56.315427 32.672411 \nz\n\" style=\"fill:#1f77b4;\"/>\n   </g>\n   <g id=\"patch_5\">\n    <path clip-path=\"url(#pb368f96270)\" d=\"M 69.548629 239.758125 \nL 82.781831 239.758125 \nL 82.781831 239.758125 \nL 69.548629 239.758125 \nz\n\" style=\"fill:#1f77b4;\"/>\n   </g>\n   <g id=\"patch_6\">\n    <path clip-path=\"url(#pb368f96270)\" d=\"M 82.781831 239.758125 \nL 96.015032 239.758125 \nL 96.015032 239.758125 \nL 82.781831 239.758125 \nz\n\" style=\"fill:#1f77b4;\"/>\n   </g>\n   <g id=\"patch_7\">\n    <path clip-path=\"url(#pb368f96270)\" d=\"M 96.015032 239.758125 \nL 109.248234 239.758125 \nL 109.248234 239.758125 \nL 96.015032 239.758125 \nz\n\" style=\"fill:#1f77b4;\"/>\n   </g>\n   <g id=\"patch_8\">\n    <path clip-path=\"url(#pb368f96270)\" d=\"M 109.248234 239.758125 \nL 122.481435 239.758125 \nL 122.481435 239.758125 \nL 109.248234 239.758125 \nz\n\" style=\"fill:#1f77b4;\"/>\n   </g>\n   <g id=\"patch_9\">\n    <path clip-path=\"url(#pb368f96270)\" d=\"M 122.481435 239.758125 \nL 135.714637 239.758125 \nL 135.714637 32.672411 \nL 122.481435 32.672411 \nz\n\" style=\"fill:#1f77b4;\"/>\n   </g>\n   <g id=\"patch_10\">\n    <path clip-path=\"url(#pb368f96270)\" d=\"M 135.714637 239.758125 \nL 148.947838 239.758125 \nL 148.947838 136.215268 \nL 135.714637 136.215268 \nz\n\" style=\"fill:#1f77b4;\"/>\n   </g>\n   <g id=\"patch_11\">\n    <path clip-path=\"url(#pb368f96270)\" d=\"M 148.947838 239.758125 \nL 162.18104 239.758125 \nL 162.18104 239.758125 \nL 148.947838 239.758125 \nz\n\" style=\"fill:#1f77b4;\"/>\n   </g>\n   <g id=\"patch_12\">\n    <path clip-path=\"url(#pb368f96270)\" d=\"M 162.18104 239.758125 \nL 175.414242 239.758125 \nL 175.414242 32.672411 \nL 162.18104 32.672411 \nz\n\" style=\"fill:#1f77b4;\"/>\n   </g>\n   <g id=\"matplotlib.axis_1\">\n    <g id=\"xtick_1\">\n     <g id=\"line2d_1\">\n      <path clip-path=\"url(#pb368f96270)\" d=\"M 76.16523 239.758125 \nL 76.16523 22.318125 \n\" style=\"fill:none;stroke:#b0b0b0;stroke-linecap:square;stroke-width:0.8;\"/>\n     </g>\n     <g id=\"line2d_2\">\n      <defs>\n       <path d=\"M 0 0 \nL 0 3.5 \n\" id=\"m4ba5562985\" style=\"stroke:#000000;stroke-width:0.8;\"/>\n      </defs>\n      <g>\n       <use style=\"stroke:#000000;stroke-width:0.8;\" x=\"76.16523\" xlink:href=\"#m4ba5562985\" y=\"239.758125\"/>\n      </g>\n     </g>\n     <g id=\"text_1\">\n      <!-- 40 -->\n      <defs>\n       <path d=\"M 37.796875 64.3125 \nL 12.890625 25.390625 \nL 37.796875 25.390625 \nz\nM 35.203125 72.90625 \nL 47.609375 72.90625 \nL 47.609375 25.390625 \nL 58.015625 25.390625 \nL 58.015625 17.1875 \nL 47.609375 17.1875 \nL 47.609375 0 \nL 37.796875 0 \nL 37.796875 17.1875 \nL 4.890625 17.1875 \nL 4.890625 26.703125 \nz\n\" id=\"DejaVuSans-52\"/>\n       <path d=\"M 31.78125 66.40625 \nQ 24.171875 66.40625 20.328125 58.90625 \nQ 16.5 51.421875 16.5 36.375 \nQ 16.5 21.390625 20.328125 13.890625 \nQ 24.171875 6.390625 31.78125 6.390625 \nQ 39.453125 6.390625 43.28125 13.890625 \nQ 47.125 21.390625 47.125 36.375 \nQ 47.125 51.421875 43.28125 58.90625 \nQ 39.453125 66.40625 31.78125 66.40625 \nz\nM 31.78125 74.21875 \nQ 44.046875 74.21875 50.515625 64.515625 \nQ 56.984375 54.828125 56.984375 36.375 \nQ 56.984375 17.96875 50.515625 8.265625 \nQ 44.046875 -1.421875 31.78125 -1.421875 \nQ 19.53125 -1.421875 13.0625 8.265625 \nQ 6.59375 17.96875 6.59375 36.375 \nQ 6.59375 54.828125 13.0625 64.515625 \nQ 19.53125 74.21875 31.78125 74.21875 \nz\n\" id=\"DejaVuSans-48\"/>\n      </defs>\n      <g transform=\"translate(69.80273 254.356563)scale(0.1 -0.1)\">\n       <use xlink:href=\"#DejaVuSans-52\"/>\n       <use x=\"63.623047\" xlink:href=\"#DejaVuSans-48\"/>\n      </g>\n     </g>\n    </g>\n    <g id=\"xtick_2\">\n     <g id=\"line2d_3\">\n      <path clip-path=\"url(#pb368f96270)\" d=\"M 142.331238 239.758125 \nL 142.331238 22.318125 \n\" style=\"fill:none;stroke:#b0b0b0;stroke-linecap:square;stroke-width:0.8;\"/>\n     </g>\n     <g id=\"line2d_4\">\n      <g>\n       <use style=\"stroke:#000000;stroke-width:0.8;\" x=\"142.331238\" xlink:href=\"#m4ba5562985\" y=\"239.758125\"/>\n      </g>\n     </g>\n     <g id=\"text_2\">\n      <!-- 60 -->\n      <defs>\n       <path d=\"M 33.015625 40.375 \nQ 26.375 40.375 22.484375 35.828125 \nQ 18.609375 31.296875 18.609375 23.390625 \nQ 18.609375 15.53125 22.484375 10.953125 \nQ 26.375 6.390625 33.015625 6.390625 \nQ 39.65625 6.390625 43.53125 10.953125 \nQ 47.40625 15.53125 47.40625 23.390625 \nQ 47.40625 31.296875 43.53125 35.828125 \nQ 39.65625 40.375 33.015625 40.375 \nz\nM 52.59375 71.296875 \nL 52.59375 62.3125 \nQ 48.875 64.0625 45.09375 64.984375 \nQ 41.3125 65.921875 37.59375 65.921875 \nQ 27.828125 65.921875 22.671875 59.328125 \nQ 17.53125 52.734375 16.796875 39.40625 \nQ 19.671875 43.65625 24.015625 45.921875 \nQ 28.375 48.1875 33.59375 48.1875 \nQ 44.578125 48.1875 50.953125 41.515625 \nQ 57.328125 34.859375 57.328125 23.390625 \nQ 57.328125 12.15625 50.6875 5.359375 \nQ 44.046875 -1.421875 33.015625 -1.421875 \nQ 20.359375 -1.421875 13.671875 8.265625 \nQ 6.984375 17.96875 6.984375 36.375 \nQ 6.984375 53.65625 15.1875 63.9375 \nQ 23.390625 74.21875 37.203125 74.21875 \nQ 40.921875 74.21875 44.703125 73.484375 \nQ 48.484375 72.75 52.59375 71.296875 \nz\n\" id=\"DejaVuSans-54\"/>\n      </defs>\n      <g transform=\"translate(135.968738 254.356563)scale(0.1 -0.1)\">\n       <use xlink:href=\"#DejaVuSans-54\"/>\n       <use x=\"63.623047\" xlink:href=\"#DejaVuSans-48\"/>\n      </g>\n     </g>\n    </g>\n   </g>\n   <g id=\"matplotlib.axis_2\">\n    <g id=\"ytick_1\">\n     <g id=\"line2d_5\">\n      <path clip-path=\"url(#pb368f96270)\" d=\"M 36.465625 239.758125 \nL 182.030842 239.758125 \n\" style=\"fill:none;stroke:#b0b0b0;stroke-linecap:square;stroke-width:0.8;\"/>\n     </g>\n     <g id=\"line2d_6\">\n      <defs>\n       <path d=\"M 0 0 \nL -3.5 0 \n\" id=\"mb04df6aafc\" style=\"stroke:#000000;stroke-width:0.8;\"/>\n      </defs>\n      <g>\n       <use style=\"stroke:#000000;stroke-width:0.8;\" x=\"36.465625\" xlink:href=\"#mb04df6aafc\" y=\"239.758125\"/>\n      </g>\n     </g>\n     <g id=\"text_3\">\n      <!-- 0.00 -->\n      <defs>\n       <path d=\"M 10.6875 12.40625 \nL 21 12.40625 \nL 21 0 \nL 10.6875 0 \nz\n\" id=\"DejaVuSans-46\"/>\n      </defs>\n      <g transform=\"translate(7.2 243.557344)scale(0.1 -0.1)\">\n       <use xlink:href=\"#DejaVuSans-48\"/>\n       <use x=\"63.623047\" xlink:href=\"#DejaVuSans-46\"/>\n       <use x=\"95.410156\" xlink:href=\"#DejaVuSans-48\"/>\n       <use x=\"159.033203\" xlink:href=\"#DejaVuSans-48\"/>\n      </g>\n     </g>\n    </g>\n    <g id=\"ytick_2\">\n     <g id=\"line2d_7\">\n      <path clip-path=\"url(#pb368f96270)\" d=\"M 36.465625 213.872411 \nL 182.030842 213.872411 \n\" style=\"fill:none;stroke:#b0b0b0;stroke-linecap:square;stroke-width:0.8;\"/>\n     </g>\n     <g id=\"line2d_8\">\n      <g>\n       <use style=\"stroke:#000000;stroke-width:0.8;\" x=\"36.465625\" xlink:href=\"#mb04df6aafc\" y=\"213.872411\"/>\n      </g>\n     </g>\n     <g id=\"text_4\">\n      <!-- 0.25 -->\n      <defs>\n       <path d=\"M 19.1875 8.296875 \nL 53.609375 8.296875 \nL 53.609375 0 \nL 7.328125 0 \nL 7.328125 8.296875 \nQ 12.9375 14.109375 22.625 23.890625 \nQ 32.328125 33.6875 34.8125 36.53125 \nQ 39.546875 41.84375 41.421875 45.53125 \nQ 43.3125 49.21875 43.3125 52.78125 \nQ 43.3125 58.59375 39.234375 62.25 \nQ 35.15625 65.921875 28.609375 65.921875 \nQ 23.96875 65.921875 18.8125 64.3125 \nQ 13.671875 62.703125 7.8125 59.421875 \nL 7.8125 69.390625 \nQ 13.765625 71.78125 18.9375 73 \nQ 24.125 74.21875 28.421875 74.21875 \nQ 39.75 74.21875 46.484375 68.546875 \nQ 53.21875 62.890625 53.21875 53.421875 \nQ 53.21875 48.921875 51.53125 44.890625 \nQ 49.859375 40.875 45.40625 35.40625 \nQ 44.1875 33.984375 37.640625 27.21875 \nQ 31.109375 20.453125 19.1875 8.296875 \nz\n\" id=\"DejaVuSans-50\"/>\n       <path d=\"M 10.796875 72.90625 \nL 49.515625 72.90625 \nL 49.515625 64.59375 \nL 19.828125 64.59375 \nL 19.828125 46.734375 \nQ 21.96875 47.46875 24.109375 47.828125 \nQ 26.265625 48.1875 28.421875 48.1875 \nQ 40.625 48.1875 47.75 41.5 \nQ 54.890625 34.8125 54.890625 23.390625 \nQ 54.890625 11.625 47.5625 5.09375 \nQ 40.234375 -1.421875 26.90625 -1.421875 \nQ 22.3125 -1.421875 17.546875 -0.640625 \nQ 12.796875 0.140625 7.71875 1.703125 \nL 7.71875 11.625 \nQ 12.109375 9.234375 16.796875 8.0625 \nQ 21.484375 6.890625 26.703125 6.890625 \nQ 35.15625 6.890625 40.078125 11.328125 \nQ 45.015625 15.765625 45.015625 23.390625 \nQ 45.015625 31 40.078125 35.4375 \nQ 35.15625 39.890625 26.703125 39.890625 \nQ 22.75 39.890625 18.8125 39.015625 \nQ 14.890625 38.140625 10.796875 36.28125 \nz\n\" id=\"DejaVuSans-53\"/>\n      </defs>\n      <g transform=\"translate(7.2 217.671629)scale(0.1 -0.1)\">\n       <use xlink:href=\"#DejaVuSans-48\"/>\n       <use x=\"63.623047\" xlink:href=\"#DejaVuSans-46\"/>\n       <use x=\"95.410156\" xlink:href=\"#DejaVuSans-50\"/>\n       <use x=\"159.033203\" xlink:href=\"#DejaVuSans-53\"/>\n      </g>\n     </g>\n    </g>\n    <g id=\"ytick_3\">\n     <g id=\"line2d_9\">\n      <path clip-path=\"url(#pb368f96270)\" d=\"M 36.465625 187.986696 \nL 182.030842 187.986696 \n\" style=\"fill:none;stroke:#b0b0b0;stroke-linecap:square;stroke-width:0.8;\"/>\n     </g>\n     <g id=\"line2d_10\">\n      <g>\n       <use style=\"stroke:#000000;stroke-width:0.8;\" x=\"36.465625\" xlink:href=\"#mb04df6aafc\" y=\"187.986696\"/>\n      </g>\n     </g>\n     <g id=\"text_5\">\n      <!-- 0.50 -->\n      <g transform=\"translate(7.2 191.785915)scale(0.1 -0.1)\">\n       <use xlink:href=\"#DejaVuSans-48\"/>\n       <use x=\"63.623047\" xlink:href=\"#DejaVuSans-46\"/>\n       <use x=\"95.410156\" xlink:href=\"#DejaVuSans-53\"/>\n       <use x=\"159.033203\" xlink:href=\"#DejaVuSans-48\"/>\n      </g>\n     </g>\n    </g>\n    <g id=\"ytick_4\">\n     <g id=\"line2d_11\">\n      <path clip-path=\"url(#pb368f96270)\" d=\"M 36.465625 162.100982 \nL 182.030842 162.100982 \n\" style=\"fill:none;stroke:#b0b0b0;stroke-linecap:square;stroke-width:0.8;\"/>\n     </g>\n     <g id=\"line2d_12\">\n      <g>\n       <use style=\"stroke:#000000;stroke-width:0.8;\" x=\"36.465625\" xlink:href=\"#mb04df6aafc\" y=\"162.100982\"/>\n      </g>\n     </g>\n     <g id=\"text_6\">\n      <!-- 0.75 -->\n      <defs>\n       <path d=\"M 8.203125 72.90625 \nL 55.078125 72.90625 \nL 55.078125 68.703125 \nL 28.609375 0 \nL 18.3125 0 \nL 43.21875 64.59375 \nL 8.203125 64.59375 \nz\n\" id=\"DejaVuSans-55\"/>\n      </defs>\n      <g transform=\"translate(7.2 165.900201)scale(0.1 -0.1)\">\n       <use xlink:href=\"#DejaVuSans-48\"/>\n       <use x=\"63.623047\" xlink:href=\"#DejaVuSans-46\"/>\n       <use x=\"95.410156\" xlink:href=\"#DejaVuSans-55\"/>\n       <use x=\"159.033203\" xlink:href=\"#DejaVuSans-53\"/>\n      </g>\n     </g>\n    </g>\n    <g id=\"ytick_5\">\n     <g id=\"line2d_13\">\n      <path clip-path=\"url(#pb368f96270)\" d=\"M 36.465625 136.215268 \nL 182.030842 136.215268 \n\" style=\"fill:none;stroke:#b0b0b0;stroke-linecap:square;stroke-width:0.8;\"/>\n     </g>\n     <g id=\"line2d_14\">\n      <g>\n       <use style=\"stroke:#000000;stroke-width:0.8;\" x=\"36.465625\" xlink:href=\"#mb04df6aafc\" y=\"136.215268\"/>\n      </g>\n     </g>\n     <g id=\"text_7\">\n      <!-- 1.00 -->\n      <defs>\n       <path d=\"M 12.40625 8.296875 \nL 28.515625 8.296875 \nL 28.515625 63.921875 \nL 10.984375 60.40625 \nL 10.984375 69.390625 \nL 28.421875 72.90625 \nL 38.28125 72.90625 \nL 38.28125 8.296875 \nL 54.390625 8.296875 \nL 54.390625 0 \nL 12.40625 0 \nz\n\" id=\"DejaVuSans-49\"/>\n      </defs>\n      <g transform=\"translate(7.2 140.014487)scale(0.1 -0.1)\">\n       <use xlink:href=\"#DejaVuSans-49\"/>\n       <use x=\"63.623047\" xlink:href=\"#DejaVuSans-46\"/>\n       <use x=\"95.410156\" xlink:href=\"#DejaVuSans-48\"/>\n       <use x=\"159.033203\" xlink:href=\"#DejaVuSans-48\"/>\n      </g>\n     </g>\n    </g>\n    <g id=\"ytick_6\">\n     <g id=\"line2d_15\">\n      <path clip-path=\"url(#pb368f96270)\" d=\"M 36.465625 110.329554 \nL 182.030842 110.329554 \n\" style=\"fill:none;stroke:#b0b0b0;stroke-linecap:square;stroke-width:0.8;\"/>\n     </g>\n     <g id=\"line2d_16\">\n      <g>\n       <use style=\"stroke:#000000;stroke-width:0.8;\" x=\"36.465625\" xlink:href=\"#mb04df6aafc\" y=\"110.329554\"/>\n      </g>\n     </g>\n     <g id=\"text_8\">\n      <!-- 1.25 -->\n      <g transform=\"translate(7.2 114.128772)scale(0.1 -0.1)\">\n       <use xlink:href=\"#DejaVuSans-49\"/>\n       <use x=\"63.623047\" xlink:href=\"#DejaVuSans-46\"/>\n       <use x=\"95.410156\" xlink:href=\"#DejaVuSans-50\"/>\n       <use x=\"159.033203\" xlink:href=\"#DejaVuSans-53\"/>\n      </g>\n     </g>\n    </g>\n    <g id=\"ytick_7\">\n     <g id=\"line2d_17\">\n      <path clip-path=\"url(#pb368f96270)\" d=\"M 36.465625 84.443839 \nL 182.030842 84.443839 \n\" style=\"fill:none;stroke:#b0b0b0;stroke-linecap:square;stroke-width:0.8;\"/>\n     </g>\n     <g id=\"line2d_18\">\n      <g>\n       <use style=\"stroke:#000000;stroke-width:0.8;\" x=\"36.465625\" xlink:href=\"#mb04df6aafc\" y=\"84.443839\"/>\n      </g>\n     </g>\n     <g id=\"text_9\">\n      <!-- 1.50 -->\n      <g transform=\"translate(7.2 88.243058)scale(0.1 -0.1)\">\n       <use xlink:href=\"#DejaVuSans-49\"/>\n       <use x=\"63.623047\" xlink:href=\"#DejaVuSans-46\"/>\n       <use x=\"95.410156\" xlink:href=\"#DejaVuSans-53\"/>\n       <use x=\"159.033203\" xlink:href=\"#DejaVuSans-48\"/>\n      </g>\n     </g>\n    </g>\n    <g id=\"ytick_8\">\n     <g id=\"line2d_19\">\n      <path clip-path=\"url(#pb368f96270)\" d=\"M 36.465625 58.558125 \nL 182.030842 58.558125 \n\" style=\"fill:none;stroke:#b0b0b0;stroke-linecap:square;stroke-width:0.8;\"/>\n     </g>\n     <g id=\"line2d_20\">\n      <g>\n       <use style=\"stroke:#000000;stroke-width:0.8;\" x=\"36.465625\" xlink:href=\"#mb04df6aafc\" y=\"58.558125\"/>\n      </g>\n     </g>\n     <g id=\"text_10\">\n      <!-- 1.75 -->\n      <g transform=\"translate(7.2 62.357344)scale(0.1 -0.1)\">\n       <use xlink:href=\"#DejaVuSans-49\"/>\n       <use x=\"63.623047\" xlink:href=\"#DejaVuSans-46\"/>\n       <use x=\"95.410156\" xlink:href=\"#DejaVuSans-55\"/>\n       <use x=\"159.033203\" xlink:href=\"#DejaVuSans-53\"/>\n      </g>\n     </g>\n    </g>\n    <g id=\"ytick_9\">\n     <g id=\"line2d_21\">\n      <path clip-path=\"url(#pb368f96270)\" d=\"M 36.465625 32.672411 \nL 182.030842 32.672411 \n\" style=\"fill:none;stroke:#b0b0b0;stroke-linecap:square;stroke-width:0.8;\"/>\n     </g>\n     <g id=\"line2d_22\">\n      <g>\n       <use style=\"stroke:#000000;stroke-width:0.8;\" x=\"36.465625\" xlink:href=\"#mb04df6aafc\" y=\"32.672411\"/>\n      </g>\n     </g>\n     <g id=\"text_11\">\n      <!-- 2.00 -->\n      <g transform=\"translate(7.2 36.471629)scale(0.1 -0.1)\">\n       <use xlink:href=\"#DejaVuSans-50\"/>\n       <use x=\"63.623047\" xlink:href=\"#DejaVuSans-46\"/>\n       <use x=\"95.410156\" xlink:href=\"#DejaVuSans-48\"/>\n       <use x=\"159.033203\" xlink:href=\"#DejaVuSans-48\"/>\n      </g>\n     </g>\n    </g>\n   </g>\n   <g id=\"patch_13\">\n    <path d=\"M 36.465625 239.758125 \nL 36.465625 22.318125 \n\" style=\"fill:none;stroke:#000000;stroke-linecap:square;stroke-linejoin:miter;stroke-width:0.8;\"/>\n   </g>\n   <g id=\"patch_14\">\n    <path d=\"M 182.030842 239.758125 \nL 182.030842 22.318125 \n\" style=\"fill:none;stroke:#000000;stroke-linecap:square;stroke-linejoin:miter;stroke-width:0.8;\"/>\n   </g>\n   <g id=\"patch_15\">\n    <path d=\"M 36.465625 239.758125 \nL 182.030842 239.758125 \n\" style=\"fill:none;stroke:#000000;stroke-linecap:square;stroke-linejoin:miter;stroke-width:0.8;\"/>\n   </g>\n   <g id=\"patch_16\">\n    <path d=\"M 36.465625 22.318125 \nL 182.030842 22.318125 \n\" style=\"fill:none;stroke:#000000;stroke-linecap:square;stroke-linejoin:miter;stroke-width:0.8;\"/>\n   </g>\n   <g id=\"text_12\">\n    <!-- Salary -->\n    <defs>\n     <path d=\"M 53.515625 70.515625 \nL 53.515625 60.890625 \nQ 47.90625 63.578125 42.921875 64.890625 \nQ 37.9375 66.21875 33.296875 66.21875 \nQ 25.25 66.21875 20.875 63.09375 \nQ 16.5 59.96875 16.5 54.203125 \nQ 16.5 49.359375 19.40625 46.890625 \nQ 22.3125 44.4375 30.421875 42.921875 \nL 36.375 41.703125 \nQ 47.40625 39.59375 52.65625 34.296875 \nQ 57.90625 29 57.90625 20.125 \nQ 57.90625 9.515625 50.796875 4.046875 \nQ 43.703125 -1.421875 29.984375 -1.421875 \nQ 24.8125 -1.421875 18.96875 -0.25 \nQ 13.140625 0.921875 6.890625 3.21875 \nL 6.890625 13.375 \nQ 12.890625 10.015625 18.65625 8.296875 \nQ 24.421875 6.59375 29.984375 6.59375 \nQ 38.421875 6.59375 43.015625 9.90625 \nQ 47.609375 13.234375 47.609375 19.390625 \nQ 47.609375 24.75 44.3125 27.78125 \nQ 41.015625 30.8125 33.5 32.328125 \nL 27.484375 33.5 \nQ 16.453125 35.6875 11.515625 40.375 \nQ 6.59375 45.0625 6.59375 53.421875 \nQ 6.59375 63.09375 13.40625 68.65625 \nQ 20.21875 74.21875 32.171875 74.21875 \nQ 37.3125 74.21875 42.625 73.28125 \nQ 47.953125 72.359375 53.515625 70.515625 \nz\n\" id=\"DejaVuSans-83\"/>\n     <path d=\"M 34.28125 27.484375 \nQ 23.390625 27.484375 19.1875 25 \nQ 14.984375 22.515625 14.984375 16.5 \nQ 14.984375 11.71875 18.140625 8.90625 \nQ 21.296875 6.109375 26.703125 6.109375 \nQ 34.1875 6.109375 38.703125 11.40625 \nQ 43.21875 16.703125 43.21875 25.484375 \nL 43.21875 27.484375 \nz\nM 52.203125 31.203125 \nL 52.203125 0 \nL 43.21875 0 \nL 43.21875 8.296875 \nQ 40.140625 3.328125 35.546875 0.953125 \nQ 30.953125 -1.421875 24.3125 -1.421875 \nQ 15.921875 -1.421875 10.953125 3.296875 \nQ 6 8.015625 6 15.921875 \nQ 6 25.140625 12.171875 29.828125 \nQ 18.359375 34.515625 30.609375 34.515625 \nL 43.21875 34.515625 \nL 43.21875 35.40625 \nQ 43.21875 41.609375 39.140625 45 \nQ 35.0625 48.390625 27.6875 48.390625 \nQ 23 48.390625 18.546875 47.265625 \nQ 14.109375 46.140625 10.015625 43.890625 \nL 10.015625 52.203125 \nQ 14.9375 54.109375 19.578125 55.046875 \nQ 24.21875 56 28.609375 56 \nQ 40.484375 56 46.34375 49.84375 \nQ 52.203125 43.703125 52.203125 31.203125 \nz\n\" id=\"DejaVuSans-97\"/>\n     <path d=\"M 9.421875 75.984375 \nL 18.40625 75.984375 \nL 18.40625 0 \nL 9.421875 0 \nz\n\" id=\"DejaVuSans-108\"/>\n     <path d=\"M 41.109375 46.296875 \nQ 39.59375 47.171875 37.8125 47.578125 \nQ 36.03125 48 33.890625 48 \nQ 26.265625 48 22.1875 43.046875 \nQ 18.109375 38.09375 18.109375 28.8125 \nL 18.109375 0 \nL 9.078125 0 \nL 9.078125 54.6875 \nL 18.109375 54.6875 \nL 18.109375 46.1875 \nQ 20.953125 51.171875 25.484375 53.578125 \nQ 30.03125 56 36.53125 56 \nQ 37.453125 56 38.578125 55.875 \nQ 39.703125 55.765625 41.0625 55.515625 \nz\n\" id=\"DejaVuSans-114\"/>\n     <path d=\"M 32.171875 -5.078125 \nQ 28.375 -14.84375 24.75 -17.8125 \nQ 21.140625 -20.796875 15.09375 -20.796875 \nL 7.90625 -20.796875 \nL 7.90625 -13.28125 \nL 13.1875 -13.28125 \nQ 16.890625 -13.28125 18.9375 -11.515625 \nQ 21 -9.765625 23.484375 -3.21875 \nL 25.09375 0.875 \nL 2.984375 54.6875 \nL 12.5 54.6875 \nL 29.59375 11.921875 \nL 46.6875 54.6875 \nL 56.203125 54.6875 \nz\n\" id=\"DejaVuSans-121\"/>\n    </defs>\n    <g transform=\"translate(90.400734 16.318125)scale(0.12 -0.12)\">\n     <use xlink:href=\"#DejaVuSans-83\"/>\n     <use x=\"63.476562\" xlink:href=\"#DejaVuSans-97\"/>\n     <use x=\"124.755859\" xlink:href=\"#DejaVuSans-108\"/>\n     <use x=\"152.539062\" xlink:href=\"#DejaVuSans-97\"/>\n     <use x=\"213.818359\" xlink:href=\"#DejaVuSans-114\"/>\n     <use x=\"254.931641\" xlink:href=\"#DejaVuSans-121\"/>\n    </g>\n   </g>\n  </g>\n  <g id=\"axes_2\">\n   <g id=\"patch_17\">\n    <path d=\"M 225.700408 239.758125 \nL 371.265625 239.758125 \nL 371.265625 22.318125 \nL 225.700408 22.318125 \nz\n\" style=\"fill:#ffffff;\"/>\n   </g>\n   <g id=\"patch_18\">\n    <path clip-path=\"url(#pd826c02d99)\" d=\"M 232.317008 239.758125 \nL 245.55021 239.758125 \nL 245.55021 170.729554 \nL 232.317008 170.729554 \nz\n\" style=\"fill:#1f77b4;\"/>\n   </g>\n   <g id=\"patch_19\">\n    <path clip-path=\"url(#pd826c02d99)\" d=\"M 245.55021 239.758125 \nL 258.783412 239.758125 \nL 258.783412 32.672411 \nL 245.55021 32.672411 \nz\n\" style=\"fill:#1f77b4;\"/>\n   </g>\n   <g id=\"patch_20\">\n    <path clip-path=\"url(#pd826c02d99)\" d=\"M 258.783412 239.758125 \nL 272.016613 239.758125 \nL 272.016613 170.729554 \nL 258.783412 170.729554 \nz\n\" style=\"fill:#1f77b4;\"/>\n   </g>\n   <g id=\"patch_21\">\n    <path clip-path=\"url(#pd826c02d99)\" d=\"M 272.016613 239.758125 \nL 285.249815 239.758125 \nL 285.249815 239.758125 \nL 272.016613 239.758125 \nz\n\" style=\"fill:#1f77b4;\"/>\n   </g>\n   <g id=\"patch_22\">\n    <path clip-path=\"url(#pd826c02d99)\" d=\"M 285.249815 239.758125 \nL 298.483016 239.758125 \nL 298.483016 170.729554 \nL 285.249815 170.729554 \nz\n\" style=\"fill:#1f77b4;\"/>\n   </g>\n   <g id=\"patch_23\">\n    <path clip-path=\"url(#pd826c02d99)\" d=\"M 298.483016 239.758125 \nL 311.716218 239.758125 \nL 311.716218 239.758125 \nL 298.483016 239.758125 \nz\n\" style=\"fill:#1f77b4;\"/>\n   </g>\n   <g id=\"patch_24\">\n    <path clip-path=\"url(#pd826c02d99)\" d=\"M 311.716218 239.758125 \nL 324.949419 239.758125 \nL 324.949419 239.758125 \nL 311.716218 239.758125 \nz\n\" style=\"fill:#1f77b4;\"/>\n   </g>\n   <g id=\"patch_25\">\n    <path clip-path=\"url(#pd826c02d99)\" d=\"M 324.949419 239.758125 \nL 338.182621 239.758125 \nL 338.182621 239.758125 \nL 324.949419 239.758125 \nz\n\" style=\"fill:#1f77b4;\"/>\n   </g>\n   <g id=\"patch_26\">\n    <path clip-path=\"url(#pd826c02d99)\" d=\"M 338.182621 239.758125 \nL 351.415823 239.758125 \nL 351.415823 170.729554 \nL 338.182621 170.729554 \nz\n\" style=\"fill:#1f77b4;\"/>\n   </g>\n   <g id=\"patch_27\">\n    <path clip-path=\"url(#pd826c02d99)\" d=\"M 351.415823 239.758125 \nL 364.649024 239.758125 \nL 364.649024 101.700982 \nL 351.415823 101.700982 \nz\n\" style=\"fill:#1f77b4;\"/>\n   </g>\n   <g id=\"matplotlib.axis_3\">\n    <g id=\"xtick_3\">\n     <g id=\"line2d_23\">\n      <path clip-path=\"url(#pd826c02d99)\" d=\"M 251.221582 239.758125 \nL 251.221582 22.318125 \n\" style=\"fill:none;stroke:#b0b0b0;stroke-linecap:square;stroke-width:0.8;\"/>\n     </g>\n     <g id=\"line2d_24\">\n      <g>\n       <use style=\"stroke:#000000;stroke-width:0.8;\" x=\"251.221582\" xlink:href=\"#m4ba5562985\" y=\"239.758125\"/>\n      </g>\n     </g>\n     <g id=\"text_13\">\n      <!-- 2 -->\n      <g transform=\"translate(248.040332 254.356563)scale(0.1 -0.1)\">\n       <use xlink:href=\"#DejaVuSans-50\"/>\n      </g>\n     </g>\n    </g>\n    <g id=\"xtick_4\">\n     <g id=\"line2d_25\">\n      <path clip-path=\"url(#pd826c02d99)\" d=\"M 289.030729 239.758125 \nL 289.030729 22.318125 \n\" style=\"fill:none;stroke:#b0b0b0;stroke-linecap:square;stroke-width:0.8;\"/>\n     </g>\n     <g id=\"line2d_26\">\n      <g>\n       <use style=\"stroke:#000000;stroke-width:0.8;\" x=\"289.030729\" xlink:href=\"#m4ba5562985\" y=\"239.758125\"/>\n      </g>\n     </g>\n     <g id=\"text_14\">\n      <!-- 4 -->\n      <g transform=\"translate(285.849479 254.356563)scale(0.1 -0.1)\">\n       <use xlink:href=\"#DejaVuSans-52\"/>\n      </g>\n     </g>\n    </g>\n    <g id=\"xtick_5\">\n     <g id=\"line2d_27\">\n      <path clip-path=\"url(#pd826c02d99)\" d=\"M 326.839877 239.758125 \nL 326.839877 22.318125 \n\" style=\"fill:none;stroke:#b0b0b0;stroke-linecap:square;stroke-width:0.8;\"/>\n     </g>\n     <g id=\"line2d_28\">\n      <g>\n       <use style=\"stroke:#000000;stroke-width:0.8;\" x=\"326.839877\" xlink:href=\"#m4ba5562985\" y=\"239.758125\"/>\n      </g>\n     </g>\n     <g id=\"text_15\">\n      <!-- 6 -->\n      <g transform=\"translate(323.658627 254.356563)scale(0.1 -0.1)\">\n       <use xlink:href=\"#DejaVuSans-54\"/>\n      </g>\n     </g>\n    </g>\n    <g id=\"xtick_6\">\n     <g id=\"line2d_29\">\n      <path clip-path=\"url(#pd826c02d99)\" d=\"M 364.649024 239.758125 \nL 364.649024 22.318125 \n\" style=\"fill:none;stroke:#b0b0b0;stroke-linecap:square;stroke-width:0.8;\"/>\n     </g>\n     <g id=\"line2d_30\">\n      <g>\n       <use style=\"stroke:#000000;stroke-width:0.8;\" x=\"364.649024\" xlink:href=\"#m4ba5562985\" y=\"239.758125\"/>\n      </g>\n     </g>\n     <g id=\"text_16\">\n      <!-- 8 -->\n      <defs>\n       <path d=\"M 31.78125 34.625 \nQ 24.75 34.625 20.71875 30.859375 \nQ 16.703125 27.09375 16.703125 20.515625 \nQ 16.703125 13.921875 20.71875 10.15625 \nQ 24.75 6.390625 31.78125 6.390625 \nQ 38.8125 6.390625 42.859375 10.171875 \nQ 46.921875 13.96875 46.921875 20.515625 \nQ 46.921875 27.09375 42.890625 30.859375 \nQ 38.875 34.625 31.78125 34.625 \nz\nM 21.921875 38.8125 \nQ 15.578125 40.375 12.03125 44.71875 \nQ 8.5 49.078125 8.5 55.328125 \nQ 8.5 64.0625 14.71875 69.140625 \nQ 20.953125 74.21875 31.78125 74.21875 \nQ 42.671875 74.21875 48.875 69.140625 \nQ 55.078125 64.0625 55.078125 55.328125 \nQ 55.078125 49.078125 51.53125 44.71875 \nQ 48 40.375 41.703125 38.8125 \nQ 48.828125 37.15625 52.796875 32.3125 \nQ 56.78125 27.484375 56.78125 20.515625 \nQ 56.78125 9.90625 50.3125 4.234375 \nQ 43.84375 -1.421875 31.78125 -1.421875 \nQ 19.734375 -1.421875 13.25 4.234375 \nQ 6.78125 9.90625 6.78125 20.515625 \nQ 6.78125 27.484375 10.78125 32.3125 \nQ 14.796875 37.15625 21.921875 38.8125 \nz\nM 18.3125 54.390625 \nQ 18.3125 48.734375 21.84375 45.5625 \nQ 25.390625 42.390625 31.78125 42.390625 \nQ 38.140625 42.390625 41.71875 45.5625 \nQ 45.3125 48.734375 45.3125 54.390625 \nQ 45.3125 60.0625 41.71875 63.234375 \nQ 38.140625 66.40625 31.78125 66.40625 \nQ 25.390625 66.40625 21.84375 63.234375 \nQ 18.3125 60.0625 18.3125 54.390625 \nz\n\" id=\"DejaVuSans-56\"/>\n      </defs>\n      <g transform=\"translate(361.467774 254.356563)scale(0.1 -0.1)\">\n       <use xlink:href=\"#DejaVuSans-56\"/>\n      </g>\n     </g>\n    </g>\n   </g>\n   <g id=\"matplotlib.axis_4\">\n    <g id=\"ytick_10\">\n     <g id=\"line2d_31\">\n      <path clip-path=\"url(#pd826c02d99)\" d=\"M 225.700408 239.758125 \nL 371.265625 239.758125 \n\" style=\"fill:none;stroke:#b0b0b0;stroke-linecap:square;stroke-width:0.8;\"/>\n     </g>\n     <g id=\"line2d_32\">\n      <g>\n       <use style=\"stroke:#000000;stroke-width:0.8;\" x=\"225.700408\" xlink:href=\"#mb04df6aafc\" y=\"239.758125\"/>\n      </g>\n     </g>\n     <g id=\"text_17\">\n      <!-- 0.0 -->\n      <g transform=\"translate(202.797283 243.557344)scale(0.1 -0.1)\">\n       <use xlink:href=\"#DejaVuSans-48\"/>\n       <use x=\"63.623047\" xlink:href=\"#DejaVuSans-46\"/>\n       <use x=\"95.410156\" xlink:href=\"#DejaVuSans-48\"/>\n      </g>\n     </g>\n    </g>\n    <g id=\"ytick_11\">\n     <g id=\"line2d_33\">\n      <path clip-path=\"url(#pd826c02d99)\" d=\"M 225.700408 205.243839 \nL 371.265625 205.243839 \n\" style=\"fill:none;stroke:#b0b0b0;stroke-linecap:square;stroke-width:0.8;\"/>\n     </g>\n     <g id=\"line2d_34\">\n      <g>\n       <use style=\"stroke:#000000;stroke-width:0.8;\" x=\"225.700408\" xlink:href=\"#mb04df6aafc\" y=\"205.243839\"/>\n      </g>\n     </g>\n     <g id=\"text_18\">\n      <!-- 0.5 -->\n      <g transform=\"translate(202.797283 209.043058)scale(0.1 -0.1)\">\n       <use xlink:href=\"#DejaVuSans-48\"/>\n       <use x=\"63.623047\" xlink:href=\"#DejaVuSans-46\"/>\n       <use x=\"95.410156\" xlink:href=\"#DejaVuSans-53\"/>\n      </g>\n     </g>\n    </g>\n    <g id=\"ytick_12\">\n     <g id=\"line2d_35\">\n      <path clip-path=\"url(#pd826c02d99)\" d=\"M 225.700408 170.729554 \nL 371.265625 170.729554 \n\" style=\"fill:none;stroke:#b0b0b0;stroke-linecap:square;stroke-width:0.8;\"/>\n     </g>\n     <g id=\"line2d_36\">\n      <g>\n       <use style=\"stroke:#000000;stroke-width:0.8;\" x=\"225.700408\" xlink:href=\"#mb04df6aafc\" y=\"170.729554\"/>\n      </g>\n     </g>\n     <g id=\"text_19\">\n      <!-- 1.0 -->\n      <g transform=\"translate(202.797283 174.528772)scale(0.1 -0.1)\">\n       <use xlink:href=\"#DejaVuSans-49\"/>\n       <use x=\"63.623047\" xlink:href=\"#DejaVuSans-46\"/>\n       <use x=\"95.410156\" xlink:href=\"#DejaVuSans-48\"/>\n      </g>\n     </g>\n    </g>\n    <g id=\"ytick_13\">\n     <g id=\"line2d_37\">\n      <path clip-path=\"url(#pd826c02d99)\" d=\"M 225.700408 136.215268 \nL 371.265625 136.215268 \n\" style=\"fill:none;stroke:#b0b0b0;stroke-linecap:square;stroke-width:0.8;\"/>\n     </g>\n     <g id=\"line2d_38\">\n      <g>\n       <use style=\"stroke:#000000;stroke-width:0.8;\" x=\"225.700408\" xlink:href=\"#mb04df6aafc\" y=\"136.215268\"/>\n      </g>\n     </g>\n     <g id=\"text_20\">\n      <!-- 1.5 -->\n      <g transform=\"translate(202.797283 140.014487)scale(0.1 -0.1)\">\n       <use xlink:href=\"#DejaVuSans-49\"/>\n       <use x=\"63.623047\" xlink:href=\"#DejaVuSans-46\"/>\n       <use x=\"95.410156\" xlink:href=\"#DejaVuSans-53\"/>\n      </g>\n     </g>\n    </g>\n    <g id=\"ytick_14\">\n     <g id=\"line2d_39\">\n      <path clip-path=\"url(#pd826c02d99)\" d=\"M 225.700408 101.700982 \nL 371.265625 101.700982 \n\" style=\"fill:none;stroke:#b0b0b0;stroke-linecap:square;stroke-width:0.8;\"/>\n     </g>\n     <g id=\"line2d_40\">\n      <g>\n       <use style=\"stroke:#000000;stroke-width:0.8;\" x=\"225.700408\" xlink:href=\"#mb04df6aafc\" y=\"101.700982\"/>\n      </g>\n     </g>\n     <g id=\"text_21\">\n      <!-- 2.0 -->\n      <g transform=\"translate(202.797283 105.500201)scale(0.1 -0.1)\">\n       <use xlink:href=\"#DejaVuSans-50\"/>\n       <use x=\"63.623047\" xlink:href=\"#DejaVuSans-46\"/>\n       <use x=\"95.410156\" xlink:href=\"#DejaVuSans-48\"/>\n      </g>\n     </g>\n    </g>\n    <g id=\"ytick_15\">\n     <g id=\"line2d_41\">\n      <path clip-path=\"url(#pd826c02d99)\" d=\"M 225.700408 67.186696 \nL 371.265625 67.186696 \n\" style=\"fill:none;stroke:#b0b0b0;stroke-linecap:square;stroke-width:0.8;\"/>\n     </g>\n     <g id=\"line2d_42\">\n      <g>\n       <use style=\"stroke:#000000;stroke-width:0.8;\" x=\"225.700408\" xlink:href=\"#mb04df6aafc\" y=\"67.186696\"/>\n      </g>\n     </g>\n     <g id=\"text_22\">\n      <!-- 2.5 -->\n      <g transform=\"translate(202.797283 70.985915)scale(0.1 -0.1)\">\n       <use xlink:href=\"#DejaVuSans-50\"/>\n       <use x=\"63.623047\" xlink:href=\"#DejaVuSans-46\"/>\n       <use x=\"95.410156\" xlink:href=\"#DejaVuSans-53\"/>\n      </g>\n     </g>\n    </g>\n    <g id=\"ytick_16\">\n     <g id=\"line2d_43\">\n      <path clip-path=\"url(#pd826c02d99)\" d=\"M 225.700408 32.672411 \nL 371.265625 32.672411 \n\" style=\"fill:none;stroke:#b0b0b0;stroke-linecap:square;stroke-width:0.8;\"/>\n     </g>\n     <g id=\"line2d_44\">\n      <g>\n       <use style=\"stroke:#000000;stroke-width:0.8;\" x=\"225.700408\" xlink:href=\"#mb04df6aafc\" y=\"32.672411\"/>\n      </g>\n     </g>\n     <g id=\"text_23\">\n      <!-- 3.0 -->\n      <defs>\n       <path d=\"M 40.578125 39.3125 \nQ 47.65625 37.796875 51.625 33 \nQ 55.609375 28.21875 55.609375 21.1875 \nQ 55.609375 10.40625 48.1875 4.484375 \nQ 40.765625 -1.421875 27.09375 -1.421875 \nQ 22.515625 -1.421875 17.65625 -0.515625 \nQ 12.796875 0.390625 7.625 2.203125 \nL 7.625 11.71875 \nQ 11.71875 9.328125 16.59375 8.109375 \nQ 21.484375 6.890625 26.8125 6.890625 \nQ 36.078125 6.890625 40.9375 10.546875 \nQ 45.796875 14.203125 45.796875 21.1875 \nQ 45.796875 27.640625 41.28125 31.265625 \nQ 36.765625 34.90625 28.71875 34.90625 \nL 20.21875 34.90625 \nL 20.21875 43.015625 \nL 29.109375 43.015625 \nQ 36.375 43.015625 40.234375 45.921875 \nQ 44.09375 48.828125 44.09375 54.296875 \nQ 44.09375 59.90625 40.109375 62.90625 \nQ 36.140625 65.921875 28.71875 65.921875 \nQ 24.65625 65.921875 20.015625 65.03125 \nQ 15.375 64.15625 9.8125 62.3125 \nL 9.8125 71.09375 \nQ 15.4375 72.65625 20.34375 73.4375 \nQ 25.25 74.21875 29.59375 74.21875 \nQ 40.828125 74.21875 47.359375 69.109375 \nQ 53.90625 64.015625 53.90625 55.328125 \nQ 53.90625 49.265625 50.4375 45.09375 \nQ 46.96875 40.921875 40.578125 39.3125 \nz\n\" id=\"DejaVuSans-51\"/>\n      </defs>\n      <g transform=\"translate(202.797283 36.471629)scale(0.1 -0.1)\">\n       <use xlink:href=\"#DejaVuSans-51\"/>\n       <use x=\"63.623047\" xlink:href=\"#DejaVuSans-46\"/>\n       <use x=\"95.410156\" xlink:href=\"#DejaVuSans-48\"/>\n      </g>\n     </g>\n    </g>\n   </g>\n   <g id=\"patch_28\">\n    <path d=\"M 225.700408 239.758125 \nL 225.700408 22.318125 \n\" style=\"fill:none;stroke:#000000;stroke-linecap:square;stroke-linejoin:miter;stroke-width:0.8;\"/>\n   </g>\n   <g id=\"patch_29\">\n    <path d=\"M 371.265625 239.758125 \nL 371.265625 22.318125 \n\" style=\"fill:none;stroke:#000000;stroke-linecap:square;stroke-linejoin:miter;stroke-width:0.8;\"/>\n   </g>\n   <g id=\"patch_30\">\n    <path d=\"M 225.700408 239.758125 \nL 371.265625 239.758125 \n\" style=\"fill:none;stroke:#000000;stroke-linecap:square;stroke-linejoin:miter;stroke-width:0.8;\"/>\n   </g>\n   <g id=\"patch_31\">\n    <path d=\"M 225.700408 22.318125 \nL 371.265625 22.318125 \n\" style=\"fill:none;stroke:#000000;stroke-linecap:square;stroke-linejoin:miter;stroke-width:0.8;\"/>\n   </g>\n   <g id=\"text_24\">\n    <!-- Years -->\n    <defs>\n     <path d=\"M -0.203125 72.90625 \nL 10.40625 72.90625 \nL 30.609375 42.921875 \nL 50.6875 72.90625 \nL 61.28125 72.90625 \nL 35.5 34.71875 \nL 35.5 0 \nL 25.59375 0 \nL 25.59375 34.71875 \nz\n\" id=\"DejaVuSans-89\"/>\n     <path d=\"M 56.203125 29.59375 \nL 56.203125 25.203125 \nL 14.890625 25.203125 \nQ 15.484375 15.921875 20.484375 11.0625 \nQ 25.484375 6.203125 34.421875 6.203125 \nQ 39.59375 6.203125 44.453125 7.46875 \nQ 49.3125 8.734375 54.109375 11.28125 \nL 54.109375 2.78125 \nQ 49.265625 0.734375 44.1875 -0.34375 \nQ 39.109375 -1.421875 33.890625 -1.421875 \nQ 20.796875 -1.421875 13.15625 6.1875 \nQ 5.515625 13.8125 5.515625 26.8125 \nQ 5.515625 40.234375 12.765625 48.109375 \nQ 20.015625 56 32.328125 56 \nQ 43.359375 56 49.78125 48.890625 \nQ 56.203125 41.796875 56.203125 29.59375 \nz\nM 47.21875 32.234375 \nQ 47.125 39.59375 43.09375 43.984375 \nQ 39.0625 48.390625 32.421875 48.390625 \nQ 24.90625 48.390625 20.390625 44.140625 \nQ 15.875 39.890625 15.1875 32.171875 \nz\n\" id=\"DejaVuSans-101\"/>\n     <path d=\"M 44.28125 53.078125 \nL 44.28125 44.578125 \nQ 40.484375 46.53125 36.375 47.5 \nQ 32.28125 48.484375 27.875 48.484375 \nQ 21.1875 48.484375 17.84375 46.4375 \nQ 14.5 44.390625 14.5 40.28125 \nQ 14.5 37.15625 16.890625 35.375 \nQ 19.28125 33.59375 26.515625 31.984375 \nL 29.59375 31.296875 \nQ 39.15625 29.25 43.1875 25.515625 \nQ 47.21875 21.78125 47.21875 15.09375 \nQ 47.21875 7.46875 41.1875 3.015625 \nQ 35.15625 -1.421875 24.609375 -1.421875 \nQ 20.21875 -1.421875 15.453125 -0.5625 \nQ 10.6875 0.296875 5.421875 2 \nL 5.421875 11.28125 \nQ 10.40625 8.6875 15.234375 7.390625 \nQ 20.0625 6.109375 24.8125 6.109375 \nQ 31.15625 6.109375 34.5625 8.28125 \nQ 37.984375 10.453125 37.984375 14.40625 \nQ 37.984375 18.0625 35.515625 20.015625 \nQ 33.0625 21.96875 24.703125 23.78125 \nL 21.578125 24.515625 \nQ 13.234375 26.265625 9.515625 29.90625 \nQ 5.8125 33.546875 5.8125 39.890625 \nQ 5.8125 47.609375 11.28125 51.796875 \nQ 16.75 56 26.8125 56 \nQ 31.78125 56 36.171875 55.265625 \nQ 40.578125 54.546875 44.28125 53.078125 \nz\n\" id=\"DejaVuSans-115\"/>\n    </defs>\n    <g transform=\"translate(281.869579 16.318125)scale(0.12 -0.12)\">\n     <use xlink:href=\"#DejaVuSans-89\"/>\n     <use x=\"60.880859\" xlink:href=\"#DejaVuSans-101\"/>\n     <use x=\"122.404297\" xlink:href=\"#DejaVuSans-97\"/>\n     <use x=\"183.683594\" xlink:href=\"#DejaVuSans-114\"/>\n     <use x=\"224.796875\" xlink:href=\"#DejaVuSans-115\"/>\n    </g>\n   </g>\n  </g>\n </g>\n <defs>\n  <clipPath id=\"pb368f96270\">\n   <rect height=\"217.44\" width=\"145.565217\" x=\"36.465625\" y=\"22.318125\"/>\n  </clipPath>\n  <clipPath id=\"pd826c02d99\">\n   <rect height=\"217.44\" width=\"145.565217\" x=\"225.700408\" y=\"22.318125\"/>\n  </clipPath>\n </defs>\n</svg>\n",
      "image/png": "[encoded data removed]"
     },
     "metadata": {
      "needs_background": "light"
     }
    }
   ],
   "source": [
    "#your answer here\n",
    "employee.hist();\n",
    "\n",
    "#The minimum salary is 35K, with 2 persons earning that ammount. The maximum salary is 70K, with 2 persons earning that ammount.\n",
    "#Also, people commonly have ben working for the company for 2 years. "
   ]
  },
  {
   "cell_type": "code",
   "execution_count": 112,
   "metadata": {},
   "outputs": [
    {
     "output_type": "execute_result",
     "data": {
      "text/plain": "     Name Department Education Gender      Title  Years  Salary\n0    Jose         IT  Bachelor      M    analyst      1      35\n1   Maria         IT    Master      F    analyst      2      30\n2   David         HR    Master      M    analyst      2      30\n3   Sonia         HR  Bachelor      F    analyst      4      35\n4  Samuel      Sales    Master      M  associate      3      55\n5     Eva      Sales  Bachelor      F  associate      2      55\n6  Carlos         IT    Master      M         VP      8      70\n7   Pedro         IT       Phd      M  associate      7      60\n8     Ana         HR    Master      F         VP      8      70",
      "text/html": "<div>\n<style scoped>\n    .dataframe tbody tr th:only-of-type {\n        vertical-align: middle;\n    }\n\n    .dataframe tbody tr th {\n        vertical-align: top;\n    }\n\n    .dataframe thead th {\n        text-align: right;\n    }\n</style>\n<table border=\"1\" class=\"dataframe\">\n  <thead>\n    <tr style=\"text-align: right;\">\n      <th></th>\n      <th>Name</th>\n      <th>Department</th>\n      <th>Education</th>\n      <th>Gender</th>\n      <th>Title</th>\n      <th>Years</th>\n      <th>Salary</th>\n    </tr>\n  </thead>\n  <tbody>\n    <tr>\n      <th>0</th>\n      <td>Jose</td>\n      <td>IT</td>\n      <td>Bachelor</td>\n      <td>M</td>\n      <td>analyst</td>\n      <td>1</td>\n      <td>35</td>\n    </tr>\n    <tr>\n      <th>1</th>\n      <td>Maria</td>\n      <td>IT</td>\n      <td>Master</td>\n      <td>F</td>\n      <td>analyst</td>\n      <td>2</td>\n      <td>30</td>\n    </tr>\n    <tr>\n      <th>2</th>\n      <td>David</td>\n      <td>HR</td>\n      <td>Master</td>\n      <td>M</td>\n      <td>analyst</td>\n      <td>2</td>\n      <td>30</td>\n    </tr>\n    <tr>\n      <th>3</th>\n      <td>Sonia</td>\n      <td>HR</td>\n      <td>Bachelor</td>\n      <td>F</td>\n      <td>analyst</td>\n      <td>4</td>\n      <td>35</td>\n    </tr>\n    <tr>\n      <th>4</th>\n      <td>Samuel</td>\n      <td>Sales</td>\n      <td>Master</td>\n      <td>M</td>\n      <td>associate</td>\n      <td>3</td>\n      <td>55</td>\n    </tr>\n    <tr>\n      <th>5</th>\n      <td>Eva</td>\n      <td>Sales</td>\n      <td>Bachelor</td>\n      <td>F</td>\n      <td>associate</td>\n      <td>2</td>\n      <td>55</td>\n    </tr>\n    <tr>\n      <th>6</th>\n      <td>Carlos</td>\n      <td>IT</td>\n      <td>Master</td>\n      <td>M</td>\n      <td>VP</td>\n      <td>8</td>\n      <td>70</td>\n    </tr>\n    <tr>\n      <th>7</th>\n      <td>Pedro</td>\n      <td>IT</td>\n      <td>Phd</td>\n      <td>M</td>\n      <td>associate</td>\n      <td>7</td>\n      <td>60</td>\n    </tr>\n    <tr>\n      <th>8</th>\n      <td>Ana</td>\n      <td>HR</td>\n      <td>Master</td>\n      <td>F</td>\n      <td>VP</td>\n      <td>8</td>\n      <td>70</td>\n    </tr>\n  </tbody>\n</table>\n</div>"
     },
     "metadata": {},
     "execution_count": 112
    }
   ],
   "source": [
    "employee.head(10)"
   ]
  },
  {
   "cell_type": "markdown",
   "metadata": {},
   "source": [
    "#### What's the average salary in this company?"
   ]
  },
  {
   "cell_type": "code",
   "execution_count": 117,
   "metadata": {},
   "outputs": [
    {
     "output_type": "stream",
     "name": "stdout",
     "text": "The average salary in this company is 48.9K dollars a year.\n"
    }
   ],
   "source": [
    "# your answer here\n",
    "print('The average salary in this company is {:.1f}K dollars a year.'.format(employee.Salary.mean()))"
   ]
  },
  {
   "cell_type": "markdown",
   "metadata": {},
   "source": [
    "#### What's the highest salary?"
   ]
  },
  {
   "cell_type": "code",
   "execution_count": 118,
   "metadata": {},
   "outputs": [
    {
     "output_type": "stream",
     "name": "stdout",
     "text": "The highest salary in this company is 70.0K dollars a year.\n"
    }
   ],
   "source": [
    "# your answer here\n",
    "print('The highest salary in this company is {:.1f}K dollars a year.'.format(employee.Salary.max()))"
   ]
  },
  {
   "cell_type": "markdown",
   "metadata": {},
   "source": [
    "#### What's the lowest salary?"
   ]
  },
  {
   "cell_type": "code",
   "execution_count": 119,
   "metadata": {},
   "outputs": [
    {
     "output_type": "stream",
     "name": "stdout",
     "text": "The lowest salary in this company is 30.0K dollars a year.\n"
    }
   ],
   "source": [
    "# your answer here\n",
    "print('The lowest salary in this company is {:.1f}K dollars a year.'.format(employee.Salary.min()))"
   ]
  },
  {
   "cell_type": "markdown",
   "metadata": {},
   "source": [
    "#### Who are the employees with the lowest salary?"
   ]
  },
  {
   "cell_type": "code",
   "execution_count": 121,
   "metadata": {},
   "outputs": [
    {
     "output_type": "execute_result",
     "data": {
      "text/plain": "    Name Department Education Gender    Title  Years  Salary\n1  Maria         IT    Master      F  analyst      2      30\n2  David         HR    Master      M  analyst      2      30",
      "text/html": "<div>\n<style scoped>\n    .dataframe tbody tr th:only-of-type {\n        vertical-align: middle;\n    }\n\n    .dataframe tbody tr th {\n        vertical-align: top;\n    }\n\n    .dataframe thead th {\n        text-align: right;\n    }\n</style>\n<table border=\"1\" class=\"dataframe\">\n  <thead>\n    <tr style=\"text-align: right;\">\n      <th></th>\n      <th>Name</th>\n      <th>Department</th>\n      <th>Education</th>\n      <th>Gender</th>\n      <th>Title</th>\n      <th>Years</th>\n      <th>Salary</th>\n    </tr>\n  </thead>\n  <tbody>\n    <tr>\n      <th>1</th>\n      <td>Maria</td>\n      <td>IT</td>\n      <td>Master</td>\n      <td>F</td>\n      <td>analyst</td>\n      <td>2</td>\n      <td>30</td>\n    </tr>\n    <tr>\n      <th>2</th>\n      <td>David</td>\n      <td>HR</td>\n      <td>Master</td>\n      <td>M</td>\n      <td>analyst</td>\n      <td>2</td>\n      <td>30</td>\n    </tr>\n  </tbody>\n</table>\n</div>"
     },
     "metadata": {},
     "execution_count": 121
    }
   ],
   "source": [
    "# your answer here\n",
    "employee[employee.Salary == employee.Salary.min()]"
   ]
  },
  {
   "cell_type": "markdown",
   "metadata": {},
   "source": [
    "#### Could you give all the information about an employee called David?"
   ]
  },
  {
   "cell_type": "code",
   "execution_count": 125,
   "metadata": {},
   "outputs": [
    {
     "output_type": "execute_result",
     "data": {
      "text/plain": "    Name Department Education Gender    Title  Years  Salary\n2  David         HR    Master      M  analyst      2      30",
      "text/html": "<div>\n<style scoped>\n    .dataframe tbody tr th:only-of-type {\n        vertical-align: middle;\n    }\n\n    .dataframe tbody tr th {\n        vertical-align: top;\n    }\n\n    .dataframe thead th {\n        text-align: right;\n    }\n</style>\n<table border=\"1\" class=\"dataframe\">\n  <thead>\n    <tr style=\"text-align: right;\">\n      <th></th>\n      <th>Name</th>\n      <th>Department</th>\n      <th>Education</th>\n      <th>Gender</th>\n      <th>Title</th>\n      <th>Years</th>\n      <th>Salary</th>\n    </tr>\n  </thead>\n  <tbody>\n    <tr>\n      <th>2</th>\n      <td>David</td>\n      <td>HR</td>\n      <td>Master</td>\n      <td>M</td>\n      <td>analyst</td>\n      <td>2</td>\n      <td>30</td>\n    </tr>\n  </tbody>\n</table>\n</div>"
     },
     "metadata": {},
     "execution_count": 125
    }
   ],
   "source": [
    "# your answer here\n",
    "employee[employee.Name == 'David']"
   ]
  },
  {
   "cell_type": "markdown",
   "metadata": {},
   "source": [
    "#### Could you give only David's salary?"
   ]
  },
  {
   "cell_type": "code",
   "execution_count": 129,
   "metadata": {},
   "outputs": [
    {
     "output_type": "execute_result",
     "data": {
      "text/plain": "2    30\nName: Salary, dtype: int64"
     },
     "metadata": {},
     "execution_count": 129
    }
   ],
   "source": [
    "# your answer here\n",
    "employee.Salary[employee.Name == 'David']"
   ]
  },
  {
   "cell_type": "markdown",
   "metadata": {},
   "source": [
    "#### Print all the rows where job title is associate"
   ]
  },
  {
   "cell_type": "code",
   "execution_count": 131,
   "metadata": {},
   "outputs": [
    {
     "output_type": "execute_result",
     "data": {
      "text/plain": "     Name Department Education Gender      Title  Years  Salary\n4  Samuel      Sales    Master      M  associate      3      55\n5     Eva      Sales  Bachelor      F  associate      2      55\n7   Pedro         IT       Phd      M  associate      7      60",
      "text/html": "<div>\n<style scoped>\n    .dataframe tbody tr th:only-of-type {\n        vertical-align: middle;\n    }\n\n    .dataframe tbody tr th {\n        vertical-align: top;\n    }\n\n    .dataframe thead th {\n        text-align: right;\n    }\n</style>\n<table border=\"1\" class=\"dataframe\">\n  <thead>\n    <tr style=\"text-align: right;\">\n      <th></th>\n      <th>Name</th>\n      <th>Department</th>\n      <th>Education</th>\n      <th>Gender</th>\n      <th>Title</th>\n      <th>Years</th>\n      <th>Salary</th>\n    </tr>\n  </thead>\n  <tbody>\n    <tr>\n      <th>4</th>\n      <td>Samuel</td>\n      <td>Sales</td>\n      <td>Master</td>\n      <td>M</td>\n      <td>associate</td>\n      <td>3</td>\n      <td>55</td>\n    </tr>\n    <tr>\n      <th>5</th>\n      <td>Eva</td>\n      <td>Sales</td>\n      <td>Bachelor</td>\n      <td>F</td>\n      <td>associate</td>\n      <td>2</td>\n      <td>55</td>\n    </tr>\n    <tr>\n      <th>7</th>\n      <td>Pedro</td>\n      <td>IT</td>\n      <td>Phd</td>\n      <td>M</td>\n      <td>associate</td>\n      <td>7</td>\n      <td>60</td>\n    </tr>\n  </tbody>\n</table>\n</div>"
     },
     "metadata": {},
     "execution_count": 131
    }
   ],
   "source": [
    "# your answer here\n",
    "employee[employee.Title == 'associate']"
   ]
  },
  {
   "cell_type": "markdown",
   "metadata": {},
   "source": [
    "#### Print the first 3 rows of your dataframe\n",
    "\n",
    "##### Tip : There are 2 ways to do it. Do it both ways"
   ]
  },
  {
   "cell_type": "code",
   "execution_count": 132,
   "metadata": {},
   "outputs": [
    {
     "output_type": "execute_result",
     "data": {
      "text/plain": "    Name Department Education Gender    Title  Years  Salary\n0   Jose         IT  Bachelor      M  analyst      1      35\n1  Maria         IT    Master      F  analyst      2      30\n2  David         HR    Master      M  analyst      2      30",
      "text/html": "<div>\n<style scoped>\n    .dataframe tbody tr th:only-of-type {\n        vertical-align: middle;\n    }\n\n    .dataframe tbody tr th {\n        vertical-align: top;\n    }\n\n    .dataframe thead th {\n        text-align: right;\n    }\n</style>\n<table border=\"1\" class=\"dataframe\">\n  <thead>\n    <tr style=\"text-align: right;\">\n      <th></th>\n      <th>Name</th>\n      <th>Department</th>\n      <th>Education</th>\n      <th>Gender</th>\n      <th>Title</th>\n      <th>Years</th>\n      <th>Salary</th>\n    </tr>\n  </thead>\n  <tbody>\n    <tr>\n      <th>0</th>\n      <td>Jose</td>\n      <td>IT</td>\n      <td>Bachelor</td>\n      <td>M</td>\n      <td>analyst</td>\n      <td>1</td>\n      <td>35</td>\n    </tr>\n    <tr>\n      <th>1</th>\n      <td>Maria</td>\n      <td>IT</td>\n      <td>Master</td>\n      <td>F</td>\n      <td>analyst</td>\n      <td>2</td>\n      <td>30</td>\n    </tr>\n    <tr>\n      <th>2</th>\n      <td>David</td>\n      <td>HR</td>\n      <td>Master</td>\n      <td>M</td>\n      <td>analyst</td>\n      <td>2</td>\n      <td>30</td>\n    </tr>\n  </tbody>\n</table>\n</div>"
     },
     "metadata": {},
     "execution_count": 132
    }
   ],
   "source": [
    "# your answer here- 1 method\n",
    "employee.head(3)"
   ]
  },
  {
   "cell_type": "code",
   "execution_count": 134,
   "metadata": {},
   "outputs": [
    {
     "output_type": "execute_result",
     "data": {
      "text/plain": "    Name Department Education Gender    Title  Years  Salary\n0   Jose         IT  Bachelor      M  analyst      1      35\n1  Maria         IT    Master      F  analyst      2      30\n2  David         HR    Master      M  analyst      2      30\n3  Sonia         HR  Bachelor      F  analyst      4      35",
      "text/html": "<div>\n<style scoped>\n    .dataframe tbody tr th:only-of-type {\n        vertical-align: middle;\n    }\n\n    .dataframe tbody tr th {\n        vertical-align: top;\n    }\n\n    .dataframe thead th {\n        text-align: right;\n    }\n</style>\n<table border=\"1\" class=\"dataframe\">\n  <thead>\n    <tr style=\"text-align: right;\">\n      <th></th>\n      <th>Name</th>\n      <th>Department</th>\n      <th>Education</th>\n      <th>Gender</th>\n      <th>Title</th>\n      <th>Years</th>\n      <th>Salary</th>\n    </tr>\n  </thead>\n  <tbody>\n    <tr>\n      <th>0</th>\n      <td>Jose</td>\n      <td>IT</td>\n      <td>Bachelor</td>\n      <td>M</td>\n      <td>analyst</td>\n      <td>1</td>\n      <td>35</td>\n    </tr>\n    <tr>\n      <th>1</th>\n      <td>Maria</td>\n      <td>IT</td>\n      <td>Master</td>\n      <td>F</td>\n      <td>analyst</td>\n      <td>2</td>\n      <td>30</td>\n    </tr>\n    <tr>\n      <th>2</th>\n      <td>David</td>\n      <td>HR</td>\n      <td>Master</td>\n      <td>M</td>\n      <td>analyst</td>\n      <td>2</td>\n      <td>30</td>\n    </tr>\n    <tr>\n      <th>3</th>\n      <td>Sonia</td>\n      <td>HR</td>\n      <td>Bachelor</td>\n      <td>F</td>\n      <td>analyst</td>\n      <td>4</td>\n      <td>35</td>\n    </tr>\n  </tbody>\n</table>\n</div>"
     },
     "metadata": {},
     "execution_count": 134
    }
   ],
   "source": [
    "# your answer here- 2nd method\n",
    "employee.loc[0:3]"
   ]
  },
  {
   "cell_type": "code",
   "execution_count": 137,
   "metadata": {},
   "outputs": [
    {
     "output_type": "stream",
     "name": "stdout",
     "text": "You can also do it with iloc, but you're not ready to have this conversation.\n"
    },
    {
     "output_type": "execute_result",
     "data": {
      "text/plain": "    Name Department Education Gender    Title  Years  Salary\n0   Jose         IT  Bachelor      M  analyst      1      35\n1  Maria         IT    Master      F  analyst      2      30\n2  David         HR    Master      M  analyst      2      30",
      "text/html": "<div>\n<style scoped>\n    .dataframe tbody tr th:only-of-type {\n        vertical-align: middle;\n    }\n\n    .dataframe tbody tr th {\n        vertical-align: top;\n    }\n\n    .dataframe thead th {\n        text-align: right;\n    }\n</style>\n<table border=\"1\" class=\"dataframe\">\n  <thead>\n    <tr style=\"text-align: right;\">\n      <th></th>\n      <th>Name</th>\n      <th>Department</th>\n      <th>Education</th>\n      <th>Gender</th>\n      <th>Title</th>\n      <th>Years</th>\n      <th>Salary</th>\n    </tr>\n  </thead>\n  <tbody>\n    <tr>\n      <th>0</th>\n      <td>Jose</td>\n      <td>IT</td>\n      <td>Bachelor</td>\n      <td>M</td>\n      <td>analyst</td>\n      <td>1</td>\n      <td>35</td>\n    </tr>\n    <tr>\n      <th>1</th>\n      <td>Maria</td>\n      <td>IT</td>\n      <td>Master</td>\n      <td>F</td>\n      <td>analyst</td>\n      <td>2</td>\n      <td>30</td>\n    </tr>\n    <tr>\n      <th>2</th>\n      <td>David</td>\n      <td>HR</td>\n      <td>Master</td>\n      <td>M</td>\n      <td>analyst</td>\n      <td>2</td>\n      <td>30</td>\n    </tr>\n  </tbody>\n</table>\n</div>"
     },
     "metadata": {},
     "execution_count": 137
    }
   ],
   "source": [
    "print('You can also do it with iloc, but you\\'re not ready to have this conversation.')\n",
    "employee.iloc[0:3]"
   ]
  },
  {
   "cell_type": "markdown",
   "metadata": {},
   "source": [
    "#### Find the employees who's title is associate and the salary above 55?"
   ]
  },
  {
   "cell_type": "code",
   "execution_count": 138,
   "metadata": {},
   "outputs": [
    {
     "output_type": "execute_result",
     "data": {
      "text/plain": "    Name Department Education Gender      Title  Years  Salary\n7  Pedro         IT       Phd      M  associate      7      60",
      "text/html": "<div>\n<style scoped>\n    .dataframe tbody tr th:only-of-type {\n        vertical-align: middle;\n    }\n\n    .dataframe tbody tr th {\n        vertical-align: top;\n    }\n\n    .dataframe thead th {\n        text-align: right;\n    }\n</style>\n<table border=\"1\" class=\"dataframe\">\n  <thead>\n    <tr style=\"text-align: right;\">\n      <th></th>\n      <th>Name</th>\n      <th>Department</th>\n      <th>Education</th>\n      <th>Gender</th>\n      <th>Title</th>\n      <th>Years</th>\n      <th>Salary</th>\n    </tr>\n  </thead>\n  <tbody>\n    <tr>\n      <th>7</th>\n      <td>Pedro</td>\n      <td>IT</td>\n      <td>Phd</td>\n      <td>M</td>\n      <td>associate</td>\n      <td>7</td>\n      <td>60</td>\n    </tr>\n  </tbody>\n</table>\n</div>"
     },
     "metadata": {},
     "execution_count": 138
    }
   ],
   "source": [
    "# your answer here\n",
    "employee[(employee.Title == 'associate') & (employee.Salary >55)]"
   ]
  },
  {
   "cell_type": "markdown",
   "metadata": {},
   "source": [
    "#### Group the employees based on their number of years of employment. What are the average salaries in each group?"
   ]
  },
  {
   "cell_type": "code",
   "execution_count": 143,
   "metadata": {},
   "outputs": [
    {
     "output_type": "execute_result",
     "data": {
      "text/plain": "          Salary\n            mean\nYears           \n1      35.000000\n2      38.333333\n3      55.000000\n4      35.000000\n7      60.000000\n8      70.000000",
      "text/html": "<div>\n<style scoped>\n    .dataframe tbody tr th:only-of-type {\n        vertical-align: middle;\n    }\n\n    .dataframe tbody tr th {\n        vertical-align: top;\n    }\n\n    .dataframe thead tr th {\n        text-align: left;\n    }\n\n    .dataframe thead tr:last-of-type th {\n        text-align: right;\n    }\n</style>\n<table border=\"1\" class=\"dataframe\">\n  <thead>\n    <tr>\n      <th></th>\n      <th>Salary</th>\n    </tr>\n    <tr>\n      <th></th>\n      <th>mean</th>\n    </tr>\n    <tr>\n      <th>Years</th>\n      <th></th>\n    </tr>\n  </thead>\n  <tbody>\n    <tr>\n      <th>1</th>\n      <td>35.000000</td>\n    </tr>\n    <tr>\n      <th>2</th>\n      <td>38.333333</td>\n    </tr>\n    <tr>\n      <th>3</th>\n      <td>55.000000</td>\n    </tr>\n    <tr>\n      <th>4</th>\n      <td>35.000000</td>\n    </tr>\n    <tr>\n      <th>7</th>\n      <td>60.000000</td>\n    </tr>\n    <tr>\n      <th>8</th>\n      <td>70.000000</td>\n    </tr>\n  </tbody>\n</table>\n</div>"
     },
     "metadata": {},
     "execution_count": 143
    }
   ],
   "source": [
    "# your answer here\n",
    "employee.groupby('Years').aggregate([np.mean])"
   ]
  },
  {
   "cell_type": "markdown",
   "metadata": {},
   "source": [
    "####  What is the average Salary per title?"
   ]
  },
  {
   "cell_type": "code",
   "execution_count": 151,
   "metadata": {},
   "outputs": [
    {
     "output_type": "execute_result",
     "data": {
      "text/plain": "          Years     Salary\n           mean       mean\nTitle                     \nVP         8.00  70.000000\nanalyst    2.25  32.500000\nassociate  4.00  56.666667",
      "text/html": "<div>\n<style scoped>\n    .dataframe tbody tr th:only-of-type {\n        vertical-align: middle;\n    }\n\n    .dataframe tbody tr th {\n        vertical-align: top;\n    }\n\n    .dataframe thead tr th {\n        text-align: left;\n    }\n\n    .dataframe thead tr:last-of-type th {\n        text-align: right;\n    }\n</style>\n<table border=\"1\" class=\"dataframe\">\n  <thead>\n    <tr>\n      <th></th>\n      <th>Years</th>\n      <th>Salary</th>\n    </tr>\n    <tr>\n      <th></th>\n      <th>mean</th>\n      <th>mean</th>\n    </tr>\n    <tr>\n      <th>Title</th>\n      <th></th>\n      <th></th>\n    </tr>\n  </thead>\n  <tbody>\n    <tr>\n      <th>VP</th>\n      <td>8.00</td>\n      <td>70.000000</td>\n    </tr>\n    <tr>\n      <th>analyst</th>\n      <td>2.25</td>\n      <td>32.500000</td>\n    </tr>\n    <tr>\n      <th>associate</th>\n      <td>4.00</td>\n      <td>56.666667</td>\n    </tr>\n  </tbody>\n</table>\n</div>"
     },
     "metadata": {},
     "execution_count": 151
    }
   ],
   "source": [
    "# your answer here\n",
    "employee.groupby('Title').aggregate([np.mean])"
   ]
  },
  {
   "cell_type": "markdown",
   "metadata": {},
   "source": [
    "#### Show a visual summary of the data using boxplot. What Are the First and Third Quartiles? Comment your results.\n",
    "##### * Hint : Quantiles vs Quartiles*\n",
    "##### - `In Probability and Statistics, quantiles are cut points dividing the range of a probability distribution into continuous intervals with equal probabilities. When division is into four parts the values of the variate corresponding to 25%, 50% and 75% of the total distribution are called quartiles.`"
   ]
  },
  {
   "cell_type": "code",
   "execution_count": 154,
   "metadata": {},
   "outputs": [
    {
     "output_type": "display_data",
     "data": {
      "text/plain": "<Figure size 360x360 with 1 Axes>",
      "image/svg+xml": "<?xml version=\"1.0\" encoding=\"utf-8\" standalone=\"no\"?>\n<!DOCTYPE svg PUBLIC \"-//W3C//DTD SVG 1.1//EN\"\n  \"http://www.w3.org/Graphics/SVG/1.1/DTD/svg11.dtd\">\n<!-- Created with matplotlib (https://matplotlib.org/) -->\n<svg height=\"302.878125pt\" version=\"1.1\" viewBox=\"0 0 313.125 302.878125\" width=\"313.125pt\" xmlns=\"http://www.w3.org/2000/svg\" xmlns:xlink=\"http://www.w3.org/1999/xlink\">\n <defs>\n  <style type=\"text/css\">\n*{stroke-linecap:butt;stroke-linejoin:round;}\n  </style>\n </defs>\n <g id=\"figure_1\">\n  <g id=\"patch_1\">\n   <path d=\"M 0 302.878125 \nL 313.125 302.878125 \nL 313.125 0 \nL 0 0 \nz\n\" style=\"fill:none;\"/>\n  </g>\n  <g id=\"axes_1\">\n   <g id=\"patch_2\">\n    <path d=\"M 26.925 279 \nL 305.925 279 \nL 305.925 7.2 \nL 26.925 7.2 \nz\n\" style=\"fill:#ffffff;\"/>\n   </g>\n   <g id=\"matplotlib.axis_1\">\n    <g id=\"xtick_1\">\n     <g id=\"line2d_1\">\n      <path clip-path=\"url(#p6ec45ad71f)\" d=\"M 96.675 279 \nL 96.675 7.2 \n\" style=\"fill:none;stroke:#b0b0b0;stroke-linecap:square;stroke-width:0.8;\"/>\n     </g>\n     <g id=\"line2d_2\">\n      <defs>\n       <path d=\"M 0 0 \nL 0 3.5 \n\" id=\"m664b847228\" style=\"stroke:#000000;stroke-width:0.8;\"/>\n      </defs>\n      <g>\n       <use style=\"stroke:#000000;stroke-width:0.8;\" x=\"96.675\" xlink:href=\"#m664b847228\" y=\"279\"/>\n      </g>\n     </g>\n     <g id=\"text_1\">\n      <!-- Years -->\n      <defs>\n       <path d=\"M -0.203125 72.90625 \nL 10.40625 72.90625 \nL 30.609375 42.921875 \nL 50.6875 72.90625 \nL 61.28125 72.90625 \nL 35.5 34.71875 \nL 35.5 0 \nL 25.59375 0 \nL 25.59375 34.71875 \nz\n\" id=\"DejaVuSans-89\"/>\n       <path d=\"M 56.203125 29.59375 \nL 56.203125 25.203125 \nL 14.890625 25.203125 \nQ 15.484375 15.921875 20.484375 11.0625 \nQ 25.484375 6.203125 34.421875 6.203125 \nQ 39.59375 6.203125 44.453125 7.46875 \nQ 49.3125 8.734375 54.109375 11.28125 \nL 54.109375 2.78125 \nQ 49.265625 0.734375 44.1875 -0.34375 \nQ 39.109375 -1.421875 33.890625 -1.421875 \nQ 20.796875 -1.421875 13.15625 6.1875 \nQ 5.515625 13.8125 5.515625 26.8125 \nQ 5.515625 40.234375 12.765625 48.109375 \nQ 20.015625 56 32.328125 56 \nQ 43.359375 56 49.78125 48.890625 \nQ 56.203125 41.796875 56.203125 29.59375 \nz\nM 47.21875 32.234375 \nQ 47.125 39.59375 43.09375 43.984375 \nQ 39.0625 48.390625 32.421875 48.390625 \nQ 24.90625 48.390625 20.390625 44.140625 \nQ 15.875 39.890625 15.1875 32.171875 \nz\n\" id=\"DejaVuSans-101\"/>\n       <path d=\"M 34.28125 27.484375 \nQ 23.390625 27.484375 19.1875 25 \nQ 14.984375 22.515625 14.984375 16.5 \nQ 14.984375 11.71875 18.140625 8.90625 \nQ 21.296875 6.109375 26.703125 6.109375 \nQ 34.1875 6.109375 38.703125 11.40625 \nQ 43.21875 16.703125 43.21875 25.484375 \nL 43.21875 27.484375 \nz\nM 52.203125 31.203125 \nL 52.203125 0 \nL 43.21875 0 \nL 43.21875 8.296875 \nQ 40.140625 3.328125 35.546875 0.953125 \nQ 30.953125 -1.421875 24.3125 -1.421875 \nQ 15.921875 -1.421875 10.953125 3.296875 \nQ 6 8.015625 6 15.921875 \nQ 6 25.140625 12.171875 29.828125 \nQ 18.359375 34.515625 30.609375 34.515625 \nL 43.21875 34.515625 \nL 43.21875 35.40625 \nQ 43.21875 41.609375 39.140625 45 \nQ 35.0625 48.390625 27.6875 48.390625 \nQ 23 48.390625 18.546875 47.265625 \nQ 14.109375 46.140625 10.015625 43.890625 \nL 10.015625 52.203125 \nQ 14.9375 54.109375 19.578125 55.046875 \nQ 24.21875 56 28.609375 56 \nQ 40.484375 56 46.34375 49.84375 \nQ 52.203125 43.703125 52.203125 31.203125 \nz\n\" id=\"DejaVuSans-97\"/>\n       <path d=\"M 41.109375 46.296875 \nQ 39.59375 47.171875 37.8125 47.578125 \nQ 36.03125 48 33.890625 48 \nQ 26.265625 48 22.1875 43.046875 \nQ 18.109375 38.09375 18.109375 28.8125 \nL 18.109375 0 \nL 9.078125 0 \nL 9.078125 54.6875 \nL 18.109375 54.6875 \nL 18.109375 46.1875 \nQ 20.953125 51.171875 25.484375 53.578125 \nQ 30.03125 56 36.53125 56 \nQ 37.453125 56 38.578125 55.875 \nQ 39.703125 55.765625 41.0625 55.515625 \nz\n\" id=\"DejaVuSans-114\"/>\n       <path d=\"M 44.28125 53.078125 \nL 44.28125 44.578125 \nQ 40.484375 46.53125 36.375 47.5 \nQ 32.28125 48.484375 27.875 48.484375 \nQ 21.1875 48.484375 17.84375 46.4375 \nQ 14.5 44.390625 14.5 40.28125 \nQ 14.5 37.15625 16.890625 35.375 \nQ 19.28125 33.59375 26.515625 31.984375 \nL 29.59375 31.296875 \nQ 39.15625 29.25 43.1875 25.515625 \nQ 47.21875 21.78125 47.21875 15.09375 \nQ 47.21875 7.46875 41.1875 3.015625 \nQ 35.15625 -1.421875 24.609375 -1.421875 \nQ 20.21875 -1.421875 15.453125 -0.5625 \nQ 10.6875 0.296875 5.421875 2 \nL 5.421875 11.28125 \nQ 10.40625 8.6875 15.234375 7.390625 \nQ 20.0625 6.109375 24.8125 6.109375 \nQ 31.15625 6.109375 34.5625 8.28125 \nQ 37.984375 10.453125 37.984375 14.40625 \nQ 37.984375 18.0625 35.515625 20.015625 \nQ 33.0625 21.96875 24.703125 23.78125 \nL 21.578125 24.515625 \nQ 13.234375 26.265625 9.515625 29.90625 \nQ 5.8125 33.546875 5.8125 39.890625 \nQ 5.8125 47.609375 11.28125 51.796875 \nQ 16.75 56 26.8125 56 \nQ 31.78125 56 36.171875 55.265625 \nQ 40.578125 54.546875 44.28125 53.078125 \nz\n\" id=\"DejaVuSans-115\"/>\n      </defs>\n      <g transform=\"translate(82.830469 293.598437)scale(0.1 -0.1)\">\n       <use xlink:href=\"#DejaVuSans-89\"/>\n       <use x=\"60.880859\" xlink:href=\"#DejaVuSans-101\"/>\n       <use x=\"122.404297\" xlink:href=\"#DejaVuSans-97\"/>\n       <use x=\"183.683594\" xlink:href=\"#DejaVuSans-114\"/>\n       <use x=\"224.796875\" xlink:href=\"#DejaVuSans-115\"/>\n      </g>\n     </g>\n    </g>\n    <g id=\"xtick_2\">\n     <g id=\"line2d_3\">\n      <path clip-path=\"url(#p6ec45ad71f)\" d=\"M 236.175 279 \nL 236.175 7.2 \n\" style=\"fill:none;stroke:#b0b0b0;stroke-linecap:square;stroke-width:0.8;\"/>\n     </g>\n     <g id=\"line2d_4\">\n      <g>\n       <use style=\"stroke:#000000;stroke-width:0.8;\" x=\"236.175\" xlink:href=\"#m664b847228\" y=\"279\"/>\n      </g>\n     </g>\n     <g id=\"text_2\">\n      <!-- Salary -->\n      <defs>\n       <path d=\"M 53.515625 70.515625 \nL 53.515625 60.890625 \nQ 47.90625 63.578125 42.921875 64.890625 \nQ 37.9375 66.21875 33.296875 66.21875 \nQ 25.25 66.21875 20.875 63.09375 \nQ 16.5 59.96875 16.5 54.203125 \nQ 16.5 49.359375 19.40625 46.890625 \nQ 22.3125 44.4375 30.421875 42.921875 \nL 36.375 41.703125 \nQ 47.40625 39.59375 52.65625 34.296875 \nQ 57.90625 29 57.90625 20.125 \nQ 57.90625 9.515625 50.796875 4.046875 \nQ 43.703125 -1.421875 29.984375 -1.421875 \nQ 24.8125 -1.421875 18.96875 -0.25 \nQ 13.140625 0.921875 6.890625 3.21875 \nL 6.890625 13.375 \nQ 12.890625 10.015625 18.65625 8.296875 \nQ 24.421875 6.59375 29.984375 6.59375 \nQ 38.421875 6.59375 43.015625 9.90625 \nQ 47.609375 13.234375 47.609375 19.390625 \nQ 47.609375 24.75 44.3125 27.78125 \nQ 41.015625 30.8125 33.5 32.328125 \nL 27.484375 33.5 \nQ 16.453125 35.6875 11.515625 40.375 \nQ 6.59375 45.0625 6.59375 53.421875 \nQ 6.59375 63.09375 13.40625 68.65625 \nQ 20.21875 74.21875 32.171875 74.21875 \nQ 37.3125 74.21875 42.625 73.28125 \nQ 47.953125 72.359375 53.515625 70.515625 \nz\n\" id=\"DejaVuSans-83\"/>\n       <path d=\"M 9.421875 75.984375 \nL 18.40625 75.984375 \nL 18.40625 0 \nL 9.421875 0 \nz\n\" id=\"DejaVuSans-108\"/>\n       <path d=\"M 32.171875 -5.078125 \nQ 28.375 -14.84375 24.75 -17.8125 \nQ 21.140625 -20.796875 15.09375 -20.796875 \nL 7.90625 -20.796875 \nL 7.90625 -13.28125 \nL 13.1875 -13.28125 \nQ 16.890625 -13.28125 18.9375 -11.515625 \nQ 21 -9.765625 23.484375 -3.21875 \nL 25.09375 0.875 \nL 2.984375 54.6875 \nL 12.5 54.6875 \nL 29.59375 11.921875 \nL 46.6875 54.6875 \nL 56.203125 54.6875 \nz\n\" id=\"DejaVuSans-121\"/>\n      </defs>\n      <g transform=\"translate(220.46875 293.598437)scale(0.1 -0.1)\">\n       <use xlink:href=\"#DejaVuSans-83\"/>\n       <use x=\"63.476562\" xlink:href=\"#DejaVuSans-97\"/>\n       <use x=\"124.755859\" xlink:href=\"#DejaVuSans-108\"/>\n       <use x=\"152.539062\" xlink:href=\"#DejaVuSans-97\"/>\n       <use x=\"213.818359\" xlink:href=\"#DejaVuSans-114\"/>\n       <use x=\"254.931641\" xlink:href=\"#DejaVuSans-121\"/>\n      </g>\n     </g>\n    </g>\n   </g>\n   <g id=\"matplotlib.axis_2\">\n    <g id=\"ytick_1\">\n     <g id=\"line2d_5\">\n      <path clip-path=\"url(#p6ec45ad71f)\" d=\"M 26.925 270.226482 \nL 305.925 270.226482 \n\" style=\"fill:none;stroke:#b0b0b0;stroke-linecap:square;stroke-width:0.8;\"/>\n     </g>\n     <g id=\"line2d_6\">\n      <defs>\n       <path d=\"M 0 0 \nL -3.5 0 \n\" id=\"m4c6a5205df\" style=\"stroke:#000000;stroke-width:0.8;\"/>\n      </defs>\n      <g>\n       <use style=\"stroke:#000000;stroke-width:0.8;\" x=\"26.925\" xlink:href=\"#m4c6a5205df\" y=\"270.226482\"/>\n      </g>\n     </g>\n     <g id=\"text_3\">\n      <!-- 0 -->\n      <defs>\n       <path d=\"M 31.78125 66.40625 \nQ 24.171875 66.40625 20.328125 58.90625 \nQ 16.5 51.421875 16.5 36.375 \nQ 16.5 21.390625 20.328125 13.890625 \nQ 24.171875 6.390625 31.78125 6.390625 \nQ 39.453125 6.390625 43.28125 13.890625 \nQ 47.125 21.390625 47.125 36.375 \nQ 47.125 51.421875 43.28125 58.90625 \nQ 39.453125 66.40625 31.78125 66.40625 \nz\nM 31.78125 74.21875 \nQ 44.046875 74.21875 50.515625 64.515625 \nQ 56.984375 54.828125 56.984375 36.375 \nQ 56.984375 17.96875 50.515625 8.265625 \nQ 44.046875 -1.421875 31.78125 -1.421875 \nQ 19.53125 -1.421875 13.0625 8.265625 \nQ 6.59375 17.96875 6.59375 36.375 \nQ 6.59375 54.828125 13.0625 64.515625 \nQ 19.53125 74.21875 31.78125 74.21875 \nz\n\" id=\"DejaVuSans-48\"/>\n      </defs>\n      <g transform=\"translate(13.5625 274.025701)scale(0.1 -0.1)\">\n       <use xlink:href=\"#DejaVuSans-48\"/>\n      </g>\n     </g>\n    </g>\n    <g id=\"ytick_2\">\n     <g id=\"line2d_7\">\n      <path clip-path=\"url(#p6ec45ad71f)\" d=\"M 26.925 234.416206 \nL 305.925 234.416206 \n\" style=\"fill:none;stroke:#b0b0b0;stroke-linecap:square;stroke-width:0.8;\"/>\n     </g>\n     <g id=\"line2d_8\">\n      <g>\n       <use style=\"stroke:#000000;stroke-width:0.8;\" x=\"26.925\" xlink:href=\"#m4c6a5205df\" y=\"234.416206\"/>\n      </g>\n     </g>\n     <g id=\"text_4\">\n      <!-- 10 -->\n      <defs>\n       <path d=\"M 12.40625 8.296875 \nL 28.515625 8.296875 \nL 28.515625 63.921875 \nL 10.984375 60.40625 \nL 10.984375 69.390625 \nL 28.421875 72.90625 \nL 38.28125 72.90625 \nL 38.28125 8.296875 \nL 54.390625 8.296875 \nL 54.390625 0 \nL 12.40625 0 \nz\n\" id=\"DejaVuSans-49\"/>\n      </defs>\n      <g transform=\"translate(7.2 238.215424)scale(0.1 -0.1)\">\n       <use xlink:href=\"#DejaVuSans-49\"/>\n       <use x=\"63.623047\" xlink:href=\"#DejaVuSans-48\"/>\n      </g>\n     </g>\n    </g>\n    <g id=\"ytick_3\">\n     <g id=\"line2d_9\">\n      <path clip-path=\"url(#p6ec45ad71f)\" d=\"M 26.925 198.605929 \nL 305.925 198.605929 \n\" style=\"fill:none;stroke:#b0b0b0;stroke-linecap:square;stroke-width:0.8;\"/>\n     </g>\n     <g id=\"line2d_10\">\n      <g>\n       <use style=\"stroke:#000000;stroke-width:0.8;\" x=\"26.925\" xlink:href=\"#m4c6a5205df\" y=\"198.605929\"/>\n      </g>\n     </g>\n     <g id=\"text_5\">\n      <!-- 20 -->\n      <defs>\n       <path d=\"M 19.1875 8.296875 \nL 53.609375 8.296875 \nL 53.609375 0 \nL 7.328125 0 \nL 7.328125 8.296875 \nQ 12.9375 14.109375 22.625 23.890625 \nQ 32.328125 33.6875 34.8125 36.53125 \nQ 39.546875 41.84375 41.421875 45.53125 \nQ 43.3125 49.21875 43.3125 52.78125 \nQ 43.3125 58.59375 39.234375 62.25 \nQ 35.15625 65.921875 28.609375 65.921875 \nQ 23.96875 65.921875 18.8125 64.3125 \nQ 13.671875 62.703125 7.8125 59.421875 \nL 7.8125 69.390625 \nQ 13.765625 71.78125 18.9375 73 \nQ 24.125 74.21875 28.421875 74.21875 \nQ 39.75 74.21875 46.484375 68.546875 \nQ 53.21875 62.890625 53.21875 53.421875 \nQ 53.21875 48.921875 51.53125 44.890625 \nQ 49.859375 40.875 45.40625 35.40625 \nQ 44.1875 33.984375 37.640625 27.21875 \nQ 31.109375 20.453125 19.1875 8.296875 \nz\n\" id=\"DejaVuSans-50\"/>\n      </defs>\n      <g transform=\"translate(7.2 202.405148)scale(0.1 -0.1)\">\n       <use xlink:href=\"#DejaVuSans-50\"/>\n       <use x=\"63.623047\" xlink:href=\"#DejaVuSans-48\"/>\n      </g>\n     </g>\n    </g>\n    <g id=\"ytick_4\">\n     <g id=\"line2d_11\">\n      <path clip-path=\"url(#p6ec45ad71f)\" d=\"M 26.925 162.795652 \nL 305.925 162.795652 \n\" style=\"fill:none;stroke:#b0b0b0;stroke-linecap:square;stroke-width:0.8;\"/>\n     </g>\n     <g id=\"line2d_12\">\n      <g>\n       <use style=\"stroke:#000000;stroke-width:0.8;\" x=\"26.925\" xlink:href=\"#m4c6a5205df\" y=\"162.795652\"/>\n      </g>\n     </g>\n     <g id=\"text_6\">\n      <!-- 30 -->\n      <defs>\n       <path d=\"M 40.578125 39.3125 \nQ 47.65625 37.796875 51.625 33 \nQ 55.609375 28.21875 55.609375 21.1875 \nQ 55.609375 10.40625 48.1875 4.484375 \nQ 40.765625 -1.421875 27.09375 -1.421875 \nQ 22.515625 -1.421875 17.65625 -0.515625 \nQ 12.796875 0.390625 7.625 2.203125 \nL 7.625 11.71875 \nQ 11.71875 9.328125 16.59375 8.109375 \nQ 21.484375 6.890625 26.8125 6.890625 \nQ 36.078125 6.890625 40.9375 10.546875 \nQ 45.796875 14.203125 45.796875 21.1875 \nQ 45.796875 27.640625 41.28125 31.265625 \nQ 36.765625 34.90625 28.71875 34.90625 \nL 20.21875 34.90625 \nL 20.21875 43.015625 \nL 29.109375 43.015625 \nQ 36.375 43.015625 40.234375 45.921875 \nQ 44.09375 48.828125 44.09375 54.296875 \nQ 44.09375 59.90625 40.109375 62.90625 \nQ 36.140625 65.921875 28.71875 65.921875 \nQ 24.65625 65.921875 20.015625 65.03125 \nQ 15.375 64.15625 9.8125 62.3125 \nL 9.8125 71.09375 \nQ 15.4375 72.65625 20.34375 73.4375 \nQ 25.25 74.21875 29.59375 74.21875 \nQ 40.828125 74.21875 47.359375 69.109375 \nQ 53.90625 64.015625 53.90625 55.328125 \nQ 53.90625 49.265625 50.4375 45.09375 \nQ 46.96875 40.921875 40.578125 39.3125 \nz\n\" id=\"DejaVuSans-51\"/>\n      </defs>\n      <g transform=\"translate(7.2 166.594871)scale(0.1 -0.1)\">\n       <use xlink:href=\"#DejaVuSans-51\"/>\n       <use x=\"63.623047\" xlink:href=\"#DejaVuSans-48\"/>\n      </g>\n     </g>\n    </g>\n    <g id=\"ytick_5\">\n     <g id=\"line2d_13\">\n      <path clip-path=\"url(#p6ec45ad71f)\" d=\"M 26.925 126.985375 \nL 305.925 126.985375 \n\" style=\"fill:none;stroke:#b0b0b0;stroke-linecap:square;stroke-width:0.8;\"/>\n     </g>\n     <g id=\"line2d_14\">\n      <g>\n       <use style=\"stroke:#000000;stroke-width:0.8;\" x=\"26.925\" xlink:href=\"#m4c6a5205df\" y=\"126.985375\"/>\n      </g>\n     </g>\n     <g id=\"text_7\">\n      <!-- 40 -->\n      <defs>\n       <path d=\"M 37.796875 64.3125 \nL 12.890625 25.390625 \nL 37.796875 25.390625 \nz\nM 35.203125 72.90625 \nL 47.609375 72.90625 \nL 47.609375 25.390625 \nL 58.015625 25.390625 \nL 58.015625 17.1875 \nL 47.609375 17.1875 \nL 47.609375 0 \nL 37.796875 0 \nL 37.796875 17.1875 \nL 4.890625 17.1875 \nL 4.890625 26.703125 \nz\n\" id=\"DejaVuSans-52\"/>\n      </defs>\n      <g transform=\"translate(7.2 130.784594)scale(0.1 -0.1)\">\n       <use xlink:href=\"#DejaVuSans-52\"/>\n       <use x=\"63.623047\" xlink:href=\"#DejaVuSans-48\"/>\n      </g>\n     </g>\n    </g>\n    <g id=\"ytick_6\">\n     <g id=\"line2d_15\">\n      <path clip-path=\"url(#p6ec45ad71f)\" d=\"M 26.925 91.175099 \nL 305.925 91.175099 \n\" style=\"fill:none;stroke:#b0b0b0;stroke-linecap:square;stroke-width:0.8;\"/>\n     </g>\n     <g id=\"line2d_16\">\n      <g>\n       <use style=\"stroke:#000000;stroke-width:0.8;\" x=\"26.925\" xlink:href=\"#m4c6a5205df\" y=\"91.175099\"/>\n      </g>\n     </g>\n     <g id=\"text_8\">\n      <!-- 50 -->\n      <defs>\n       <path d=\"M 10.796875 72.90625 \nL 49.515625 72.90625 \nL 49.515625 64.59375 \nL 19.828125 64.59375 \nL 19.828125 46.734375 \nQ 21.96875 47.46875 24.109375 47.828125 \nQ 26.265625 48.1875 28.421875 48.1875 \nQ 40.625 48.1875 47.75 41.5 \nQ 54.890625 34.8125 54.890625 23.390625 \nQ 54.890625 11.625 47.5625 5.09375 \nQ 40.234375 -1.421875 26.90625 -1.421875 \nQ 22.3125 -1.421875 17.546875 -0.640625 \nQ 12.796875 0.140625 7.71875 1.703125 \nL 7.71875 11.625 \nQ 12.109375 9.234375 16.796875 8.0625 \nQ 21.484375 6.890625 26.703125 6.890625 \nQ 35.15625 6.890625 40.078125 11.328125 \nQ 45.015625 15.765625 45.015625 23.390625 \nQ 45.015625 31 40.078125 35.4375 \nQ 35.15625 39.890625 26.703125 39.890625 \nQ 22.75 39.890625 18.8125 39.015625 \nQ 14.890625 38.140625 10.796875 36.28125 \nz\n\" id=\"DejaVuSans-53\"/>\n      </defs>\n      <g transform=\"translate(7.2 94.974318)scale(0.1 -0.1)\">\n       <use xlink:href=\"#DejaVuSans-53\"/>\n       <use x=\"63.623047\" xlink:href=\"#DejaVuSans-48\"/>\n      </g>\n     </g>\n    </g>\n    <g id=\"ytick_7\">\n     <g id=\"line2d_17\">\n      <path clip-path=\"url(#p6ec45ad71f)\" d=\"M 26.925 55.364822 \nL 305.925 55.364822 \n\" style=\"fill:none;stroke:#b0b0b0;stroke-linecap:square;stroke-width:0.8;\"/>\n     </g>\n     <g id=\"line2d_18\">\n      <g>\n       <use style=\"stroke:#000000;stroke-width:0.8;\" x=\"26.925\" xlink:href=\"#m4c6a5205df\" y=\"55.364822\"/>\n      </g>\n     </g>\n     <g id=\"text_9\">\n      <!-- 60 -->\n      <defs>\n       <path d=\"M 33.015625 40.375 \nQ 26.375 40.375 22.484375 35.828125 \nQ 18.609375 31.296875 18.609375 23.390625 \nQ 18.609375 15.53125 22.484375 10.953125 \nQ 26.375 6.390625 33.015625 6.390625 \nQ 39.65625 6.390625 43.53125 10.953125 \nQ 47.40625 15.53125 47.40625 23.390625 \nQ 47.40625 31.296875 43.53125 35.828125 \nQ 39.65625 40.375 33.015625 40.375 \nz\nM 52.59375 71.296875 \nL 52.59375 62.3125 \nQ 48.875 64.0625 45.09375 64.984375 \nQ 41.3125 65.921875 37.59375 65.921875 \nQ 27.828125 65.921875 22.671875 59.328125 \nQ 17.53125 52.734375 16.796875 39.40625 \nQ 19.671875 43.65625 24.015625 45.921875 \nQ 28.375 48.1875 33.59375 48.1875 \nQ 44.578125 48.1875 50.953125 41.515625 \nQ 57.328125 34.859375 57.328125 23.390625 \nQ 57.328125 12.15625 50.6875 5.359375 \nQ 44.046875 -1.421875 33.015625 -1.421875 \nQ 20.359375 -1.421875 13.671875 8.265625 \nQ 6.984375 17.96875 6.984375 36.375 \nQ 6.984375 53.65625 15.1875 63.9375 \nQ 23.390625 74.21875 37.203125 74.21875 \nQ 40.921875 74.21875 44.703125 73.484375 \nQ 48.484375 72.75 52.59375 71.296875 \nz\n\" id=\"DejaVuSans-54\"/>\n      </defs>\n      <g transform=\"translate(7.2 59.164041)scale(0.1 -0.1)\">\n       <use xlink:href=\"#DejaVuSans-54\"/>\n       <use x=\"63.623047\" xlink:href=\"#DejaVuSans-48\"/>\n      </g>\n     </g>\n    </g>\n    <g id=\"ytick_8\">\n     <g id=\"line2d_19\">\n      <path clip-path=\"url(#p6ec45ad71f)\" d=\"M 26.925 19.554545 \nL 305.925 19.554545 \n\" style=\"fill:none;stroke:#b0b0b0;stroke-linecap:square;stroke-width:0.8;\"/>\n     </g>\n     <g id=\"line2d_20\">\n      <g>\n       <use style=\"stroke:#000000;stroke-width:0.8;\" x=\"26.925\" xlink:href=\"#m4c6a5205df\" y=\"19.554545\"/>\n      </g>\n     </g>\n     <g id=\"text_10\">\n      <!-- 70 -->\n      <defs>\n       <path d=\"M 8.203125 72.90625 \nL 55.078125 72.90625 \nL 55.078125 68.703125 \nL 28.609375 0 \nL 18.3125 0 \nL 43.21875 64.59375 \nL 8.203125 64.59375 \nz\n\" id=\"DejaVuSans-55\"/>\n      </defs>\n      <g transform=\"translate(7.2 23.353764)scale(0.1 -0.1)\">\n       <use xlink:href=\"#DejaVuSans-55\"/>\n       <use x=\"63.623047\" xlink:href=\"#DejaVuSans-48\"/>\n      </g>\n     </g>\n    </g>\n   </g>\n   <g id=\"line2d_21\">\n    <path clip-path=\"url(#p6ec45ad71f)\" d=\"M 86.2125 263.064427 \nL 107.1375 263.064427 \nL 107.1375 245.159289 \nL 86.2125 245.159289 \nL 86.2125 263.064427 \n\" style=\"fill:none;stroke:#1f77b4;stroke-linecap:square;\"/>\n   </g>\n   <g id=\"line2d_22\">\n    <path clip-path=\"url(#p6ec45ad71f)\" d=\"M 96.675 263.064427 \nL 96.675 266.645455 \n\" style=\"fill:none;stroke:#1f77b4;stroke-linecap:square;\"/>\n   </g>\n   <g id=\"line2d_23\">\n    <path clip-path=\"url(#p6ec45ad71f)\" d=\"M 96.675 245.159289 \nL 96.675 241.578261 \n\" style=\"fill:none;stroke:#1f77b4;stroke-linecap:square;\"/>\n   </g>\n   <g id=\"line2d_24\">\n    <path clip-path=\"url(#p6ec45ad71f)\" d=\"M 91.44375 266.645455 \nL 101.90625 266.645455 \n\" style=\"fill:none;stroke:#000000;stroke-linecap:square;\"/>\n   </g>\n   <g id=\"line2d_25\">\n    <path clip-path=\"url(#p6ec45ad71f)\" d=\"M 91.44375 241.578261 \nL 101.90625 241.578261 \n\" style=\"fill:none;stroke:#000000;stroke-linecap:square;\"/>\n   </g>\n   <g id=\"line2d_26\"/>\n   <g id=\"line2d_27\">\n    <path clip-path=\"url(#p6ec45ad71f)\" d=\"M 225.7125 144.890514 \nL 246.6375 144.890514 \nL 246.6375 55.364822 \nL 225.7125 55.364822 \nL 225.7125 144.890514 \n\" style=\"fill:none;stroke:#1f77b4;stroke-linecap:square;\"/>\n   </g>\n   <g id=\"line2d_28\">\n    <path clip-path=\"url(#p6ec45ad71f)\" d=\"M 236.175 144.890514 \nL 236.175 162.795652 \n\" style=\"fill:none;stroke:#1f77b4;stroke-linecap:square;\"/>\n   </g>\n   <g id=\"line2d_29\">\n    <path clip-path=\"url(#p6ec45ad71f)\" d=\"M 236.175 55.364822 \nL 236.175 19.554545 \n\" style=\"fill:none;stroke:#1f77b4;stroke-linecap:square;\"/>\n   </g>\n   <g id=\"line2d_30\">\n    <path clip-path=\"url(#p6ec45ad71f)\" d=\"M 230.94375 162.795652 \nL 241.40625 162.795652 \n\" style=\"fill:none;stroke:#000000;stroke-linecap:square;\"/>\n   </g>\n   <g id=\"line2d_31\">\n    <path clip-path=\"url(#p6ec45ad71f)\" d=\"M 230.94375 19.554545 \nL 241.40625 19.554545 \n\" style=\"fill:none;stroke:#000000;stroke-linecap:square;\"/>\n   </g>\n   <g id=\"line2d_32\"/>\n   <g id=\"line2d_33\">\n    <path clip-path=\"url(#p6ec45ad71f)\" d=\"M 86.2125 259.483399 \nL 107.1375 259.483399 \n\" style=\"fill:none;stroke:#2ca02c;stroke-linecap:square;\"/>\n   </g>\n   <g id=\"line2d_34\">\n    <path clip-path=\"url(#p6ec45ad71f)\" d=\"M 225.7125 73.26996 \nL 246.6375 73.26996 \n\" style=\"fill:none;stroke:#2ca02c;stroke-linecap:square;\"/>\n   </g>\n   <g id=\"patch_3\">\n    <path d=\"M 26.925 279 \nL 26.925 7.2 \n\" style=\"fill:none;stroke:#000000;stroke-linecap:square;stroke-linejoin:miter;stroke-width:0.8;\"/>\n   </g>\n   <g id=\"patch_4\">\n    <path d=\"M 305.925 279 \nL 305.925 7.2 \n\" style=\"fill:none;stroke:#000000;stroke-linecap:square;stroke-linejoin:miter;stroke-width:0.8;\"/>\n   </g>\n   <g id=\"patch_5\">\n    <path d=\"M 26.925 279 \nL 305.925 279 \n\" style=\"fill:none;stroke:#000000;stroke-linecap:square;stroke-linejoin:miter;stroke-width:0.8;\"/>\n   </g>\n   <g id=\"patch_6\">\n    <path d=\"M 26.925 7.2 \nL 305.925 7.2 \n\" style=\"fill:none;stroke:#000000;stroke-linecap:square;stroke-linejoin:miter;stroke-width:0.8;\"/>\n   </g>\n  </g>\n </g>\n <defs>\n  <clipPath id=\"p6ec45ad71f\">\n   <rect height=\"271.8\" width=\"279\" x=\"26.925\" y=\"7.2\"/>\n  </clipPath>\n </defs>\n</svg>\n",
      "image/png": "[encoded data removed]"
     },
     "metadata": {
      "needs_background": "light"
     }
    }
   ],
   "source": [
    "# draw boxplot here\n",
    "plt.figure(figsize = (5, 5))\n",
    "employee.boxplot();"
   ]
  },
  {
   "cell_type": "code",
   "execution_count": 157,
   "metadata": {},
   "outputs": [
    {
     "output_type": "execute_result",
     "data": {
      "text/plain": "Years      2.0\nSalary    35.0\nName: 0.25, dtype: float64"
     },
     "metadata": {},
     "execution_count": 157
    }
   ],
   "source": [
    "# print first quartile here\n",
    "employee.quantile(q = 0.25)"
   ]
  },
  {
   "cell_type": "code",
   "execution_count": 158,
   "metadata": {},
   "outputs": [
    {
     "output_type": "execute_result",
     "data": {
      "text/plain": "Years      7.0\nSalary    60.0\nName: 0.75, dtype: float64"
     },
     "metadata": {},
     "execution_count": 158
    }
   ],
   "source": [
    "# print third quartile here\n",
    "employee.quantile(q = 0.75)"
   ]
  },
  {
   "cell_type": "markdown",
   "metadata": {},
   "source": [
    "#### Is the mean salary per gender different?"
   ]
  },
  {
   "cell_type": "code",
   "execution_count": 166,
   "metadata": {},
   "outputs": [
    {
     "output_type": "stream",
     "name": "stdout",
     "text": "Yes hehe\n\n"
    },
    {
     "output_type": "execute_result",
     "data": {
      "text/plain": "       Salary\n         mean\nGender       \nF        47.5\nM        50.0",
      "text/html": "<div>\n<style scoped>\n    .dataframe tbody tr th:only-of-type {\n        vertical-align: middle;\n    }\n\n    .dataframe tbody tr th {\n        vertical-align: top;\n    }\n\n    .dataframe thead tr th {\n        text-align: left;\n    }\n\n    .dataframe thead tr:last-of-type th {\n        text-align: right;\n    }\n</style>\n<table border=\"1\" class=\"dataframe\">\n  <thead>\n    <tr>\n      <th></th>\n      <th>Salary</th>\n    </tr>\n    <tr>\n      <th></th>\n      <th>mean</th>\n    </tr>\n    <tr>\n      <th>Gender</th>\n      <th></th>\n    </tr>\n  </thead>\n  <tbody>\n    <tr>\n      <th>F</th>\n      <td>47.5</td>\n    </tr>\n    <tr>\n      <th>M</th>\n      <td>50.0</td>\n    </tr>\n  </tbody>\n</table>\n</div>"
     },
     "metadata": {},
     "execution_count": 166
    }
   ],
   "source": [
    "# your answer here\n",
    "print('Yes hehe\\n')\n",
    "employee.groupby('Gender').aggregate({'Salary':[np.mean]})"
   ]
  },
  {
   "cell_type": "markdown",
   "metadata": {},
   "source": [
    "#### Find the minimum, mean and the maximum of all numeric columns for each Department.\n",
    "\n",
    "##### Hint: Use functions from Data Manipulation lesson"
   ]
  },
  {
   "cell_type": "code",
   "execution_count": 168,
   "metadata": {},
   "outputs": [
    {
     "output_type": "execute_result",
     "data": {
      "text/plain": "           Years               Salary           \n             min      mean max    min   mean max\nDepartment                                      \nHR             2  4.666667   8     30  45.00  70\nIT             1  4.500000   8     30  48.75  70\nSales          2  2.500000   3     55  55.00  55",
      "text/html": "<div>\n<style scoped>\n    .dataframe tbody tr th:only-of-type {\n        vertical-align: middle;\n    }\n\n    .dataframe tbody tr th {\n        vertical-align: top;\n    }\n\n    .dataframe thead tr th {\n        text-align: left;\n    }\n\n    .dataframe thead tr:last-of-type th {\n        text-align: right;\n    }\n</style>\n<table border=\"1\" class=\"dataframe\">\n  <thead>\n    <tr>\n      <th></th>\n      <th colspan=\"3\" halign=\"left\">Years</th>\n      <th colspan=\"3\" halign=\"left\">Salary</th>\n    </tr>\n    <tr>\n      <th></th>\n      <th>min</th>\n      <th>mean</th>\n      <th>max</th>\n      <th>min</th>\n      <th>mean</th>\n      <th>max</th>\n    </tr>\n    <tr>\n      <th>Department</th>\n      <th></th>\n      <th></th>\n      <th></th>\n      <th></th>\n      <th></th>\n      <th></th>\n    </tr>\n  </thead>\n  <tbody>\n    <tr>\n      <th>HR</th>\n      <td>2</td>\n      <td>4.666667</td>\n      <td>8</td>\n      <td>30</td>\n      <td>45.00</td>\n      <td>70</td>\n    </tr>\n    <tr>\n      <th>IT</th>\n      <td>1</td>\n      <td>4.500000</td>\n      <td>8</td>\n      <td>30</td>\n      <td>48.75</td>\n      <td>70</td>\n    </tr>\n    <tr>\n      <th>Sales</th>\n      <td>2</td>\n      <td>2.500000</td>\n      <td>3</td>\n      <td>55</td>\n      <td>55.00</td>\n      <td>55</td>\n    </tr>\n  </tbody>\n</table>\n</div>"
     },
     "metadata": {},
     "execution_count": 168
    }
   ],
   "source": [
    "# your answer here\n",
    "employee.groupby('Department').aggregate(['min', 'mean', 'max'])"
   ]
  },
  {
   "cell_type": "markdown",
   "metadata": {},
   "source": [
    "### Bonus Question\n",
    "\n",
    "#### For each department, compute the difference between the maximal salary and the minimal salary.\n",
    "\n",
    "##### * Hint: try using `agg` or `apply` and `lambda`*"
   ]
  },
  {
   "cell_type": "code",
   "execution_count": 172,
   "metadata": {},
   "outputs": [
    {
     "output_type": "execute_result",
     "data": {
      "text/plain": "             Salary\n           <lambda>\nDepartment         \nHR               40\nIT               40\nSales             0",
      "text/html": "<div>\n<style scoped>\n    .dataframe tbody tr th:only-of-type {\n        vertical-align: middle;\n    }\n\n    .dataframe tbody tr th {\n        vertical-align: top;\n    }\n\n    .dataframe thead tr th {\n        text-align: left;\n    }\n\n    .dataframe thead tr:last-of-type th {\n        text-align: right;\n    }\n</style>\n<table border=\"1\" class=\"dataframe\">\n  <thead>\n    <tr>\n      <th></th>\n      <th>Salary</th>\n    </tr>\n    <tr>\n      <th></th>\n      <th>&lt;lambda&gt;</th>\n    </tr>\n    <tr>\n      <th>Department</th>\n      <th></th>\n    </tr>\n  </thead>\n  <tbody>\n    <tr>\n      <th>HR</th>\n      <td>40</td>\n    </tr>\n    <tr>\n      <th>IT</th>\n      <td>40</td>\n    </tr>\n    <tr>\n      <th>Sales</th>\n      <td>0</td>\n    </tr>\n  </tbody>\n</table>\n</div>"
     },
     "metadata": {},
     "execution_count": 172
    }
   ],
   "source": [
    "# your answer here\n",
    "employee.groupby('Department').aggregate({'Salary':[lambda x : x.max() - x.min()]})"
   ]
  },
  {
   "cell_type": "markdown",
   "metadata": {
    "collapsed": true
   },
   "source": [
    "# Challenge 3"
   ]
  },
  {
   "cell_type": "markdown",
   "metadata": {},
   "source": [
    "#### Open the Orders.csv dataset. Name your dataset orders"
   ]
  },
  {
   "cell_type": "code",
   "execution_count": 173,
   "metadata": {
    "collapsed": true
   },
   "outputs": [
    {
     "output_type": "execute_result",
     "data": {
      "text/plain": "   Unnamed: 0  InvoiceNo StockCode  year  month  day  hour  \\\n0           0     536365    85123A  2010     12    3     8   \n1           1     536365     71053  2010     12    3     8   \n2           2     536365    84406B  2010     12    3     8   \n3           3     536365    84029G  2010     12    3     8   \n4           4     536365    84029E  2010     12    3     8   \n\n                           Description  Quantity          InvoiceDate  \\\n0   white hanging heart t-light holder         6  2010-12-01 08:26:00   \n1                  white metal lantern         6  2010-12-01 08:26:00   \n2       cream cupid hearts coat hanger         8  2010-12-01 08:26:00   \n3  knitted union flag hot water bottle         6  2010-12-01 08:26:00   \n4       red woolly hottie white heart.         6  2010-12-01 08:26:00   \n\n   UnitPrice  CustomerID         Country  amount_spent  \n0       2.55       17850  United Kingdom         15.30  \n1       3.39       17850  United Kingdom         20.34  \n2       2.75       17850  United Kingdom         22.00  \n3       3.39       17850  United Kingdom         20.34  \n4       3.39       17850  United Kingdom         20.34  ",
      "text/html": "<div>\n<style scoped>\n    .dataframe tbody tr th:only-of-type {\n        vertical-align: middle;\n    }\n\n    .dataframe tbody tr th {\n        vertical-align: top;\n    }\n\n    .dataframe thead th {\n        text-align: right;\n    }\n</style>\n<table border=\"1\" class=\"dataframe\">\n  <thead>\n    <tr style=\"text-align: right;\">\n      <th></th>\n      <th>Unnamed: 0</th>\n      <th>InvoiceNo</th>\n      <th>StockCode</th>\n      <th>year</th>\n      <th>month</th>\n      <th>day</th>\n      <th>hour</th>\n      <th>Description</th>\n      <th>Quantity</th>\n      <th>InvoiceDate</th>\n      <th>UnitPrice</th>\n      <th>CustomerID</th>\n      <th>Country</th>\n      <th>amount_spent</th>\n    </tr>\n  </thead>\n  <tbody>\n    <tr>\n      <th>0</th>\n      <td>0</td>\n      <td>536365</td>\n      <td>85123A</td>\n      <td>2010</td>\n      <td>12</td>\n      <td>3</td>\n      <td>8</td>\n      <td>white hanging heart t-light holder</td>\n      <td>6</td>\n      <td>2010-12-01 08:26:00</td>\n      <td>2.55</td>\n      <td>17850</td>\n      <td>United Kingdom</td>\n      <td>15.30</td>\n    </tr>\n    <tr>\n      <th>1</th>\n      <td>1</td>\n      <td>536365</td>\n      <td>71053</td>\n      <td>2010</td>\n      <td>12</td>\n      <td>3</td>\n      <td>8</td>\n      <td>white metal lantern</td>\n      <td>6</td>\n      <td>2010-12-01 08:26:00</td>\n      <td>3.39</td>\n      <td>17850</td>\n      <td>United Kingdom</td>\n      <td>20.34</td>\n    </tr>\n    <tr>\n      <th>2</th>\n      <td>2</td>\n      <td>536365</td>\n      <td>84406B</td>\n      <td>2010</td>\n      <td>12</td>\n      <td>3</td>\n      <td>8</td>\n      <td>cream cupid hearts coat hanger</td>\n      <td>8</td>\n      <td>2010-12-01 08:26:00</td>\n      <td>2.75</td>\n      <td>17850</td>\n      <td>United Kingdom</td>\n      <td>22.00</td>\n    </tr>\n    <tr>\n      <th>3</th>\n      <td>3</td>\n      <td>536365</td>\n      <td>84029G</td>\n      <td>2010</td>\n      <td>12</td>\n      <td>3</td>\n      <td>8</td>\n      <td>knitted union flag hot water bottle</td>\n      <td>6</td>\n      <td>2010-12-01 08:26:00</td>\n      <td>3.39</td>\n      <td>17850</td>\n      <td>United Kingdom</td>\n      <td>20.34</td>\n    </tr>\n    <tr>\n      <th>4</th>\n      <td>4</td>\n      <td>536365</td>\n      <td>84029E</td>\n      <td>2010</td>\n      <td>12</td>\n      <td>3</td>\n      <td>8</td>\n      <td>red woolly hottie white heart.</td>\n      <td>6</td>\n      <td>2010-12-01 08:26:00</td>\n      <td>3.39</td>\n      <td>17850</td>\n      <td>United Kingdom</td>\n      <td>20.34</td>\n    </tr>\n  </tbody>\n</table>\n</div>"
     },
     "metadata": {},
     "execution_count": 173
    }
   ],
   "source": [
    "# your answer here\n",
    "orders = pd.read_csv('/Users/alejandropalacios/Desktop/Ironhack/Data Analytics Bootcamp/Data Transformation/Labs/lab-subsetting-and-descriptive-stats/your-code/Orders.csv')\n",
    "orders.head()"
   ]
  },
  {
   "cell_type": "markdown",
   "metadata": {},
   "source": [
    "#### Explore your dataset by looking at the data types and the summary statistics. Comment your results"
   ]
  },
  {
   "cell_type": "code",
   "execution_count": 174,
   "metadata": {
    "collapsed": true
   },
   "outputs": [
    {
     "output_type": "stream",
     "name": "stdout",
     "text": "<class 'pandas.core.frame.DataFrame'>\nRangeIndex: 397924 entries, 0 to 397923\nData columns (total 14 columns):\n #   Column        Non-Null Count   Dtype  \n---  ------        --------------   -----  \n 0   Unnamed: 0    397924 non-null  int64  \n 1   InvoiceNo     397924 non-null  int64  \n 2   StockCode     397924 non-null  object \n 3   year          397924 non-null  int64  \n 4   month         397924 non-null  int64  \n 5   day           397924 non-null  int64  \n 6   hour          397924 non-null  int64  \n 7   Description   397924 non-null  object \n 8   Quantity      397924 non-null  int64  \n 9   InvoiceDate   397924 non-null  object \n 10  UnitPrice     397924 non-null  float64\n 11  CustomerID    397924 non-null  int64  \n 12  Country       397924 non-null  object \n 13  amount_spent  397924 non-null  float64\ndtypes: float64(2), int64(8), object(4)\nmemory usage: 42.5+ MB\n"
    }
   ],
   "source": [
    "# your answer here\n",
    "orders.info()"
   ]
  },
  {
   "cell_type": "code",
   "execution_count": 177,
   "metadata": {
    "collapsed": true
   },
   "outputs": [
    {
     "output_type": "execute_result",
     "data": {
      "text/plain": "                 count           mean            std       min        25%  \\\nUnnamed: 0    397924.0  278465.221859  152771.368303       0.0  148333.75   \nInvoiceNo     397924.0  560617.126645   13106.167695  536365.0  549234.00   \nyear          397924.0    2010.934259       0.247829    2010.0    2011.00   \nmonth         397924.0       7.612537       3.416527       1.0       5.00   \nday           397924.0       3.614555       1.928274       1.0       2.00   \nhour          397924.0      12.728247       2.273535       6.0      11.00   \nQuantity      397924.0      13.021823     180.420210       1.0       2.00   \nUnitPrice     397924.0       3.116174      22.096788       0.0       1.25   \nCustomerID    397924.0   15294.315171    1713.169877   12346.0   13969.00   \namount_spent  397924.0      22.394749     309.055588       0.0       4.68   \n\n                    50%        75%        max  \nUnnamed: 0    284907.50  410079.25  541908.00  \nInvoiceNo     561893.00  572090.00  581587.00  \nyear            2011.00    2011.00    2011.00  \nmonth              8.00      11.00      12.00  \nday                3.00       5.00       7.00  \nhour              13.00      14.00      20.00  \nQuantity           6.00      12.00   80995.00  \nUnitPrice          1.95       3.75    8142.75  \nCustomerID     15159.00   16795.00   18287.00  \namount_spent      11.80      19.80  168469.60  ",
      "text/html": "<div>\n<style scoped>\n    .dataframe tbody tr th:only-of-type {\n        vertical-align: middle;\n    }\n\n    .dataframe tbody tr th {\n        vertical-align: top;\n    }\n\n    .dataframe thead th {\n        text-align: right;\n    }\n</style>\n<table border=\"1\" class=\"dataframe\">\n  <thead>\n    <tr style=\"text-align: right;\">\n      <th></th>\n      <th>count</th>\n      <th>mean</th>\n      <th>std</th>\n      <th>min</th>\n      <th>25%</th>\n      <th>50%</th>\n      <th>75%</th>\n      <th>max</th>\n    </tr>\n  </thead>\n  <tbody>\n    <tr>\n      <th>Unnamed: 0</th>\n      <td>397924.0</td>\n      <td>278465.221859</td>\n      <td>152771.368303</td>\n      <td>0.0</td>\n      <td>148333.75</td>\n      <td>284907.50</td>\n      <td>410079.25</td>\n      <td>541908.00</td>\n    </tr>\n    <tr>\n      <th>InvoiceNo</th>\n      <td>397924.0</td>\n      <td>560617.126645</td>\n      <td>13106.167695</td>\n      <td>536365.0</td>\n      <td>549234.00</td>\n      <td>561893.00</td>\n      <td>572090.00</td>\n      <td>581587.00</td>\n    </tr>\n    <tr>\n      <th>year</th>\n      <td>397924.0</td>\n      <td>2010.934259</td>\n      <td>0.247829</td>\n      <td>2010.0</td>\n      <td>2011.00</td>\n      <td>2011.00</td>\n      <td>2011.00</td>\n      <td>2011.00</td>\n    </tr>\n    <tr>\n      <th>month</th>\n      <td>397924.0</td>\n      <td>7.612537</td>\n      <td>3.416527</td>\n      <td>1.0</td>\n      <td>5.00</td>\n      <td>8.00</td>\n      <td>11.00</td>\n      <td>12.00</td>\n    </tr>\n    <tr>\n      <th>day</th>\n      <td>397924.0</td>\n      <td>3.614555</td>\n      <td>1.928274</td>\n      <td>1.0</td>\n      <td>2.00</td>\n      <td>3.00</td>\n      <td>5.00</td>\n      <td>7.00</td>\n    </tr>\n    <tr>\n      <th>hour</th>\n      <td>397924.0</td>\n      <td>12.728247</td>\n      <td>2.273535</td>\n      <td>6.0</td>\n      <td>11.00</td>\n      <td>13.00</td>\n      <td>14.00</td>\n      <td>20.00</td>\n    </tr>\n    <tr>\n      <th>Quantity</th>\n      <td>397924.0</td>\n      <td>13.021823</td>\n      <td>180.420210</td>\n      <td>1.0</td>\n      <td>2.00</td>\n      <td>6.00</td>\n      <td>12.00</td>\n      <td>80995.00</td>\n    </tr>\n    <tr>\n      <th>UnitPrice</th>\n      <td>397924.0</td>\n      <td>3.116174</td>\n      <td>22.096788</td>\n      <td>0.0</td>\n      <td>1.25</td>\n      <td>1.95</td>\n      <td>3.75</td>\n      <td>8142.75</td>\n    </tr>\n    <tr>\n      <th>CustomerID</th>\n      <td>397924.0</td>\n      <td>15294.315171</td>\n      <td>1713.169877</td>\n      <td>12346.0</td>\n      <td>13969.00</td>\n      <td>15159.00</td>\n      <td>16795.00</td>\n      <td>18287.00</td>\n    </tr>\n    <tr>\n      <th>amount_spent</th>\n      <td>397924.0</td>\n      <td>22.394749</td>\n      <td>309.055588</td>\n      <td>0.0</td>\n      <td>4.68</td>\n      <td>11.80</td>\n      <td>19.80</td>\n      <td>168469.60</td>\n    </tr>\n  </tbody>\n</table>\n</div>"
     },
     "metadata": {},
     "execution_count": 177
    }
   ],
   "source": [
    "# your answer here\n",
    "orders.describe().T"
   ]
  },
  {
   "cell_type": "markdown",
   "metadata": {},
   "source": [
    "####  What is the average Purchase Price?"
   ]
  },
  {
   "cell_type": "code",
   "execution_count": 185,
   "metadata": {
    "collapsed": true
   },
   "outputs": [
    {
     "output_type": "stream",
     "name": "stdout",
     "text": "The average purchase price is $22.4 dollars.\n"
    }
   ],
   "source": [
    "# your answer here\n",
    "print('The average purchase price is ${:.1f} dollars.'.format(orders.amount_spent.mean()))"
   ]
  },
  {
   "cell_type": "markdown",
   "metadata": {},
   "source": [
    "#### What were the highest and lowest purchase prices? "
   ]
  },
  {
   "cell_type": "code",
   "execution_count": 188,
   "metadata": {
    "collapsed": true
   },
   "outputs": [
    {
     "output_type": "stream",
     "name": "stdout",
     "text": "The highest purchase price is $168,469.6 dollars.\n"
    }
   ],
   "source": [
    "# your answer here\n",
    "print('The highest purchase price is ${:,.1f} dollars.'.format(orders.amount_spent.max()))"
   ]
  },
  {
   "cell_type": "code",
   "execution_count": 189,
   "metadata": {
    "collapsed": true
   },
   "outputs": [
    {
     "output_type": "stream",
     "name": "stdout",
     "text": "The lowest purchase price is $0.0 dollars.\n"
    }
   ],
   "source": [
    "# your answer here\n",
    "print('The lowest purchase price is ${:,.1f} dollars.'.format(orders.amount_spent.min()))"
   ]
  },
  {
   "cell_type": "markdown",
   "metadata": {},
   "source": [
    "#### Select all the customers we have in Spain"
   ]
  },
  {
   "cell_type": "code",
   "execution_count": 197,
   "metadata": {
    "collapsed": true
   },
   "outputs": [
    {
     "output_type": "execute_result",
     "data": {
      "text/plain": "      Unnamed: 0  InvoiceNo StockCode  year  month  day  hour  \\\n4250        6421     536944     22383  2010     12    5    12   \n4251        6422     536944     22384  2010     12    5    12   \n4252        6423     536944     20727  2010     12    5    12   \n4253        6424     536944     20725  2010     12    5    12   \n4254        6425     536944     20728  2010     12    5    12   \n\n                  Description  Quantity          InvoiceDate  UnitPrice  \\\n4250  lunch bag suki  design         70  2010-12-03 12:20:00       1.65   \n4251  lunch bag pink polkadot       100  2010-12-03 12:20:00       1.45   \n4252  lunch bag  black skull.        60  2010-12-03 12:20:00       1.65   \n4253  lunch bag red retrospot        70  2010-12-03 12:20:00       1.65   \n4254      lunch bag cars blue       100  2010-12-03 12:20:00       1.45   \n\n      CustomerID Country  amount_spent  \n4250       12557   Spain         115.5  \n4251       12557   Spain         145.0  \n4252       12557   Spain          99.0  \n4253       12557   Spain         115.5  \n4254       12557   Spain         145.0  ",
      "text/html": "<div>\n<style scoped>\n    .dataframe tbody tr th:only-of-type {\n        vertical-align: middle;\n    }\n\n    .dataframe tbody tr th {\n        vertical-align: top;\n    }\n\n    .dataframe thead th {\n        text-align: right;\n    }\n</style>\n<table border=\"1\" class=\"dataframe\">\n  <thead>\n    <tr style=\"text-align: right;\">\n      <th></th>\n      <th>Unnamed: 0</th>\n      <th>InvoiceNo</th>\n      <th>StockCode</th>\n      <th>year</th>\n      <th>month</th>\n      <th>day</th>\n      <th>hour</th>\n      <th>Description</th>\n      <th>Quantity</th>\n      <th>InvoiceDate</th>\n      <th>UnitPrice</th>\n      <th>CustomerID</th>\n      <th>Country</th>\n      <th>amount_spent</th>\n    </tr>\n  </thead>\n  <tbody>\n    <tr>\n      <th>4250</th>\n      <td>6421</td>\n      <td>536944</td>\n      <td>22383</td>\n      <td>2010</td>\n      <td>12</td>\n      <td>5</td>\n      <td>12</td>\n      <td>lunch bag suki  design</td>\n      <td>70</td>\n      <td>2010-12-03 12:20:00</td>\n      <td>1.65</td>\n      <td>12557</td>\n      <td>Spain</td>\n      <td>115.5</td>\n    </tr>\n    <tr>\n      <th>4251</th>\n      <td>6422</td>\n      <td>536944</td>\n      <td>22384</td>\n      <td>2010</td>\n      <td>12</td>\n      <td>5</td>\n      <td>12</td>\n      <td>lunch bag pink polkadot</td>\n      <td>100</td>\n      <td>2010-12-03 12:20:00</td>\n      <td>1.45</td>\n      <td>12557</td>\n      <td>Spain</td>\n      <td>145.0</td>\n    </tr>\n    <tr>\n      <th>4252</th>\n      <td>6423</td>\n      <td>536944</td>\n      <td>20727</td>\n      <td>2010</td>\n      <td>12</td>\n      <td>5</td>\n      <td>12</td>\n      <td>lunch bag  black skull.</td>\n      <td>60</td>\n      <td>2010-12-03 12:20:00</td>\n      <td>1.65</td>\n      <td>12557</td>\n      <td>Spain</td>\n      <td>99.0</td>\n    </tr>\n    <tr>\n      <th>4253</th>\n      <td>6424</td>\n      <td>536944</td>\n      <td>20725</td>\n      <td>2010</td>\n      <td>12</td>\n      <td>5</td>\n      <td>12</td>\n      <td>lunch bag red retrospot</td>\n      <td>70</td>\n      <td>2010-12-03 12:20:00</td>\n      <td>1.65</td>\n      <td>12557</td>\n      <td>Spain</td>\n      <td>115.5</td>\n    </tr>\n    <tr>\n      <th>4254</th>\n      <td>6425</td>\n      <td>536944</td>\n      <td>20728</td>\n      <td>2010</td>\n      <td>12</td>\n      <td>5</td>\n      <td>12</td>\n      <td>lunch bag cars blue</td>\n      <td>100</td>\n      <td>2010-12-03 12:20:00</td>\n      <td>1.45</td>\n      <td>12557</td>\n      <td>Spain</td>\n      <td>145.0</td>\n    </tr>\n  </tbody>\n</table>\n</div>"
     },
     "metadata": {},
     "execution_count": 197
    }
   ],
   "source": [
    "# your answer here\n",
    "orders[orders.Country == 'Spain'].head()"
   ]
  },
  {
   "cell_type": "markdown",
   "metadata": {},
   "source": [
    "#### How many customers do we have in Spain?\n",
    "##### Hint : Use value_counts()"
   ]
  },
  {
   "cell_type": "code",
   "execution_count": 200,
   "metadata": {
    "collapsed": true
   },
   "outputs": [
    {
     "output_type": "stream",
     "name": "stdout",
     "text": "There are 2,485 customers in Spain.\n"
    }
   ],
   "source": [
    "# your answer here\n",
    "print('There are {:,} customers in Spain.'.format(len(orders[orders.Country == 'Spain'])))"
   ]
  },
  {
   "cell_type": "markdown",
   "metadata": {},
   "source": [
    "#### Select all the customers who have bought more than 50 items ?"
   ]
  },
  {
   "cell_type": "code",
   "execution_count": 203,
   "metadata": {
    "collapsed": true
   },
   "outputs": [
    {
     "output_type": "execute_result",
     "data": {
      "text/plain": "     Unnamed: 0  InvoiceNo StockCode  year  month  day  hour  \\\n46           46     536371     22086  2010     12    3     9   \n83           83     536376     21733  2010     12    3     9   \n96           96     536378     21212  2010     12    3     9   \n102         102     536378    85071B  2010     12    3     9   \n174         176     536386    85099C  2010     12    3     9   \n\n                            Description  Quantity          InvoiceDate  \\\n46      paper chain kit 50's christmas         80  2010-12-01 09:00:00   \n83     red hanging heart t-light holder        64  2010-12-01 09:32:00   \n96      pack of 72 retrospot cake cases       120  2010-12-01 09:37:00   \n102  red charlie+lola personal doorsign        96  2010-12-01 09:37:00   \n174      jumbo  bag baroque black white       100  2010-12-01 09:57:00   \n\n     UnitPrice  CustomerID         Country  amount_spent  \n46        2.55       13748  United Kingdom        204.00  \n83        2.55       15291  United Kingdom        163.20  \n96        0.42       14688  United Kingdom         50.40  \n102       0.38       14688  United Kingdom         36.48  \n174       1.65       16029  United Kingdom        165.00  ",
      "text/html": "<div>\n<style scoped>\n    .dataframe tbody tr th:only-of-type {\n        vertical-align: middle;\n    }\n\n    .dataframe tbody tr th {\n        vertical-align: top;\n    }\n\n    .dataframe thead th {\n        text-align: right;\n    }\n</style>\n<table border=\"1\" class=\"dataframe\">\n  <thead>\n    <tr style=\"text-align: right;\">\n      <th></th>\n      <th>Unnamed: 0</th>\n      <th>InvoiceNo</th>\n      <th>StockCode</th>\n      <th>year</th>\n      <th>month</th>\n      <th>day</th>\n      <th>hour</th>\n      <th>Description</th>\n      <th>Quantity</th>\n      <th>InvoiceDate</th>\n      <th>UnitPrice</th>\n      <th>CustomerID</th>\n      <th>Country</th>\n      <th>amount_spent</th>\n    </tr>\n  </thead>\n  <tbody>\n    <tr>\n      <th>46</th>\n      <td>46</td>\n      <td>536371</td>\n      <td>22086</td>\n      <td>2010</td>\n      <td>12</td>\n      <td>3</td>\n      <td>9</td>\n      <td>paper chain kit 50's christmas</td>\n      <td>80</td>\n      <td>2010-12-01 09:00:00</td>\n      <td>2.55</td>\n      <td>13748</td>\n      <td>United Kingdom</td>\n      <td>204.00</td>\n    </tr>\n    <tr>\n      <th>83</th>\n      <td>83</td>\n      <td>536376</td>\n      <td>21733</td>\n      <td>2010</td>\n      <td>12</td>\n      <td>3</td>\n      <td>9</td>\n      <td>red hanging heart t-light holder</td>\n      <td>64</td>\n      <td>2010-12-01 09:32:00</td>\n      <td>2.55</td>\n      <td>15291</td>\n      <td>United Kingdom</td>\n      <td>163.20</td>\n    </tr>\n    <tr>\n      <th>96</th>\n      <td>96</td>\n      <td>536378</td>\n      <td>21212</td>\n      <td>2010</td>\n      <td>12</td>\n      <td>3</td>\n      <td>9</td>\n      <td>pack of 72 retrospot cake cases</td>\n      <td>120</td>\n      <td>2010-12-01 09:37:00</td>\n      <td>0.42</td>\n      <td>14688</td>\n      <td>United Kingdom</td>\n      <td>50.40</td>\n    </tr>\n    <tr>\n      <th>102</th>\n      <td>102</td>\n      <td>536378</td>\n      <td>85071B</td>\n      <td>2010</td>\n      <td>12</td>\n      <td>3</td>\n      <td>9</td>\n      <td>red charlie+lola personal doorsign</td>\n      <td>96</td>\n      <td>2010-12-01 09:37:00</td>\n      <td>0.38</td>\n      <td>14688</td>\n      <td>United Kingdom</td>\n      <td>36.48</td>\n    </tr>\n    <tr>\n      <th>174</th>\n      <td>176</td>\n      <td>536386</td>\n      <td>85099C</td>\n      <td>2010</td>\n      <td>12</td>\n      <td>3</td>\n      <td>9</td>\n      <td>jumbo  bag baroque black white</td>\n      <td>100</td>\n      <td>2010-12-01 09:57:00</td>\n      <td>1.65</td>\n      <td>16029</td>\n      <td>United Kingdom</td>\n      <td>165.00</td>\n    </tr>\n  </tbody>\n</table>\n</div>"
     },
     "metadata": {},
     "execution_count": 203
    }
   ],
   "source": [
    "# your answer here\n",
    "orders[orders.Quantity > 50].head()"
   ]
  },
  {
   "cell_type": "markdown",
   "metadata": {},
   "source": [
    "#### Select orders from Spain that are above 50 items"
   ]
  },
  {
   "cell_type": "code",
   "execution_count": 205,
   "metadata": {
    "collapsed": true
   },
   "outputs": [
    {
     "output_type": "execute_result",
     "data": {
      "text/plain": "      Unnamed: 0  InvoiceNo StockCode  year  month  day  hour  \\\n4250        6421     536944     22383  2010     12    5    12   \n4251        6422     536944     22384  2010     12    5    12   \n4252        6423     536944     20727  2010     12    5    12   \n4253        6424     536944     20725  2010     12    5    12   \n4254        6425     536944     20728  2010     12    5    12   \n\n                  Description  Quantity          InvoiceDate  UnitPrice  \\\n4250  lunch bag suki  design         70  2010-12-03 12:20:00       1.65   \n4251  lunch bag pink polkadot       100  2010-12-03 12:20:00       1.45   \n4252  lunch bag  black skull.        60  2010-12-03 12:20:00       1.65   \n4253  lunch bag red retrospot        70  2010-12-03 12:20:00       1.65   \n4254      lunch bag cars blue       100  2010-12-03 12:20:00       1.45   \n\n      CustomerID Country  amount_spent  \n4250       12557   Spain         115.5  \n4251       12557   Spain         145.0  \n4252       12557   Spain          99.0  \n4253       12557   Spain         115.5  \n4254       12557   Spain         145.0  ",
      "text/html": "<div>\n<style scoped>\n    .dataframe tbody tr th:only-of-type {\n        vertical-align: middle;\n    }\n\n    .dataframe tbody tr th {\n        vertical-align: top;\n    }\n\n    .dataframe thead th {\n        text-align: right;\n    }\n</style>\n<table border=\"1\" class=\"dataframe\">\n  <thead>\n    <tr style=\"text-align: right;\">\n      <th></th>\n      <th>Unnamed: 0</th>\n      <th>InvoiceNo</th>\n      <th>StockCode</th>\n      <th>year</th>\n      <th>month</th>\n      <th>day</th>\n      <th>hour</th>\n      <th>Description</th>\n      <th>Quantity</th>\n      <th>InvoiceDate</th>\n      <th>UnitPrice</th>\n      <th>CustomerID</th>\n      <th>Country</th>\n      <th>amount_spent</th>\n    </tr>\n  </thead>\n  <tbody>\n    <tr>\n      <th>4250</th>\n      <td>6421</td>\n      <td>536944</td>\n      <td>22383</td>\n      <td>2010</td>\n      <td>12</td>\n      <td>5</td>\n      <td>12</td>\n      <td>lunch bag suki  design</td>\n      <td>70</td>\n      <td>2010-12-03 12:20:00</td>\n      <td>1.65</td>\n      <td>12557</td>\n      <td>Spain</td>\n      <td>115.5</td>\n    </tr>\n    <tr>\n      <th>4251</th>\n      <td>6422</td>\n      <td>536944</td>\n      <td>22384</td>\n      <td>2010</td>\n      <td>12</td>\n      <td>5</td>\n      <td>12</td>\n      <td>lunch bag pink polkadot</td>\n      <td>100</td>\n      <td>2010-12-03 12:20:00</td>\n      <td>1.45</td>\n      <td>12557</td>\n      <td>Spain</td>\n      <td>145.0</td>\n    </tr>\n    <tr>\n      <th>4252</th>\n      <td>6423</td>\n      <td>536944</td>\n      <td>20727</td>\n      <td>2010</td>\n      <td>12</td>\n      <td>5</td>\n      <td>12</td>\n      <td>lunch bag  black skull.</td>\n      <td>60</td>\n      <td>2010-12-03 12:20:00</td>\n      <td>1.65</td>\n      <td>12557</td>\n      <td>Spain</td>\n      <td>99.0</td>\n    </tr>\n    <tr>\n      <th>4253</th>\n      <td>6424</td>\n      <td>536944</td>\n      <td>20725</td>\n      <td>2010</td>\n      <td>12</td>\n      <td>5</td>\n      <td>12</td>\n      <td>lunch bag red retrospot</td>\n      <td>70</td>\n      <td>2010-12-03 12:20:00</td>\n      <td>1.65</td>\n      <td>12557</td>\n      <td>Spain</td>\n      <td>115.5</td>\n    </tr>\n    <tr>\n      <th>4254</th>\n      <td>6425</td>\n      <td>536944</td>\n      <td>20728</td>\n      <td>2010</td>\n      <td>12</td>\n      <td>5</td>\n      <td>12</td>\n      <td>lunch bag cars blue</td>\n      <td>100</td>\n      <td>2010-12-03 12:20:00</td>\n      <td>1.45</td>\n      <td>12557</td>\n      <td>Spain</td>\n      <td>145.0</td>\n    </tr>\n  </tbody>\n</table>\n</div>"
     },
     "metadata": {},
     "execution_count": 205
    }
   ],
   "source": [
    "# your answer here\n",
    "orders[(orders.Country == 'Spain') & (orders.Quantity > 50)].head()"
   ]
  },
  {
   "cell_type": "markdown",
   "metadata": {},
   "source": [
    "#### Select all free orders"
   ]
  },
  {
   "cell_type": "code",
   "execution_count": 208,
   "metadata": {
    "collapsed": true
   },
   "outputs": [
    {
     "output_type": "execute_result",
     "data": {
      "text/plain": "       Unnamed: 0  InvoiceNo StockCode  year  month  day  hour  \\\n6914         9302     537197     22841  2010     12    7    14   \n22539       33576     539263     22580  2010     12    4    14   \n25379       40089     539722     22423  2010     12    2    13   \n29080       47068     540372     22090  2011      1    4    16   \n29082       47070     540372     22553  2011      1    4    16   \n\n                        Description  Quantity          InvoiceDate  UnitPrice  \\\n6914   round cake tin vintage green         1  2010-12-05 14:02:00        0.0   \n22539  advent calendar gingham sack         4  2010-12-16 14:36:00        0.0   \n25379      regency cakestand 3 tier        10  2010-12-21 13:45:00        0.0   \n29080       paper bunting retrospot        24  2011-01-06 16:41:00        0.0   \n29082        plasters in tin skulls        24  2011-01-06 16:41:00        0.0   \n\n       CustomerID         Country  amount_spent  \n6914        12647         Germany           0.0  \n22539       16560  United Kingdom           0.0  \n25379       14911            EIRE           0.0  \n29080       13081  United Kingdom           0.0  \n29082       13081  United Kingdom           0.0  ",
      "text/html": "<div>\n<style scoped>\n    .dataframe tbody tr th:only-of-type {\n        vertical-align: middle;\n    }\n\n    .dataframe tbody tr th {\n        vertical-align: top;\n    }\n\n    .dataframe thead th {\n        text-align: right;\n    }\n</style>\n<table border=\"1\" class=\"dataframe\">\n  <thead>\n    <tr style=\"text-align: right;\">\n      <th></th>\n      <th>Unnamed: 0</th>\n      <th>InvoiceNo</th>\n      <th>StockCode</th>\n      <th>year</th>\n      <th>month</th>\n      <th>day</th>\n      <th>hour</th>\n      <th>Description</th>\n      <th>Quantity</th>\n      <th>InvoiceDate</th>\n      <th>UnitPrice</th>\n      <th>CustomerID</th>\n      <th>Country</th>\n      <th>amount_spent</th>\n    </tr>\n  </thead>\n  <tbody>\n    <tr>\n      <th>6914</th>\n      <td>9302</td>\n      <td>537197</td>\n      <td>22841</td>\n      <td>2010</td>\n      <td>12</td>\n      <td>7</td>\n      <td>14</td>\n      <td>round cake tin vintage green</td>\n      <td>1</td>\n      <td>2010-12-05 14:02:00</td>\n      <td>0.0</td>\n      <td>12647</td>\n      <td>Germany</td>\n      <td>0.0</td>\n    </tr>\n    <tr>\n      <th>22539</th>\n      <td>33576</td>\n      <td>539263</td>\n      <td>22580</td>\n      <td>2010</td>\n      <td>12</td>\n      <td>4</td>\n      <td>14</td>\n      <td>advent calendar gingham sack</td>\n      <td>4</td>\n      <td>2010-12-16 14:36:00</td>\n      <td>0.0</td>\n      <td>16560</td>\n      <td>United Kingdom</td>\n      <td>0.0</td>\n    </tr>\n    <tr>\n      <th>25379</th>\n      <td>40089</td>\n      <td>539722</td>\n      <td>22423</td>\n      <td>2010</td>\n      <td>12</td>\n      <td>2</td>\n      <td>13</td>\n      <td>regency cakestand 3 tier</td>\n      <td>10</td>\n      <td>2010-12-21 13:45:00</td>\n      <td>0.0</td>\n      <td>14911</td>\n      <td>EIRE</td>\n      <td>0.0</td>\n    </tr>\n    <tr>\n      <th>29080</th>\n      <td>47068</td>\n      <td>540372</td>\n      <td>22090</td>\n      <td>2011</td>\n      <td>1</td>\n      <td>4</td>\n      <td>16</td>\n      <td>paper bunting retrospot</td>\n      <td>24</td>\n      <td>2011-01-06 16:41:00</td>\n      <td>0.0</td>\n      <td>13081</td>\n      <td>United Kingdom</td>\n      <td>0.0</td>\n    </tr>\n    <tr>\n      <th>29082</th>\n      <td>47070</td>\n      <td>540372</td>\n      <td>22553</td>\n      <td>2011</td>\n      <td>1</td>\n      <td>4</td>\n      <td>16</td>\n      <td>plasters in tin skulls</td>\n      <td>24</td>\n      <td>2011-01-06 16:41:00</td>\n      <td>0.0</td>\n      <td>13081</td>\n      <td>United Kingdom</td>\n      <td>0.0</td>\n    </tr>\n  </tbody>\n</table>\n</div>"
     },
     "metadata": {},
     "execution_count": 208
    }
   ],
   "source": [
    "# your answer here\n",
    "orders[orders.amount_spent == 0].head()"
   ]
  },
  {
   "cell_type": "markdown",
   "metadata": {},
   "source": [
    "#### Select all orders that are 'lunch bag'\n",
    "#### Hint: Use string functions"
   ]
  },
  {
   "cell_type": "code",
   "execution_count": 213,
   "metadata": {
    "collapsed": true
   },
   "outputs": [
    {
     "output_type": "execute_result",
     "data": {
      "text/plain": "     Unnamed: 0  InvoiceNo StockCode  year  month  day  hour  \\\n93           93     536378     20725  2010     12    3     9   \n172         174     536385     22662  2010     12    3     9   \n354         363     536401     22662  2010     12    3    11   \n359         368     536401     20725  2010     12    3    11   \n360         369     536401     22382  2010     12    3    11   \n\n                     Description  Quantity          InvoiceDate  UnitPrice  \\\n93       lunch bag red retrospot        10  2010-12-01 09:37:00       1.65   \n172  lunch bag dolly girl design        10  2010-12-01 09:56:00       1.65   \n354  lunch bag dolly girl design         1  2010-12-01 11:21:00       1.65   \n359      lunch bag red retrospot         1  2010-12-01 11:21:00       1.65   \n360   lunch bag spaceboy design          2  2010-12-01 11:21:00       1.65   \n\n     CustomerID         Country  amount_spent  \n93        14688  United Kingdom         16.50  \n172       17420  United Kingdom         16.50  \n354       15862  United Kingdom          1.65  \n359       15862  United Kingdom          1.65  \n360       15862  United Kingdom          3.30  ",
      "text/html": "<div>\n<style scoped>\n    .dataframe tbody tr th:only-of-type {\n        vertical-align: middle;\n    }\n\n    .dataframe tbody tr th {\n        vertical-align: top;\n    }\n\n    .dataframe thead th {\n        text-align: right;\n    }\n</style>\n<table border=\"1\" class=\"dataframe\">\n  <thead>\n    <tr style=\"text-align: right;\">\n      <th></th>\n      <th>Unnamed: 0</th>\n      <th>InvoiceNo</th>\n      <th>StockCode</th>\n      <th>year</th>\n      <th>month</th>\n      <th>day</th>\n      <th>hour</th>\n      <th>Description</th>\n      <th>Quantity</th>\n      <th>InvoiceDate</th>\n      <th>UnitPrice</th>\n      <th>CustomerID</th>\n      <th>Country</th>\n      <th>amount_spent</th>\n    </tr>\n  </thead>\n  <tbody>\n    <tr>\n      <th>93</th>\n      <td>93</td>\n      <td>536378</td>\n      <td>20725</td>\n      <td>2010</td>\n      <td>12</td>\n      <td>3</td>\n      <td>9</td>\n      <td>lunch bag red retrospot</td>\n      <td>10</td>\n      <td>2010-12-01 09:37:00</td>\n      <td>1.65</td>\n      <td>14688</td>\n      <td>United Kingdom</td>\n      <td>16.50</td>\n    </tr>\n    <tr>\n      <th>172</th>\n      <td>174</td>\n      <td>536385</td>\n      <td>22662</td>\n      <td>2010</td>\n      <td>12</td>\n      <td>3</td>\n      <td>9</td>\n      <td>lunch bag dolly girl design</td>\n      <td>10</td>\n      <td>2010-12-01 09:56:00</td>\n      <td>1.65</td>\n      <td>17420</td>\n      <td>United Kingdom</td>\n      <td>16.50</td>\n    </tr>\n    <tr>\n      <th>354</th>\n      <td>363</td>\n      <td>536401</td>\n      <td>22662</td>\n      <td>2010</td>\n      <td>12</td>\n      <td>3</td>\n      <td>11</td>\n      <td>lunch bag dolly girl design</td>\n      <td>1</td>\n      <td>2010-12-01 11:21:00</td>\n      <td>1.65</td>\n      <td>15862</td>\n      <td>United Kingdom</td>\n      <td>1.65</td>\n    </tr>\n    <tr>\n      <th>359</th>\n      <td>368</td>\n      <td>536401</td>\n      <td>20725</td>\n      <td>2010</td>\n      <td>12</td>\n      <td>3</td>\n      <td>11</td>\n      <td>lunch bag red retrospot</td>\n      <td>1</td>\n      <td>2010-12-01 11:21:00</td>\n      <td>1.65</td>\n      <td>15862</td>\n      <td>United Kingdom</td>\n      <td>1.65</td>\n    </tr>\n    <tr>\n      <th>360</th>\n      <td>369</td>\n      <td>536401</td>\n      <td>22382</td>\n      <td>2010</td>\n      <td>12</td>\n      <td>3</td>\n      <td>11</td>\n      <td>lunch bag spaceboy design</td>\n      <td>2</td>\n      <td>2010-12-01 11:21:00</td>\n      <td>1.65</td>\n      <td>15862</td>\n      <td>United Kingdom</td>\n      <td>3.30</td>\n    </tr>\n  </tbody>\n</table>\n</div>"
     },
     "metadata": {},
     "execution_count": 213
    }
   ],
   "source": [
    "# your answer here\n",
    "orders[orders.Description.str.contains('lunch bag')].head()"
   ]
  },
  {
   "cell_type": "markdown",
   "metadata": {},
   "source": [
    "#### Select all orders that are made in 2011 and are 'lunch bag'  "
   ]
  },
  {
   "cell_type": "code",
   "execution_count": 214,
   "metadata": {
    "collapsed": true
   },
   "outputs": [
    {
     "output_type": "execute_result",
     "data": {
      "text/plain": "       Unnamed: 0  InvoiceNo StockCode  year  month  day  hour  \\\n26340       42678     540015     20725  2011      1    2    11   \n26341       42679     540015     20726  2011      1    2    11   \n26512       42851     540023     22382  2011      1    2    12   \n26513       42852     540023     20726  2011      1    2    12   \n26860       43616     540098     22384  2011      1    2    15   \n\n                      Description  Quantity          InvoiceDate  UnitPrice  \\\n26340     lunch bag red retrospot        10  2011-01-04 11:40:00       1.65   \n26341          lunch bag woodland        10  2011-01-04 11:40:00       1.65   \n26512  lunch bag spaceboy design          2  2011-01-04 12:58:00       1.65   \n26513          lunch bag woodland         1  2011-01-04 12:58:00       1.65   \n26860     lunch bag pink polkadot         1  2011-01-04 15:50:00       1.65   \n\n       CustomerID         Country  amount_spent  \n26340       13319  United Kingdom         16.50  \n26341       13319  United Kingdom         16.50  \n26512       15039  United Kingdom          3.30  \n26513       15039  United Kingdom          1.65  \n26860       16241  United Kingdom          1.65  ",
      "text/html": "<div>\n<style scoped>\n    .dataframe tbody tr th:only-of-type {\n        vertical-align: middle;\n    }\n\n    .dataframe tbody tr th {\n        vertical-align: top;\n    }\n\n    .dataframe thead th {\n        text-align: right;\n    }\n</style>\n<table border=\"1\" class=\"dataframe\">\n  <thead>\n    <tr style=\"text-align: right;\">\n      <th></th>\n      <th>Unnamed: 0</th>\n      <th>InvoiceNo</th>\n      <th>StockCode</th>\n      <th>year</th>\n      <th>month</th>\n      <th>day</th>\n      <th>hour</th>\n      <th>Description</th>\n      <th>Quantity</th>\n      <th>InvoiceDate</th>\n      <th>UnitPrice</th>\n      <th>CustomerID</th>\n      <th>Country</th>\n      <th>amount_spent</th>\n    </tr>\n  </thead>\n  <tbody>\n    <tr>\n      <th>26340</th>\n      <td>42678</td>\n      <td>540015</td>\n      <td>20725</td>\n      <td>2011</td>\n      <td>1</td>\n      <td>2</td>\n      <td>11</td>\n      <td>lunch bag red retrospot</td>\n      <td>10</td>\n      <td>2011-01-04 11:40:00</td>\n      <td>1.65</td>\n      <td>13319</td>\n      <td>United Kingdom</td>\n      <td>16.50</td>\n    </tr>\n    <tr>\n      <th>26341</th>\n      <td>42679</td>\n      <td>540015</td>\n      <td>20726</td>\n      <td>2011</td>\n      <td>1</td>\n      <td>2</td>\n      <td>11</td>\n      <td>lunch bag woodland</td>\n      <td>10</td>\n      <td>2011-01-04 11:40:00</td>\n      <td>1.65</td>\n      <td>13319</td>\n      <td>United Kingdom</td>\n      <td>16.50</td>\n    </tr>\n    <tr>\n      <th>26512</th>\n      <td>42851</td>\n      <td>540023</td>\n      <td>22382</td>\n      <td>2011</td>\n      <td>1</td>\n      <td>2</td>\n      <td>12</td>\n      <td>lunch bag spaceboy design</td>\n      <td>2</td>\n      <td>2011-01-04 12:58:00</td>\n      <td>1.65</td>\n      <td>15039</td>\n      <td>United Kingdom</td>\n      <td>3.30</td>\n    </tr>\n    <tr>\n      <th>26513</th>\n      <td>42852</td>\n      <td>540023</td>\n      <td>20726</td>\n      <td>2011</td>\n      <td>1</td>\n      <td>2</td>\n      <td>12</td>\n      <td>lunch bag woodland</td>\n      <td>1</td>\n      <td>2011-01-04 12:58:00</td>\n      <td>1.65</td>\n      <td>15039</td>\n      <td>United Kingdom</td>\n      <td>1.65</td>\n    </tr>\n    <tr>\n      <th>26860</th>\n      <td>43616</td>\n      <td>540098</td>\n      <td>22384</td>\n      <td>2011</td>\n      <td>1</td>\n      <td>2</td>\n      <td>15</td>\n      <td>lunch bag pink polkadot</td>\n      <td>1</td>\n      <td>2011-01-04 15:50:00</td>\n      <td>1.65</td>\n      <td>16241</td>\n      <td>United Kingdom</td>\n      <td>1.65</td>\n    </tr>\n  </tbody>\n</table>\n</div>"
     },
     "metadata": {},
     "execution_count": 214
    }
   ],
   "source": [
    "# your answer here\n",
    "orders[(orders.year == 2011) & (orders.Description.str.contains('lunch bag'))].head()"
   ]
  },
  {
   "cell_type": "markdown",
   "metadata": {},
   "source": [
    "#### Show the frequency distribution of the amount spent in Spain."
   ]
  },
  {
   "cell_type": "code",
   "execution_count": 217,
   "metadata": {
    "collapsed": true
   },
   "outputs": [
    {
     "output_type": "display_data",
     "data": {
      "text/plain": "<Figure size 432x288 with 1 Axes>",
      "image/svg+xml": "<?xml version=\"1.0\" encoding=\"utf-8\" standalone=\"no\"?>\n<!DOCTYPE svg PUBLIC \"-//W3C//DTD SVG 1.1//EN\"\n  \"http://www.w3.org/Graphics/SVG/1.1/DTD/svg11.dtd\">\n<!-- Created with matplotlib (https://matplotlib.org/) -->\n<svg height=\"248.518125pt\" version=\"1.1\" viewBox=\"0 0 390.429545 248.518125\" width=\"390.429545pt\" xmlns=\"http://www.w3.org/2000/svg\" xmlns:xlink=\"http://www.w3.org/1999/xlink\">\n <defs>\n  <style type=\"text/css\">\n*{stroke-linecap:butt;stroke-linejoin:round;}\n  </style>\n </defs>\n <g id=\"figure_1\">\n  <g id=\"patch_1\">\n   <path d=\"M -0 248.518125 \nL 390.429545 248.518125 \nL 390.429545 0 \nL -0 0 \nz\n\" style=\"fill:none;\"/>\n  </g>\n  <g id=\"axes_1\">\n   <g id=\"patch_2\">\n    <path d=\"M 39.65 224.64 \nL 374.45 224.64 \nL 374.45 7.2 \nL 39.65 7.2 \nz\n\" style=\"fill:#ffffff;\"/>\n   </g>\n   <g id=\"patch_3\">\n    <path clip-path=\"url(#pb965bcd2a1)\" d=\"M 54.868182 224.64 \nL 85.304545 224.64 \nL 85.304545 17.554286 \nL 54.868182 17.554286 \nz\n\" style=\"fill:#1f77b4;\"/>\n   </g>\n   <g id=\"patch_4\">\n    <path clip-path=\"url(#pb965bcd2a1)\" d=\"M 85.304545 224.64 \nL 115.740909 224.64 \nL 115.740909 221.313664 \nL 85.304545 221.313664 \nz\n\" style=\"fill:#1f77b4;\"/>\n   </g>\n   <g id=\"patch_5\">\n    <path clip-path=\"url(#pb965bcd2a1)\" d=\"M 115.740909 224.64 \nL 146.177273 224.64 \nL 146.177273 223.872384 \nL 115.740909 223.872384 \nz\n\" style=\"fill:#1f77b4;\"/>\n   </g>\n   <g id=\"patch_6\">\n    <path clip-path=\"url(#pb965bcd2a1)\" d=\"M 146.177273 224.64 \nL 176.613636 224.64 \nL 176.613636 224.384128 \nL 146.177273 224.384128 \nz\n\" style=\"fill:#1f77b4;\"/>\n   </g>\n   <g id=\"patch_7\">\n    <path clip-path=\"url(#pb965bcd2a1)\" d=\"M 176.613636 224.64 \nL 207.05 224.64 \nL 207.05 224.64 \nL 176.613636 224.64 \nz\n\" style=\"fill:#1f77b4;\"/>\n   </g>\n   <g id=\"patch_8\">\n    <path clip-path=\"url(#pb965bcd2a1)\" d=\"M 207.05 224.64 \nL 237.486364 224.64 \nL 237.486364 224.64 \nL 207.05 224.64 \nz\n\" style=\"fill:#1f77b4;\"/>\n   </g>\n   <g id=\"patch_9\">\n    <path clip-path=\"url(#pb965bcd2a1)\" d=\"M 237.486364 224.64 \nL 267.922727 224.64 \nL 267.922727 224.64 \nL 237.486364 224.64 \nz\n\" style=\"fill:#1f77b4;\"/>\n   </g>\n   <g id=\"patch_10\">\n    <path clip-path=\"url(#pb965bcd2a1)\" d=\"M 267.922727 224.64 \nL 298.359091 224.64 \nL 298.359091 224.64 \nL 267.922727 224.64 \nz\n\" style=\"fill:#1f77b4;\"/>\n   </g>\n   <g id=\"patch_11\">\n    <path clip-path=\"url(#pb965bcd2a1)\" d=\"M 298.359091 224.64 \nL 328.795455 224.64 \nL 328.795455 224.554709 \nL 298.359091 224.554709 \nz\n\" style=\"fill:#1f77b4;\"/>\n   </g>\n   <g id=\"patch_12\">\n    <path clip-path=\"url(#pb965bcd2a1)\" d=\"M 328.795455 224.64 \nL 359.231818 224.64 \nL 359.231818 224.213547 \nL 328.795455 224.213547 \nz\n\" style=\"fill:#1f77b4;\"/>\n   </g>\n   <g id=\"matplotlib.axis_1\">\n    <g id=\"xtick_1\">\n     <g id=\"line2d_1\">\n      <path clip-path=\"url(#pb965bcd2a1)\" d=\"M 54.868182 224.64 \nL 54.868182 7.2 \n\" style=\"fill:none;stroke:#b0b0b0;stroke-linecap:square;stroke-width:0.8;\"/>\n     </g>\n     <g id=\"line2d_2\">\n      <defs>\n       <path d=\"M 0 0 \nL 0 3.5 \n\" id=\"m5e8a901040\" style=\"stroke:#000000;stroke-width:0.8;\"/>\n      </defs>\n      <g>\n       <use style=\"stroke:#000000;stroke-width:0.8;\" x=\"54.868182\" xlink:href=\"#m5e8a901040\" y=\"224.64\"/>\n      </g>\n     </g>\n     <g id=\"text_1\">\n      <!-- 0 -->\n      <defs>\n       <path d=\"M 31.78125 66.40625 \nQ 24.171875 66.40625 20.328125 58.90625 \nQ 16.5 51.421875 16.5 36.375 \nQ 16.5 21.390625 20.328125 13.890625 \nQ 24.171875 6.390625 31.78125 6.390625 \nQ 39.453125 6.390625 43.28125 13.890625 \nQ 47.125 21.390625 47.125 36.375 \nQ 47.125 51.421875 43.28125 58.90625 \nQ 39.453125 66.40625 31.78125 66.40625 \nz\nM 31.78125 74.21875 \nQ 44.046875 74.21875 50.515625 64.515625 \nQ 56.984375 54.828125 56.984375 36.375 \nQ 56.984375 17.96875 50.515625 8.265625 \nQ 44.046875 -1.421875 31.78125 -1.421875 \nQ 19.53125 -1.421875 13.0625 8.265625 \nQ 6.59375 17.96875 6.59375 36.375 \nQ 6.59375 54.828125 13.0625 64.515625 \nQ 19.53125 74.21875 31.78125 74.21875 \nz\n\" id=\"DejaVuSans-48\"/>\n      </defs>\n      <g transform=\"translate(51.686932 239.238437)scale(0.1 -0.1)\">\n       <use xlink:href=\"#DejaVuSans-48\"/>\n      </g>\n     </g>\n    </g>\n    <g id=\"xtick_2\">\n     <g id=\"line2d_3\">\n      <path clip-path=\"url(#pb965bcd2a1)\" d=\"M 99.959091 224.64 \nL 99.959091 7.2 \n\" style=\"fill:none;stroke:#b0b0b0;stroke-linecap:square;stroke-width:0.8;\"/>\n     </g>\n     <g id=\"line2d_4\">\n      <g>\n       <use style=\"stroke:#000000;stroke-width:0.8;\" x=\"99.959091\" xlink:href=\"#m5e8a901040\" y=\"224.64\"/>\n      </g>\n     </g>\n     <g id=\"text_2\">\n      <!-- 200 -->\n      <defs>\n       <path d=\"M 19.1875 8.296875 \nL 53.609375 8.296875 \nL 53.609375 0 \nL 7.328125 0 \nL 7.328125 8.296875 \nQ 12.9375 14.109375 22.625 23.890625 \nQ 32.328125 33.6875 34.8125 36.53125 \nQ 39.546875 41.84375 41.421875 45.53125 \nQ 43.3125 49.21875 43.3125 52.78125 \nQ 43.3125 58.59375 39.234375 62.25 \nQ 35.15625 65.921875 28.609375 65.921875 \nQ 23.96875 65.921875 18.8125 64.3125 \nQ 13.671875 62.703125 7.8125 59.421875 \nL 7.8125 69.390625 \nQ 13.765625 71.78125 18.9375 73 \nQ 24.125 74.21875 28.421875 74.21875 \nQ 39.75 74.21875 46.484375 68.546875 \nQ 53.21875 62.890625 53.21875 53.421875 \nQ 53.21875 48.921875 51.53125 44.890625 \nQ 49.859375 40.875 45.40625 35.40625 \nQ 44.1875 33.984375 37.640625 27.21875 \nQ 31.109375 20.453125 19.1875 8.296875 \nz\n\" id=\"DejaVuSans-50\"/>\n      </defs>\n      <g transform=\"translate(90.415341 239.238437)scale(0.1 -0.1)\">\n       <use xlink:href=\"#DejaVuSans-50\"/>\n       <use x=\"63.623047\" xlink:href=\"#DejaVuSans-48\"/>\n       <use x=\"127.246094\" xlink:href=\"#DejaVuSans-48\"/>\n      </g>\n     </g>\n    </g>\n    <g id=\"xtick_3\">\n     <g id=\"line2d_5\">\n      <path clip-path=\"url(#pb965bcd2a1)\" d=\"M 145.05 224.64 \nL 145.05 7.2 \n\" style=\"fill:none;stroke:#b0b0b0;stroke-linecap:square;stroke-width:0.8;\"/>\n     </g>\n     <g id=\"line2d_6\">\n      <g>\n       <use style=\"stroke:#000000;stroke-width:0.8;\" x=\"145.05\" xlink:href=\"#m5e8a901040\" y=\"224.64\"/>\n      </g>\n     </g>\n     <g id=\"text_3\">\n      <!-- 400 -->\n      <defs>\n       <path d=\"M 37.796875 64.3125 \nL 12.890625 25.390625 \nL 37.796875 25.390625 \nz\nM 35.203125 72.90625 \nL 47.609375 72.90625 \nL 47.609375 25.390625 \nL 58.015625 25.390625 \nL 58.015625 17.1875 \nL 47.609375 17.1875 \nL 47.609375 0 \nL 37.796875 0 \nL 37.796875 17.1875 \nL 4.890625 17.1875 \nL 4.890625 26.703125 \nz\n\" id=\"DejaVuSans-52\"/>\n      </defs>\n      <g transform=\"translate(135.50625 239.238437)scale(0.1 -0.1)\">\n       <use xlink:href=\"#DejaVuSans-52\"/>\n       <use x=\"63.623047\" xlink:href=\"#DejaVuSans-48\"/>\n       <use x=\"127.246094\" xlink:href=\"#DejaVuSans-48\"/>\n      </g>\n     </g>\n    </g>\n    <g id=\"xtick_4\">\n     <g id=\"line2d_7\">\n      <path clip-path=\"url(#pb965bcd2a1)\" d=\"M 190.140909 224.64 \nL 190.140909 7.2 \n\" style=\"fill:none;stroke:#b0b0b0;stroke-linecap:square;stroke-width:0.8;\"/>\n     </g>\n     <g id=\"line2d_8\">\n      <g>\n       <use style=\"stroke:#000000;stroke-width:0.8;\" x=\"190.140909\" xlink:href=\"#m5e8a901040\" y=\"224.64\"/>\n      </g>\n     </g>\n     <g id=\"text_4\">\n      <!-- 600 -->\n      <defs>\n       <path d=\"M 33.015625 40.375 \nQ 26.375 40.375 22.484375 35.828125 \nQ 18.609375 31.296875 18.609375 23.390625 \nQ 18.609375 15.53125 22.484375 10.953125 \nQ 26.375 6.390625 33.015625 6.390625 \nQ 39.65625 6.390625 43.53125 10.953125 \nQ 47.40625 15.53125 47.40625 23.390625 \nQ 47.40625 31.296875 43.53125 35.828125 \nQ 39.65625 40.375 33.015625 40.375 \nz\nM 52.59375 71.296875 \nL 52.59375 62.3125 \nQ 48.875 64.0625 45.09375 64.984375 \nQ 41.3125 65.921875 37.59375 65.921875 \nQ 27.828125 65.921875 22.671875 59.328125 \nQ 17.53125 52.734375 16.796875 39.40625 \nQ 19.671875 43.65625 24.015625 45.921875 \nQ 28.375 48.1875 33.59375 48.1875 \nQ 44.578125 48.1875 50.953125 41.515625 \nQ 57.328125 34.859375 57.328125 23.390625 \nQ 57.328125 12.15625 50.6875 5.359375 \nQ 44.046875 -1.421875 33.015625 -1.421875 \nQ 20.359375 -1.421875 13.671875 8.265625 \nQ 6.984375 17.96875 6.984375 36.375 \nQ 6.984375 53.65625 15.1875 63.9375 \nQ 23.390625 74.21875 37.203125 74.21875 \nQ 40.921875 74.21875 44.703125 73.484375 \nQ 48.484375 72.75 52.59375 71.296875 \nz\n\" id=\"DejaVuSans-54\"/>\n      </defs>\n      <g transform=\"translate(180.597159 239.238437)scale(0.1 -0.1)\">\n       <use xlink:href=\"#DejaVuSans-54\"/>\n       <use x=\"63.623047\" xlink:href=\"#DejaVuSans-48\"/>\n       <use x=\"127.246094\" xlink:href=\"#DejaVuSans-48\"/>\n      </g>\n     </g>\n    </g>\n    <g id=\"xtick_5\">\n     <g id=\"line2d_9\">\n      <path clip-path=\"url(#pb965bcd2a1)\" d=\"M 235.231818 224.64 \nL 235.231818 7.2 \n\" style=\"fill:none;stroke:#b0b0b0;stroke-linecap:square;stroke-width:0.8;\"/>\n     </g>\n     <g id=\"line2d_10\">\n      <g>\n       <use style=\"stroke:#000000;stroke-width:0.8;\" x=\"235.231818\" xlink:href=\"#m5e8a901040\" y=\"224.64\"/>\n      </g>\n     </g>\n     <g id=\"text_5\">\n      <!-- 800 -->\n      <defs>\n       <path d=\"M 31.78125 34.625 \nQ 24.75 34.625 20.71875 30.859375 \nQ 16.703125 27.09375 16.703125 20.515625 \nQ 16.703125 13.921875 20.71875 10.15625 \nQ 24.75 6.390625 31.78125 6.390625 \nQ 38.8125 6.390625 42.859375 10.171875 \nQ 46.921875 13.96875 46.921875 20.515625 \nQ 46.921875 27.09375 42.890625 30.859375 \nQ 38.875 34.625 31.78125 34.625 \nz\nM 21.921875 38.8125 \nQ 15.578125 40.375 12.03125 44.71875 \nQ 8.5 49.078125 8.5 55.328125 \nQ 8.5 64.0625 14.71875 69.140625 \nQ 20.953125 74.21875 31.78125 74.21875 \nQ 42.671875 74.21875 48.875 69.140625 \nQ 55.078125 64.0625 55.078125 55.328125 \nQ 55.078125 49.078125 51.53125 44.71875 \nQ 48 40.375 41.703125 38.8125 \nQ 48.828125 37.15625 52.796875 32.3125 \nQ 56.78125 27.484375 56.78125 20.515625 \nQ 56.78125 9.90625 50.3125 4.234375 \nQ 43.84375 -1.421875 31.78125 -1.421875 \nQ 19.734375 -1.421875 13.25 4.234375 \nQ 6.78125 9.90625 6.78125 20.515625 \nQ 6.78125 27.484375 10.78125 32.3125 \nQ 14.796875 37.15625 21.921875 38.8125 \nz\nM 18.3125 54.390625 \nQ 18.3125 48.734375 21.84375 45.5625 \nQ 25.390625 42.390625 31.78125 42.390625 \nQ 38.140625 42.390625 41.71875 45.5625 \nQ 45.3125 48.734375 45.3125 54.390625 \nQ 45.3125 60.0625 41.71875 63.234375 \nQ 38.140625 66.40625 31.78125 66.40625 \nQ 25.390625 66.40625 21.84375 63.234375 \nQ 18.3125 60.0625 18.3125 54.390625 \nz\n\" id=\"DejaVuSans-56\"/>\n      </defs>\n      <g transform=\"translate(225.688068 239.238437)scale(0.1 -0.1)\">\n       <use xlink:href=\"#DejaVuSans-56\"/>\n       <use x=\"63.623047\" xlink:href=\"#DejaVuSans-48\"/>\n       <use x=\"127.246094\" xlink:href=\"#DejaVuSans-48\"/>\n      </g>\n     </g>\n    </g>\n    <g id=\"xtick_6\">\n     <g id=\"line2d_11\">\n      <path clip-path=\"url(#pb965bcd2a1)\" d=\"M 280.322727 224.64 \nL 280.322727 7.2 \n\" style=\"fill:none;stroke:#b0b0b0;stroke-linecap:square;stroke-width:0.8;\"/>\n     </g>\n     <g id=\"line2d_12\">\n      <g>\n       <use style=\"stroke:#000000;stroke-width:0.8;\" x=\"280.322727\" xlink:href=\"#m5e8a901040\" y=\"224.64\"/>\n      </g>\n     </g>\n     <g id=\"text_6\">\n      <!-- 1000 -->\n      <defs>\n       <path d=\"M 12.40625 8.296875 \nL 28.515625 8.296875 \nL 28.515625 63.921875 \nL 10.984375 60.40625 \nL 10.984375 69.390625 \nL 28.421875 72.90625 \nL 38.28125 72.90625 \nL 38.28125 8.296875 \nL 54.390625 8.296875 \nL 54.390625 0 \nL 12.40625 0 \nz\n\" id=\"DejaVuSans-49\"/>\n      </defs>\n      <g transform=\"translate(267.597727 239.238437)scale(0.1 -0.1)\">\n       <use xlink:href=\"#DejaVuSans-49\"/>\n       <use x=\"63.623047\" xlink:href=\"#DejaVuSans-48\"/>\n       <use x=\"127.246094\" xlink:href=\"#DejaVuSans-48\"/>\n       <use x=\"190.869141\" xlink:href=\"#DejaVuSans-48\"/>\n      </g>\n     </g>\n    </g>\n    <g id=\"xtick_7\">\n     <g id=\"line2d_13\">\n      <path clip-path=\"url(#pb965bcd2a1)\" d=\"M 325.413636 224.64 \nL 325.413636 7.2 \n\" style=\"fill:none;stroke:#b0b0b0;stroke-linecap:square;stroke-width:0.8;\"/>\n     </g>\n     <g id=\"line2d_14\">\n      <g>\n       <use style=\"stroke:#000000;stroke-width:0.8;\" x=\"325.413636\" xlink:href=\"#m5e8a901040\" y=\"224.64\"/>\n      </g>\n     </g>\n     <g id=\"text_7\">\n      <!-- 1200 -->\n      <g transform=\"translate(312.688636 239.238437)scale(0.1 -0.1)\">\n       <use xlink:href=\"#DejaVuSans-49\"/>\n       <use x=\"63.623047\" xlink:href=\"#DejaVuSans-50\"/>\n       <use x=\"127.246094\" xlink:href=\"#DejaVuSans-48\"/>\n       <use x=\"190.869141\" xlink:href=\"#DejaVuSans-48\"/>\n      </g>\n     </g>\n    </g>\n    <g id=\"xtick_8\">\n     <g id=\"line2d_15\">\n      <path clip-path=\"url(#pb965bcd2a1)\" d=\"M 370.504545 224.64 \nL 370.504545 7.2 \n\" style=\"fill:none;stroke:#b0b0b0;stroke-linecap:square;stroke-width:0.8;\"/>\n     </g>\n     <g id=\"line2d_16\">\n      <g>\n       <use style=\"stroke:#000000;stroke-width:0.8;\" x=\"370.504545\" xlink:href=\"#m5e8a901040\" y=\"224.64\"/>\n      </g>\n     </g>\n     <g id=\"text_8\">\n      <!-- 1400 -->\n      <g transform=\"translate(357.779545 239.238437)scale(0.1 -0.1)\">\n       <use xlink:href=\"#DejaVuSans-49\"/>\n       <use x=\"63.623047\" xlink:href=\"#DejaVuSans-52\"/>\n       <use x=\"127.246094\" xlink:href=\"#DejaVuSans-48\"/>\n       <use x=\"190.869141\" xlink:href=\"#DejaVuSans-48\"/>\n      </g>\n     </g>\n    </g>\n   </g>\n   <g id=\"matplotlib.axis_2\">\n    <g id=\"ytick_1\">\n     <g id=\"line2d_17\">\n      <path clip-path=\"url(#pb965bcd2a1)\" d=\"M 39.65 224.64 \nL 374.45 224.64 \n\" style=\"fill:none;stroke:#b0b0b0;stroke-linecap:square;stroke-width:0.8;\"/>\n     </g>\n     <g id=\"line2d_18\">\n      <defs>\n       <path d=\"M 0 0 \nL -3.5 0 \n\" id=\"m724346a214\" style=\"stroke:#000000;stroke-width:0.8;\"/>\n      </defs>\n      <g>\n       <use style=\"stroke:#000000;stroke-width:0.8;\" x=\"39.65\" xlink:href=\"#m724346a214\" y=\"224.64\"/>\n      </g>\n     </g>\n     <g id=\"text_9\">\n      <!-- 0 -->\n      <g transform=\"translate(26.2875 228.439219)scale(0.1 -0.1)\">\n       <use xlink:href=\"#DejaVuSans-48\"/>\n      </g>\n     </g>\n    </g>\n    <g id=\"ytick_2\">\n     <g id=\"line2d_19\">\n      <path clip-path=\"url(#pb965bcd2a1)\" d=\"M 39.65 181.994672 \nL 374.45 181.994672 \n\" style=\"fill:none;stroke:#b0b0b0;stroke-linecap:square;stroke-width:0.8;\"/>\n     </g>\n     <g id=\"line2d_20\">\n      <g>\n       <use style=\"stroke:#000000;stroke-width:0.8;\" x=\"39.65\" xlink:href=\"#m724346a214\" y=\"181.994672\"/>\n      </g>\n     </g>\n     <g id=\"text_10\">\n      <!-- 500 -->\n      <defs>\n       <path d=\"M 10.796875 72.90625 \nL 49.515625 72.90625 \nL 49.515625 64.59375 \nL 19.828125 64.59375 \nL 19.828125 46.734375 \nQ 21.96875 47.46875 24.109375 47.828125 \nQ 26.265625 48.1875 28.421875 48.1875 \nQ 40.625 48.1875 47.75 41.5 \nQ 54.890625 34.8125 54.890625 23.390625 \nQ 54.890625 11.625 47.5625 5.09375 \nQ 40.234375 -1.421875 26.90625 -1.421875 \nQ 22.3125 -1.421875 17.546875 -0.640625 \nQ 12.796875 0.140625 7.71875 1.703125 \nL 7.71875 11.625 \nQ 12.109375 9.234375 16.796875 8.0625 \nQ 21.484375 6.890625 26.703125 6.890625 \nQ 35.15625 6.890625 40.078125 11.328125 \nQ 45.015625 15.765625 45.015625 23.390625 \nQ 45.015625 31 40.078125 35.4375 \nQ 35.15625 39.890625 26.703125 39.890625 \nQ 22.75 39.890625 18.8125 39.015625 \nQ 14.890625 38.140625 10.796875 36.28125 \nz\n\" id=\"DejaVuSans-53\"/>\n      </defs>\n      <g transform=\"translate(13.5625 185.79389)scale(0.1 -0.1)\">\n       <use xlink:href=\"#DejaVuSans-53\"/>\n       <use x=\"63.623047\" xlink:href=\"#DejaVuSans-48\"/>\n       <use x=\"127.246094\" xlink:href=\"#DejaVuSans-48\"/>\n      </g>\n     </g>\n    </g>\n    <g id=\"ytick_3\">\n     <g id=\"line2d_21\">\n      <path clip-path=\"url(#pb965bcd2a1)\" d=\"M 39.65 139.349343 \nL 374.45 139.349343 \n\" style=\"fill:none;stroke:#b0b0b0;stroke-linecap:square;stroke-width:0.8;\"/>\n     </g>\n     <g id=\"line2d_22\">\n      <g>\n       <use style=\"stroke:#000000;stroke-width:0.8;\" x=\"39.65\" xlink:href=\"#m724346a214\" y=\"139.349343\"/>\n      </g>\n     </g>\n     <g id=\"text_11\">\n      <!-- 1000 -->\n      <g transform=\"translate(7.2 143.148562)scale(0.1 -0.1)\">\n       <use xlink:href=\"#DejaVuSans-49\"/>\n       <use x=\"63.623047\" xlink:href=\"#DejaVuSans-48\"/>\n       <use x=\"127.246094\" xlink:href=\"#DejaVuSans-48\"/>\n       <use x=\"190.869141\" xlink:href=\"#DejaVuSans-48\"/>\n      </g>\n     </g>\n    </g>\n    <g id=\"ytick_4\">\n     <g id=\"line2d_23\">\n      <path clip-path=\"url(#pb965bcd2a1)\" d=\"M 39.65 96.704015 \nL 374.45 96.704015 \n\" style=\"fill:none;stroke:#b0b0b0;stroke-linecap:square;stroke-width:0.8;\"/>\n     </g>\n     <g id=\"line2d_24\">\n      <g>\n       <use style=\"stroke:#000000;stroke-width:0.8;\" x=\"39.65\" xlink:href=\"#m724346a214\" y=\"96.704015\"/>\n      </g>\n     </g>\n     <g id=\"text_12\">\n      <!-- 1500 -->\n      <g transform=\"translate(7.2 100.503234)scale(0.1 -0.1)\">\n       <use xlink:href=\"#DejaVuSans-49\"/>\n       <use x=\"63.623047\" xlink:href=\"#DejaVuSans-53\"/>\n       <use x=\"127.246094\" xlink:href=\"#DejaVuSans-48\"/>\n       <use x=\"190.869141\" xlink:href=\"#DejaVuSans-48\"/>\n      </g>\n     </g>\n    </g>\n    <g id=\"ytick_5\">\n     <g id=\"line2d_25\">\n      <path clip-path=\"url(#pb965bcd2a1)\" d=\"M 39.65 54.058687 \nL 374.45 54.058687 \n\" style=\"fill:none;stroke:#b0b0b0;stroke-linecap:square;stroke-width:0.8;\"/>\n     </g>\n     <g id=\"line2d_26\">\n      <g>\n       <use style=\"stroke:#000000;stroke-width:0.8;\" x=\"39.65\" xlink:href=\"#m724346a214\" y=\"54.058687\"/>\n      </g>\n     </g>\n     <g id=\"text_13\">\n      <!-- 2000 -->\n      <g transform=\"translate(7.2 57.857905)scale(0.1 -0.1)\">\n       <use xlink:href=\"#DejaVuSans-50\"/>\n       <use x=\"63.623047\" xlink:href=\"#DejaVuSans-48\"/>\n       <use x=\"127.246094\" xlink:href=\"#DejaVuSans-48\"/>\n       <use x=\"190.869141\" xlink:href=\"#DejaVuSans-48\"/>\n      </g>\n     </g>\n    </g>\n    <g id=\"ytick_6\">\n     <g id=\"line2d_27\">\n      <path clip-path=\"url(#pb965bcd2a1)\" d=\"M 39.65 11.413358 \nL 374.45 11.413358 \n\" style=\"fill:none;stroke:#b0b0b0;stroke-linecap:square;stroke-width:0.8;\"/>\n     </g>\n     <g id=\"line2d_28\">\n      <g>\n       <use style=\"stroke:#000000;stroke-width:0.8;\" x=\"39.65\" xlink:href=\"#m724346a214\" y=\"11.413358\"/>\n      </g>\n     </g>\n     <g id=\"text_14\">\n      <!-- 2500 -->\n      <g transform=\"translate(7.2 15.212577)scale(0.1 -0.1)\">\n       <use xlink:href=\"#DejaVuSans-50\"/>\n       <use x=\"63.623047\" xlink:href=\"#DejaVuSans-53\"/>\n       <use x=\"127.246094\" xlink:href=\"#DejaVuSans-48\"/>\n       <use x=\"190.869141\" xlink:href=\"#DejaVuSans-48\"/>\n      </g>\n     </g>\n    </g>\n   </g>\n   <g id=\"patch_13\">\n    <path d=\"M 39.65 224.64 \nL 39.65 7.2 \n\" style=\"fill:none;stroke:#000000;stroke-linecap:square;stroke-linejoin:miter;stroke-width:0.8;\"/>\n   </g>\n   <g id=\"patch_14\">\n    <path d=\"M 374.45 224.64 \nL 374.45 7.2 \n\" style=\"fill:none;stroke:#000000;stroke-linecap:square;stroke-linejoin:miter;stroke-width:0.8;\"/>\n   </g>\n   <g id=\"patch_15\">\n    <path d=\"M 39.65 224.64 \nL 374.45 224.64 \n\" style=\"fill:none;stroke:#000000;stroke-linecap:square;stroke-linejoin:miter;stroke-width:0.8;\"/>\n   </g>\n   <g id=\"patch_16\">\n    <path d=\"M 39.65 7.2 \nL 374.45 7.2 \n\" style=\"fill:none;stroke:#000000;stroke-linecap:square;stroke-linejoin:miter;stroke-width:0.8;\"/>\n   </g>\n  </g>\n </g>\n <defs>\n  <clipPath id=\"pb965bcd2a1\">\n   <rect height=\"217.44\" width=\"334.8\" x=\"39.65\" y=\"7.2\"/>\n  </clipPath>\n </defs>\n</svg>\n",
      "image/png": "[encoded data removed]"
     },
     "metadata": {
      "needs_background": "light"
     }
    }
   ],
   "source": [
    "# your answer here\n",
    "orders.amount_spent[orders.Country == 'Spain'].hist();"
   ]
  },
  {
   "cell_type": "markdown",
   "metadata": {},
   "source": [
    "#### Select all orders made in the month of August"
   ]
  },
  {
   "cell_type": "code",
   "execution_count": 218,
   "metadata": {
    "collapsed": true
   },
   "outputs": [
    {
     "output_type": "execute_result",
     "data": {
      "text/plain": "        Unnamed: 0  InvoiceNo StockCode  year  month  day  hour  \\\n199475      285421     561904     22075  2011      8    1     8   \n199476      285422     561904    85049E  2011      8    1     8   \n199477      285423     561905     21385  2011      8    1     9   \n199478      285424     561905    84970L  2011      8    1     9   \n199479      285425     561905    84970S  2011      8    1     9   \n\n                              Description  Quantity          InvoiceDate  \\\n199475       6 ribbons elegant christmas         96  2011-08-01 08:30:00   \n199476          scandinavian reds ribbons       156  2011-08-01 08:30:00   \n199477    ivory hanging decoration  heart        24  2011-08-01 09:31:00   \n199478   single heart zinc t-light holder        12  2011-08-01 09:31:00   \n199479  hanging heart zinc t-light holder        12  2011-08-01 09:31:00   \n\n        UnitPrice  CustomerID         Country  amount_spent  \n199475       1.45       17941  United Kingdom        139.20  \n199476       1.06       17941  United Kingdom        165.36  \n199477       0.85       14947  United Kingdom         20.40  \n199478       0.95       14947  United Kingdom         11.40  \n199479       0.85       14947  United Kingdom         10.20  ",
      "text/html": "<div>\n<style scoped>\n    .dataframe tbody tr th:only-of-type {\n        vertical-align: middle;\n    }\n\n    .dataframe tbody tr th {\n        vertical-align: top;\n    }\n\n    .dataframe thead th {\n        text-align: right;\n    }\n</style>\n<table border=\"1\" class=\"dataframe\">\n  <thead>\n    <tr style=\"text-align: right;\">\n      <th></th>\n      <th>Unnamed: 0</th>\n      <th>InvoiceNo</th>\n      <th>StockCode</th>\n      <th>year</th>\n      <th>month</th>\n      <th>day</th>\n      <th>hour</th>\n      <th>Description</th>\n      <th>Quantity</th>\n      <th>InvoiceDate</th>\n      <th>UnitPrice</th>\n      <th>CustomerID</th>\n      <th>Country</th>\n      <th>amount_spent</th>\n    </tr>\n  </thead>\n  <tbody>\n    <tr>\n      <th>199475</th>\n      <td>285421</td>\n      <td>561904</td>\n      <td>22075</td>\n      <td>2011</td>\n      <td>8</td>\n      <td>1</td>\n      <td>8</td>\n      <td>6 ribbons elegant christmas</td>\n      <td>96</td>\n      <td>2011-08-01 08:30:00</td>\n      <td>1.45</td>\n      <td>17941</td>\n      <td>United Kingdom</td>\n      <td>139.20</td>\n    </tr>\n    <tr>\n      <th>199476</th>\n      <td>285422</td>\n      <td>561904</td>\n      <td>85049E</td>\n      <td>2011</td>\n      <td>8</td>\n      <td>1</td>\n      <td>8</td>\n      <td>scandinavian reds ribbons</td>\n      <td>156</td>\n      <td>2011-08-01 08:30:00</td>\n      <td>1.06</td>\n      <td>17941</td>\n      <td>United Kingdom</td>\n      <td>165.36</td>\n    </tr>\n    <tr>\n      <th>199477</th>\n      <td>285423</td>\n      <td>561905</td>\n      <td>21385</td>\n      <td>2011</td>\n      <td>8</td>\n      <td>1</td>\n      <td>9</td>\n      <td>ivory hanging decoration  heart</td>\n      <td>24</td>\n      <td>2011-08-01 09:31:00</td>\n      <td>0.85</td>\n      <td>14947</td>\n      <td>United Kingdom</td>\n      <td>20.40</td>\n    </tr>\n    <tr>\n      <th>199478</th>\n      <td>285424</td>\n      <td>561905</td>\n      <td>84970L</td>\n      <td>2011</td>\n      <td>8</td>\n      <td>1</td>\n      <td>9</td>\n      <td>single heart zinc t-light holder</td>\n      <td>12</td>\n      <td>2011-08-01 09:31:00</td>\n      <td>0.95</td>\n      <td>14947</td>\n      <td>United Kingdom</td>\n      <td>11.40</td>\n    </tr>\n    <tr>\n      <th>199479</th>\n      <td>285425</td>\n      <td>561905</td>\n      <td>84970S</td>\n      <td>2011</td>\n      <td>8</td>\n      <td>1</td>\n      <td>9</td>\n      <td>hanging heart zinc t-light holder</td>\n      <td>12</td>\n      <td>2011-08-01 09:31:00</td>\n      <td>0.85</td>\n      <td>14947</td>\n      <td>United Kingdom</td>\n      <td>10.20</td>\n    </tr>\n  </tbody>\n</table>\n</div>"
     },
     "metadata": {},
     "execution_count": 218
    }
   ],
   "source": [
    "# your answer here\n",
    "orders[orders.month == 8].head()"
   ]
  },
  {
   "cell_type": "markdown",
   "metadata": {},
   "source": [
    "#### Select how many orders are made by countries in the month of August\n",
    "##### Hint: Use value_counts()"
   ]
  },
  {
   "cell_type": "code",
   "execution_count": 280,
   "metadata": {
    "collapsed": true
   },
   "outputs": [
    {
     "output_type": "execute_result",
     "data": {
      "text/plain": "                 InvoiceNo\nCountry                   \nAustralia              107\nAustria                 88\nBelgium                194\nCanada                   5\nChannel Islands        140\nDenmark                 16\nEIRE                   593\nFinland                 61\nFrance                 569\nGermany                795\nIceland                 22\nIsrael                 171\nItaly                   95\nMalta                   55\nNetherlands            280\nNorway                  77\nPoland                  17\nPortugal                41\nSpain                  252\nSweden                  40\nSwitzerland            267\nUnited Kingdom       23105\nUnspecified             23",
      "text/html": "<div>\n<style scoped>\n    .dataframe tbody tr th:only-of-type {\n        vertical-align: middle;\n    }\n\n    .dataframe tbody tr th {\n        vertical-align: top;\n    }\n\n    .dataframe thead th {\n        text-align: right;\n    }\n</style>\n<table border=\"1\" class=\"dataframe\">\n  <thead>\n    <tr style=\"text-align: right;\">\n      <th></th>\n      <th>InvoiceNo</th>\n    </tr>\n    <tr>\n      <th>Country</th>\n      <th></th>\n    </tr>\n  </thead>\n  <tbody>\n    <tr>\n      <th>Australia</th>\n      <td>107</td>\n    </tr>\n    <tr>\n      <th>Austria</th>\n      <td>88</td>\n    </tr>\n    <tr>\n      <th>Belgium</th>\n      <td>194</td>\n    </tr>\n    <tr>\n      <th>Canada</th>\n      <td>5</td>\n    </tr>\n    <tr>\n      <th>Channel Islands</th>\n      <td>140</td>\n    </tr>\n    <tr>\n      <th>Denmark</th>\n      <td>16</td>\n    </tr>\n    <tr>\n      <th>EIRE</th>\n      <td>593</td>\n    </tr>\n    <tr>\n      <th>Finland</th>\n      <td>61</td>\n    </tr>\n    <tr>\n      <th>France</th>\n      <td>569</td>\n    </tr>\n    <tr>\n      <th>Germany</th>\n      <td>795</td>\n    </tr>\n    <tr>\n      <th>Iceland</th>\n      <td>22</td>\n    </tr>\n    <tr>\n      <th>Israel</th>\n      <td>171</td>\n    </tr>\n    <tr>\n      <th>Italy</th>\n      <td>95</td>\n    </tr>\n    <tr>\n      <th>Malta</th>\n      <td>55</td>\n    </tr>\n    <tr>\n      <th>Netherlands</th>\n      <td>280</td>\n    </tr>\n    <tr>\n      <th>Norway</th>\n      <td>77</td>\n    </tr>\n    <tr>\n      <th>Poland</th>\n      <td>17</td>\n    </tr>\n    <tr>\n      <th>Portugal</th>\n      <td>41</td>\n    </tr>\n    <tr>\n      <th>Spain</th>\n      <td>252</td>\n    </tr>\n    <tr>\n      <th>Sweden</th>\n      <td>40</td>\n    </tr>\n    <tr>\n      <th>Switzerland</th>\n      <td>267</td>\n    </tr>\n    <tr>\n      <th>United Kingdom</th>\n      <td>23105</td>\n    </tr>\n    <tr>\n      <th>Unspecified</th>\n      <td>23</td>\n    </tr>\n  </tbody>\n</table>\n</div>"
     },
     "metadata": {},
     "execution_count": 280
    }
   ],
   "source": [
    "# your answer here\n",
    "orders[orders.month == 8].groupby('Country').aggregate({'InvoiceNo':np.count_nonzero})"
   ]
  },
  {
   "cell_type": "markdown",
   "metadata": {},
   "source": [
    "#### What's the  average amount of money spent by country"
   ]
  },
  {
   "cell_type": "code",
   "execution_count": 281,
   "metadata": {
    "collapsed": true
   },
   "outputs": [
    {
     "output_type": "execute_result",
     "data": {
      "text/plain": "                      amount_spent\nCountry                           \nAustralia               116.895620\nAustria                  25.624824\nBahrain                  32.258824\nBelgium                  20.283772\nBrazil                   35.737500\nCanada                   24.280662\nChannel Islands          27.340160\nCyprus                   22.134169\nCzech Republic           33.069600\nDenmark                  49.882474\nEIRE                     36.687745\nEuropean Community       21.670833\nFinland                  32.913985\nFrance                   25.056827\nGermany                  25.311562\nGreece                   32.831172\nIceland                  23.681319\nIsrael                   29.119718\nItaly                    23.064960\nJapan                   116.561900\nLebanon                  37.641778\nLithuania                47.458857\nMalta                    24.335625\nNetherlands             120.798282\nNorway                   33.736418\nPoland                   22.226212\nPortugal                 22.872702\nRSA                      17.281207\nSaudi Arabia             16.213333\nSingapore                95.852658\nSpain                    24.779521\nSweden                   85.096075\nSwitzerland              30.642752\nUSA                      20.002179\nUnited Arab Emirates     27.974706\nUnited Kingdom           20.625073\nUnspecified              10.930615",
      "text/html": "<div>\n<style scoped>\n    .dataframe tbody tr th:only-of-type {\n        vertical-align: middle;\n    }\n\n    .dataframe tbody tr th {\n        vertical-align: top;\n    }\n\n    .dataframe thead th {\n        text-align: right;\n    }\n</style>\n<table border=\"1\" class=\"dataframe\">\n  <thead>\n    <tr style=\"text-align: right;\">\n      <th></th>\n      <th>amount_spent</th>\n    </tr>\n    <tr>\n      <th>Country</th>\n      <th></th>\n    </tr>\n  </thead>\n  <tbody>\n    <tr>\n      <th>Australia</th>\n      <td>116.895620</td>\n    </tr>\n    <tr>\n      <th>Austria</th>\n      <td>25.624824</td>\n    </tr>\n    <tr>\n      <th>Bahrain</th>\n      <td>32.258824</td>\n    </tr>\n    <tr>\n      <th>Belgium</th>\n      <td>20.283772</td>\n    </tr>\n    <tr>\n      <th>Brazil</th>\n      <td>35.737500</td>\n    </tr>\n    <tr>\n      <th>Canada</th>\n      <td>24.280662</td>\n    </tr>\n    <tr>\n      <th>Channel Islands</th>\n      <td>27.340160</td>\n    </tr>\n    <tr>\n      <th>Cyprus</th>\n      <td>22.134169</td>\n    </tr>\n    <tr>\n      <th>Czech Republic</th>\n      <td>33.069600</td>\n    </tr>\n    <tr>\n      <th>Denmark</th>\n      <td>49.882474</td>\n    </tr>\n    <tr>\n      <th>EIRE</th>\n      <td>36.687745</td>\n    </tr>\n    <tr>\n      <th>European Community</th>\n      <td>21.670833</td>\n    </tr>\n    <tr>\n      <th>Finland</th>\n      <td>32.913985</td>\n    </tr>\n    <tr>\n      <th>France</th>\n      <td>25.056827</td>\n    </tr>\n    <tr>\n      <th>Germany</th>\n      <td>25.311562</td>\n    </tr>\n    <tr>\n      <th>Greece</th>\n      <td>32.831172</td>\n    </tr>\n    <tr>\n      <th>Iceland</th>\n      <td>23.681319</td>\n    </tr>\n    <tr>\n      <th>Israel</th>\n      <td>29.119718</td>\n    </tr>\n    <tr>\n      <th>Italy</th>\n      <td>23.064960</td>\n    </tr>\n    <tr>\n      <th>Japan</th>\n      <td>116.561900</td>\n    </tr>\n    <tr>\n      <th>Lebanon</th>\n      <td>37.641778</td>\n    </tr>\n    <tr>\n      <th>Lithuania</th>\n      <td>47.458857</td>\n    </tr>\n    <tr>\n      <th>Malta</th>\n      <td>24.335625</td>\n    </tr>\n    <tr>\n      <th>Netherlands</th>\n      <td>120.798282</td>\n    </tr>\n    <tr>\n      <th>Norway</th>\n      <td>33.736418</td>\n    </tr>\n    <tr>\n      <th>Poland</th>\n      <td>22.226212</td>\n    </tr>\n    <tr>\n      <th>Portugal</th>\n      <td>22.872702</td>\n    </tr>\n    <tr>\n      <th>RSA</th>\n      <td>17.281207</td>\n    </tr>\n    <tr>\n      <th>Saudi Arabia</th>\n      <td>16.213333</td>\n    </tr>\n    <tr>\n      <th>Singapore</th>\n      <td>95.852658</td>\n    </tr>\n    <tr>\n      <th>Spain</th>\n      <td>24.779521</td>\n    </tr>\n    <tr>\n      <th>Sweden</th>\n      <td>85.096075</td>\n    </tr>\n    <tr>\n      <th>Switzerland</th>\n      <td>30.642752</td>\n    </tr>\n    <tr>\n      <th>USA</th>\n      <td>20.002179</td>\n    </tr>\n    <tr>\n      <th>United Arab Emirates</th>\n      <td>27.974706</td>\n    </tr>\n    <tr>\n      <th>United Kingdom</th>\n      <td>20.625073</td>\n    </tr>\n    <tr>\n      <th>Unspecified</th>\n      <td>10.930615</td>\n    </tr>\n  </tbody>\n</table>\n</div>"
     },
     "metadata": {},
     "execution_count": 281
    }
   ],
   "source": [
    "# your answer here\n",
    "orders.groupby('Country').aggregate({'amount_spent':np.mean})"
   ]
  },
  {
   "cell_type": "markdown",
   "metadata": {},
   "source": [
    "#### What's the most expensive item?"
   ]
  },
  {
   "cell_type": "code",
   "execution_count": 297,
   "metadata": {
    "collapsed": true
   },
   "outputs": [
    {
     "output_type": "execute_result",
     "data": {
      "text/plain": "UnitPrice    8142.75\ndtype: float64"
     },
     "metadata": {},
     "execution_count": 297
    }
   ],
   "source": [
    "# your answer here\n",
    "orders.aggregate({'UnitPrice' : np.max})"
   ]
  },
  {
   "cell_type": "markdown",
   "metadata": {},
   "source": [
    "#### What was the average amount spent per year ?"
   ]
  },
  {
   "cell_type": "code",
   "execution_count": 299,
   "metadata": {
    "collapsed": true
   },
   "outputs": [
    {
     "output_type": "execute_result",
     "data": {
      "text/plain": "      amount_spent\nyear              \n2010     21.892733\n2011     22.430074",
      "text/html": "<div>\n<style scoped>\n    .dataframe tbody tr th:only-of-type {\n        vertical-align: middle;\n    }\n\n    .dataframe tbody tr th {\n        vertical-align: top;\n    }\n\n    .dataframe thead th {\n        text-align: right;\n    }\n</style>\n<table border=\"1\" class=\"dataframe\">\n  <thead>\n    <tr style=\"text-align: right;\">\n      <th></th>\n      <th>amount_spent</th>\n    </tr>\n    <tr>\n      <th>year</th>\n      <th></th>\n    </tr>\n  </thead>\n  <tbody>\n    <tr>\n      <th>2010</th>\n      <td>21.892733</td>\n    </tr>\n    <tr>\n      <th>2011</th>\n      <td>22.430074</td>\n    </tr>\n  </tbody>\n</table>\n</div>"
     },
     "metadata": {},
     "execution_count": 299
    }
   ],
   "source": [
    "# your answer here\n",
    "orders.groupby('year').aggregate({'amount_spent':np.mean})"
   ]
  },
  {
   "cell_type": "code",
   "execution_count": null,
   "metadata": {},
   "outputs": [],
   "source": []
  }
 ],
 "metadata": {
  "anaconda-cloud": {},
  "kernelspec": {
   "display_name": "Python 3.7.6 64-bit ('anaconda3': virtualenv)",
   "language": "python",
   "name": "python37664bitanaconda3virtualenv0697af1ee67a458e9253591065064715"
  },
  "language_info": {
   "codemirror_mode": {
    "name": "ipython",
    "version": 3
   },
   "file_extension": ".py",
   "mimetype": "text/x-python",
   "name": "python",
   "nbconvert_exporter": "python",
   "pygments_lexer": "ipython3",
   "version": "3.7.6-final"
  }
 },
 "nbformat": 4,
 "nbformat_minor": 1
}